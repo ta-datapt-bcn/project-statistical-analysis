{
 "cells": [
  {
   "cell_type": "markdown",
   "metadata": {},
   "source": [
    "# Setting up workspace"
   ]
  },
  {
   "cell_type": "code",
   "execution_count": 1,
   "metadata": {
    "ExecuteTime": {
     "end_time": "2020-03-29T03:08:38.014835Z",
     "start_time": "2020-03-29T03:08:36.682588Z"
    }
   },
   "outputs": [],
   "source": [
    "import pandas as pd\n",
    "import glob\n",
    "import numpy as np\n",
    "import datetime\n",
    "import matplotlib.pyplot as plt\n",
    "import seaborn as sns\n",
    "import geopandas as gpd\n",
    "from scipy.spatial.distance import cdist\n",
    "import geopy.distance\n",
    "from geopy.geocoders import Nominatim\n",
    "geolocator = Nominatim(user_agent=\"specify_your_app_name_here\")\n",
    "import datetime\n",
    "\n"
   ]
  },
  {
   "cell_type": "markdown",
   "metadata": {},
   "source": [
    "### Datasets"
   ]
  },
  {
   "cell_type": "markdown",
   "metadata": {},
   "source": [
    "We'll be using 6 different datasets, one for each 6 last months, of data about all the `Bicing stations ACIVITY` in Barcelona from March 2019 to March 2020.\n",
    "We'll also be using one dataset which contains additional information about the `Bicing Station INFORMATION`."
   ]
  },
  {
   "cell_type": "code",
   "execution_count": 2,
   "metadata": {
    "ExecuteTime": {
     "end_time": "2020-03-29T03:08:57.300104Z",
     "start_time": "2020-03-29T03:08:38.016761Z"
    }
   },
   "outputs": [],
   "source": [
    "# We'll merge all datasets we have in the folder, since all of them have the same structure:\n",
    "\n",
    "path = 'Data'\n",
    "files = glob.glob(path + \"/activity/*.csv\")\n",
    "\n",
    "csvs = []\n",
    "\n",
    "for csv in files:\n",
    "    df = pd.read_csv(csv)\n",
    "    csvs.append(df)\n",
    "\n",
    "activity = pd.concat(csvs, axis=0, sort=False)"
   ]
  },
  {
   "cell_type": "code",
   "execution_count": 3,
   "metadata": {
    "ExecuteTime": {
     "end_time": "2020-03-29T03:08:58.747424Z",
     "start_time": "2020-03-29T03:08:57.302012Z"
    }
   },
   "outputs": [
    {
     "name": "stdout",
     "output_type": "stream",
     "text": [
      "<class 'pandas.core.frame.DataFrame'>\n",
      "Int64Index: 20135921 entries, 0 to 3398707\n",
      "Data columns (total 13 columns):\n",
      "station_id                              int64\n",
      "num_bikes_available                     int64\n",
      "num_bikes_available_types.mechanical    int64\n",
      "num_bikes_available_types.ebike         int64\n",
      "num_docks_available                     int64\n",
      "is_installed                            int64\n",
      "is_renting                              int64\n",
      "is_returning                            int64\n",
      "last_reported                           float64\n",
      "is_charging_station                     bool\n",
      "status                                  object\n",
      "last_updated                            int64\n",
      "ttl                                     int64\n",
      "dtypes: bool(1), float64(1), int64(10), object(1)\n",
      "memory usage: 2.0+ GB\n"
     ]
    }
   ],
   "source": [
    "activity.info()"
   ]
  },
  {
   "cell_type": "code",
   "execution_count": 4,
   "metadata": {
    "ExecuteTime": {
     "end_time": "2020-03-29T03:08:58.764643Z",
     "start_time": "2020-03-29T03:08:58.749150Z"
    }
   },
   "outputs": [
    {
     "data": {
      "text/html": [
       "<div>\n",
       "<style scoped>\n",
       "    .dataframe tbody tr th:only-of-type {\n",
       "        vertical-align: middle;\n",
       "    }\n",
       "\n",
       "    .dataframe tbody tr th {\n",
       "        vertical-align: top;\n",
       "    }\n",
       "\n",
       "    .dataframe thead th {\n",
       "        text-align: right;\n",
       "    }\n",
       "</style>\n",
       "<table border=\"1\" class=\"dataframe\">\n",
       "  <thead>\n",
       "    <tr style=\"text-align: right;\">\n",
       "      <th></th>\n",
       "      <th>station_id</th>\n",
       "      <th>num_bikes_available</th>\n",
       "      <th>num_bikes_available_types.mechanical</th>\n",
       "      <th>num_bikes_available_types.ebike</th>\n",
       "      <th>num_docks_available</th>\n",
       "      <th>is_installed</th>\n",
       "      <th>is_renting</th>\n",
       "      <th>is_returning</th>\n",
       "      <th>last_reported</th>\n",
       "      <th>is_charging_station</th>\n",
       "      <th>status</th>\n",
       "      <th>last_updated</th>\n",
       "      <th>ttl</th>\n",
       "    </tr>\n",
       "  </thead>\n",
       "  <tbody>\n",
       "    <tr>\n",
       "      <td>0</td>\n",
       "      <td>1</td>\n",
       "      <td>27</td>\n",
       "      <td>25</td>\n",
       "      <td>2</td>\n",
       "      <td>17</td>\n",
       "      <td>1</td>\n",
       "      <td>1</td>\n",
       "      <td>1</td>\n",
       "      <td>1.580512e+09</td>\n",
       "      <td>True</td>\n",
       "      <td>IN_SERVICE</td>\n",
       "      <td>1580511611</td>\n",
       "      <td>21</td>\n",
       "    </tr>\n",
       "    <tr>\n",
       "      <td>1</td>\n",
       "      <td>2</td>\n",
       "      <td>0</td>\n",
       "      <td>0</td>\n",
       "      <td>0</td>\n",
       "      <td>26</td>\n",
       "      <td>1</td>\n",
       "      <td>1</td>\n",
       "      <td>1</td>\n",
       "      <td>1.580511e+09</td>\n",
       "      <td>True</td>\n",
       "      <td>IN_SERVICE</td>\n",
       "      <td>1580511611</td>\n",
       "      <td>21</td>\n",
       "    </tr>\n",
       "    <tr>\n",
       "      <td>2</td>\n",
       "      <td>3</td>\n",
       "      <td>25</td>\n",
       "      <td>25</td>\n",
       "      <td>0</td>\n",
       "      <td>1</td>\n",
       "      <td>1</td>\n",
       "      <td>1</td>\n",
       "      <td>1</td>\n",
       "      <td>1.580511e+09</td>\n",
       "      <td>True</td>\n",
       "      <td>IN_SERVICE</td>\n",
       "      <td>1580511611</td>\n",
       "      <td>21</td>\n",
       "    </tr>\n",
       "    <tr>\n",
       "      <td>3</td>\n",
       "      <td>4</td>\n",
       "      <td>8</td>\n",
       "      <td>8</td>\n",
       "      <td>0</td>\n",
       "      <td>10</td>\n",
       "      <td>1</td>\n",
       "      <td>1</td>\n",
       "      <td>1</td>\n",
       "      <td>1.580511e+09</td>\n",
       "      <td>True</td>\n",
       "      <td>IN_SERVICE</td>\n",
       "      <td>1580511611</td>\n",
       "      <td>21</td>\n",
       "    </tr>\n",
       "    <tr>\n",
       "      <td>4</td>\n",
       "      <td>5</td>\n",
       "      <td>34</td>\n",
       "      <td>33</td>\n",
       "      <td>1</td>\n",
       "      <td>4</td>\n",
       "      <td>1</td>\n",
       "      <td>1</td>\n",
       "      <td>1</td>\n",
       "      <td>1.580511e+09</td>\n",
       "      <td>True</td>\n",
       "      <td>IN_SERVICE</td>\n",
       "      <td>1580511611</td>\n",
       "      <td>21</td>\n",
       "    </tr>\n",
       "  </tbody>\n",
       "</table>\n",
       "</div>"
      ],
      "text/plain": [
       "   station_id  num_bikes_available  num_bikes_available_types.mechanical  \\\n",
       "0           1                   27                                    25   \n",
       "1           2                    0                                     0   \n",
       "2           3                   25                                    25   \n",
       "3           4                    8                                     8   \n",
       "4           5                   34                                    33   \n",
       "\n",
       "   num_bikes_available_types.ebike  num_docks_available  is_installed  \\\n",
       "0                                2                   17             1   \n",
       "1                                0                   26             1   \n",
       "2                                0                    1             1   \n",
       "3                                0                   10             1   \n",
       "4                                1                    4             1   \n",
       "\n",
       "   is_renting  is_returning  last_reported  is_charging_station      status  \\\n",
       "0           1             1   1.580512e+09                 True  IN_SERVICE   \n",
       "1           1             1   1.580511e+09                 True  IN_SERVICE   \n",
       "2           1             1   1.580511e+09                 True  IN_SERVICE   \n",
       "3           1             1   1.580511e+09                 True  IN_SERVICE   \n",
       "4           1             1   1.580511e+09                 True  IN_SERVICE   \n",
       "\n",
       "   last_updated  ttl  \n",
       "0    1580511611   21  \n",
       "1    1580511611   21  \n",
       "2    1580511611   21  \n",
       "3    1580511611   21  \n",
       "4    1580511611   21  "
      ]
     },
     "execution_count": 4,
     "metadata": {},
     "output_type": "execute_result"
    }
   ],
   "source": [
    "activity.head()"
   ]
  },
  {
   "cell_type": "markdown",
   "metadata": {},
   "source": [
    "For the `Bicing Station INFORMATION` dataframe, we'll import it from a JSON file:"
   ]
  },
  {
   "cell_type": "code",
   "execution_count": 5,
   "metadata": {
    "ExecuteTime": {
     "end_time": "2020-03-29T03:08:58.779810Z",
     "start_time": "2020-03-29T03:08:58.766412Z"
    }
   },
   "outputs": [],
   "source": [
    "info = pd.read_json('Data/station_information.json')"
   ]
  },
  {
   "cell_type": "code",
   "execution_count": 6,
   "metadata": {
    "ExecuteTime": {
     "end_time": "2020-03-29T03:08:58.828343Z",
     "start_time": "2020-03-29T03:08:58.781359Z"
    }
   },
   "outputs": [
    {
     "data": {
      "text/html": [
       "<div>\n",
       "<style scoped>\n",
       "    .dataframe tbody tr th:only-of-type {\n",
       "        vertical-align: middle;\n",
       "    }\n",
       "\n",
       "    .dataframe tbody tr th {\n",
       "        vertical-align: top;\n",
       "    }\n",
       "\n",
       "    .dataframe thead th {\n",
       "        text-align: right;\n",
       "    }\n",
       "</style>\n",
       "<table border=\"1\" class=\"dataframe\">\n",
       "  <thead>\n",
       "    <tr style=\"text-align: right;\">\n",
       "      <th></th>\n",
       "      <th>last_updated</th>\n",
       "      <th>ttl</th>\n",
       "      <th>data</th>\n",
       "    </tr>\n",
       "  </thead>\n",
       "  <tbody>\n",
       "    <tr>\n",
       "      <td>stations</td>\n",
       "      <td>1585388305</td>\n",
       "      <td>25</td>\n",
       "      <td>[{'station_id': 1, 'name': 'GRAN VIA CORTS CAT...</td>\n",
       "    </tr>\n",
       "  </tbody>\n",
       "</table>\n",
       "</div>"
      ],
      "text/plain": [
       "          last_updated  ttl                                               data\n",
       "stations    1585388305   25  [{'station_id': 1, 'name': 'GRAN VIA CORTS CAT..."
      ]
     },
     "execution_count": 6,
     "metadata": {},
     "output_type": "execute_result"
    }
   ],
   "source": [
    "info.head()"
   ]
  },
  {
   "cell_type": "markdown",
   "metadata": {
    "ExecuteTime": {
     "end_time": "2020-03-27T14:57:06.804298Z",
     "start_time": "2020-03-27T14:57:06.792917Z"
    }
   },
   "source": [
    "The info that we need comes in form of a dictionary in the `'data'` column:"
   ]
  },
  {
   "cell_type": "code",
   "execution_count": 7,
   "metadata": {
    "ExecuteTime": {
     "end_time": "2020-03-29T03:08:58.854346Z",
     "start_time": "2020-03-29T03:08:58.829981Z"
    }
   },
   "outputs": [
    {
     "data": {
      "text/html": [
       "<div>\n",
       "<style scoped>\n",
       "    .dataframe tbody tr th:only-of-type {\n",
       "        vertical-align: middle;\n",
       "    }\n",
       "\n",
       "    .dataframe tbody tr th {\n",
       "        vertical-align: top;\n",
       "    }\n",
       "\n",
       "    .dataframe thead th {\n",
       "        text-align: right;\n",
       "    }\n",
       "</style>\n",
       "<table border=\"1\" class=\"dataframe\">\n",
       "  <thead>\n",
       "    <tr style=\"text-align: right;\">\n",
       "      <th></th>\n",
       "      <th>name</th>\n",
       "      <th>physical_configuration</th>\n",
       "      <th>lat</th>\n",
       "      <th>lon</th>\n",
       "      <th>altitude</th>\n",
       "      <th>address</th>\n",
       "      <th>post_code</th>\n",
       "      <th>capacity</th>\n",
       "      <th>nearby_distance</th>\n",
       "      <th>cross_street</th>\n",
       "    </tr>\n",
       "    <tr>\n",
       "      <th>station_id</th>\n",
       "      <th></th>\n",
       "      <th></th>\n",
       "      <th></th>\n",
       "      <th></th>\n",
       "      <th></th>\n",
       "      <th></th>\n",
       "      <th></th>\n",
       "      <th></th>\n",
       "      <th></th>\n",
       "      <th></th>\n",
       "    </tr>\n",
       "  </thead>\n",
       "  <tbody>\n",
       "    <tr>\n",
       "      <td>1</td>\n",
       "      <td>GRAN VIA CORTS CATALANES, 760</td>\n",
       "      <td>ELECTRICBIKESTATION</td>\n",
       "      <td>41.397952</td>\n",
       "      <td>2.180042</td>\n",
       "      <td>21.0</td>\n",
       "      <td>GRAN VIA CORTS CATALANES, 760</td>\n",
       "      <td>08908</td>\n",
       "      <td>46</td>\n",
       "      <td>1000.0</td>\n",
       "      <td>NaN</td>\n",
       "    </tr>\n",
       "    <tr>\n",
       "      <td>2</td>\n",
       "      <td>C/ ROGER DE FLOR, 126</td>\n",
       "      <td>ELECTRICBIKESTATION</td>\n",
       "      <td>41.395530</td>\n",
       "      <td>2.177060</td>\n",
       "      <td>21.0</td>\n",
       "      <td>C/ ROGER DE FLOR, 126</td>\n",
       "      <td>08908</td>\n",
       "      <td>27</td>\n",
       "      <td>1000.0</td>\n",
       "      <td>NaN</td>\n",
       "    </tr>\n",
       "    <tr>\n",
       "      <td>3</td>\n",
       "      <td>C/ NÀPOLS, 82</td>\n",
       "      <td>ELECTRICBIKESTATION</td>\n",
       "      <td>41.394055</td>\n",
       "      <td>2.181299</td>\n",
       "      <td>22.0</td>\n",
       "      <td>C/ NÀPOLS, 82</td>\n",
       "      <td>08908</td>\n",
       "      <td>27</td>\n",
       "      <td>1000.0</td>\n",
       "      <td>NaN</td>\n",
       "    </tr>\n",
       "    <tr>\n",
       "      <td>4</td>\n",
       "      <td>C/ RIBES, 13</td>\n",
       "      <td>ELECTRICBIKESTATION</td>\n",
       "      <td>41.393480</td>\n",
       "      <td>2.181555</td>\n",
       "      <td>21.0</td>\n",
       "      <td>C/ RIBES, 13</td>\n",
       "      <td>08908</td>\n",
       "      <td>21</td>\n",
       "      <td>1000.0</td>\n",
       "      <td>NaN</td>\n",
       "    </tr>\n",
       "    <tr>\n",
       "      <td>5</td>\n",
       "      <td>PG. LLUIS COMPANYS, 11 (ARC TRIOMF)</td>\n",
       "      <td>ELECTRICBIKESTATION</td>\n",
       "      <td>41.391075</td>\n",
       "      <td>2.180223</td>\n",
       "      <td>16.0</td>\n",
       "      <td>PG. LLUIS COMPANYS, 11 (ARC TRIOMF)</td>\n",
       "      <td>08908</td>\n",
       "      <td>39</td>\n",
       "      <td>1000.0</td>\n",
       "      <td>NaN</td>\n",
       "    </tr>\n",
       "    <tr>\n",
       "      <td>...</td>\n",
       "      <td>...</td>\n",
       "      <td>...</td>\n",
       "      <td>...</td>\n",
       "      <td>...</td>\n",
       "      <td>...</td>\n",
       "      <td>...</td>\n",
       "      <td>...</td>\n",
       "      <td>...</td>\n",
       "      <td>...</td>\n",
       "      <td>...</td>\n",
       "    </tr>\n",
       "    <tr>\n",
       "      <td>495</td>\n",
       "      <td>C/ DIPUTACIÓ - TARRAGONA</td>\n",
       "      <td>ELECTRICBIKESTATION</td>\n",
       "      <td>41.376708</td>\n",
       "      <td>2.148395</td>\n",
       "      <td>45.0</td>\n",
       "      <td>C/ DIPUTACIÓ - TARRAGONA</td>\n",
       "      <td>08908</td>\n",
       "      <td>24</td>\n",
       "      <td>1000.0</td>\n",
       "      <td>NaN</td>\n",
       "    </tr>\n",
       "    <tr>\n",
       "      <td>496</td>\n",
       "      <td>C/ PROVENÇA,  445</td>\n",
       "      <td>ELECTRICBIKESTATION</td>\n",
       "      <td>41.404839</td>\n",
       "      <td>2.174820</td>\n",
       "      <td>21.0</td>\n",
       "      <td>C/ PROVENÇA, 445</td>\n",
       "      <td>1</td>\n",
       "      <td>18</td>\n",
       "      <td>1000.0</td>\n",
       "      <td>NaN</td>\n",
       "    </tr>\n",
       "    <tr>\n",
       "      <td>507</td>\n",
       "      <td>C/ SARDENYA, 494</td>\n",
       "      <td>ELECTRICBIKESTATION</td>\n",
       "      <td>41.410764</td>\n",
       "      <td>2.164096</td>\n",
       "      <td>0.0</td>\n",
       "      <td>C/ SARDENYA, 494</td>\n",
       "      <td>08024</td>\n",
       "      <td>24</td>\n",
       "      <td>1000.0</td>\n",
       "      <td>NaN</td>\n",
       "    </tr>\n",
       "    <tr>\n",
       "      <td>508</td>\n",
       "      <td>C/ SARDENYA, 465</td>\n",
       "      <td>ELECTRICBIKESTATION</td>\n",
       "      <td>41.409092</td>\n",
       "      <td>2.165637</td>\n",
       "      <td>0.0</td>\n",
       "      <td>C/ SARDENYA, 465</td>\n",
       "      <td>08025</td>\n",
       "      <td>27</td>\n",
       "      <td>1000.0</td>\n",
       "      <td>NaN</td>\n",
       "    </tr>\n",
       "    <tr>\n",
       "      <td>516</td>\n",
       "      <td>C/ SANT ADRIÀ, 88</td>\n",
       "      <td>ELECTRICBIKESTATION</td>\n",
       "      <td>41.435460</td>\n",
       "      <td>2.200156</td>\n",
       "      <td>0.0</td>\n",
       "      <td>C/ SANT ADRIÀ, 88</td>\n",
       "      <td>08030</td>\n",
       "      <td>21</td>\n",
       "      <td>1000.0</td>\n",
       "      <td>NaN</td>\n",
       "    </tr>\n",
       "  </tbody>\n",
       "</table>\n",
       "<p>445 rows × 10 columns</p>\n",
       "</div>"
      ],
      "text/plain": [
       "                                           name physical_configuration  \\\n",
       "station_id                                                               \n",
       "1                 GRAN VIA CORTS CATALANES, 760    ELECTRICBIKESTATION   \n",
       "2                         C/ ROGER DE FLOR, 126    ELECTRICBIKESTATION   \n",
       "3                                 C/ NÀPOLS, 82    ELECTRICBIKESTATION   \n",
       "4                                  C/ RIBES, 13    ELECTRICBIKESTATION   \n",
       "5           PG. LLUIS COMPANYS, 11 (ARC TRIOMF)    ELECTRICBIKESTATION   \n",
       "...                                         ...                    ...   \n",
       "495                    C/ DIPUTACIÓ - TARRAGONA    ELECTRICBIKESTATION   \n",
       "496                           C/ PROVENÇA,  445    ELECTRICBIKESTATION   \n",
       "507                            C/ SARDENYA, 494    ELECTRICBIKESTATION   \n",
       "508                            C/ SARDENYA, 465    ELECTRICBIKESTATION   \n",
       "516                           C/ SANT ADRIÀ, 88    ELECTRICBIKESTATION   \n",
       "\n",
       "                  lat       lon  altitude  \\\n",
       "station_id                                  \n",
       "1           41.397952  2.180042      21.0   \n",
       "2           41.395530  2.177060      21.0   \n",
       "3           41.394055  2.181299      22.0   \n",
       "4           41.393480  2.181555      21.0   \n",
       "5           41.391075  2.180223      16.0   \n",
       "...               ...       ...       ...   \n",
       "495         41.376708  2.148395      45.0   \n",
       "496         41.404839  2.174820      21.0   \n",
       "507         41.410764  2.164096       0.0   \n",
       "508         41.409092  2.165637       0.0   \n",
       "516         41.435460  2.200156       0.0   \n",
       "\n",
       "                                        address post_code  capacity  \\\n",
       "station_id                                                            \n",
       "1                 GRAN VIA CORTS CATALANES, 760     08908        46   \n",
       "2                         C/ ROGER DE FLOR, 126     08908        27   \n",
       "3                                 C/ NÀPOLS, 82     08908        27   \n",
       "4                                  C/ RIBES, 13     08908        21   \n",
       "5           PG. LLUIS COMPANYS, 11 (ARC TRIOMF)     08908        39   \n",
       "...                                         ...       ...       ...   \n",
       "495                    C/ DIPUTACIÓ - TARRAGONA     08908        24   \n",
       "496                            C/ PROVENÇA, 445         1        18   \n",
       "507                            C/ SARDENYA, 494     08024        24   \n",
       "508                            C/ SARDENYA, 465     08025        27   \n",
       "516                           C/ SANT ADRIÀ, 88     08030        21   \n",
       "\n",
       "            nearby_distance cross_street  \n",
       "station_id                                \n",
       "1                    1000.0          NaN  \n",
       "2                    1000.0          NaN  \n",
       "3                    1000.0          NaN  \n",
       "4                    1000.0          NaN  \n",
       "5                    1000.0          NaN  \n",
       "...                     ...          ...  \n",
       "495                  1000.0          NaN  \n",
       "496                  1000.0          NaN  \n",
       "507                  1000.0          NaN  \n",
       "508                  1000.0          NaN  \n",
       "516                  1000.0          NaN  \n",
       "\n",
       "[445 rows x 10 columns]"
      ]
     },
     "execution_count": 7,
     "metadata": {},
     "output_type": "execute_result"
    }
   ],
   "source": [
    "data = info.data.values[0]\n",
    "\n",
    "info = pd.DataFrame.from_dict(data)\n",
    "\n",
    "info.set_index('station_id')"
   ]
  },
  {
   "cell_type": "code",
   "execution_count": 8,
   "metadata": {
    "ExecuteTime": {
     "end_time": "2020-03-29T03:08:58.871515Z",
     "start_time": "2020-03-29T03:08:58.857046Z"
    }
   },
   "outputs": [
    {
     "data": {
      "text/html": [
       "<div>\n",
       "<style scoped>\n",
       "    .dataframe tbody tr th:only-of-type {\n",
       "        vertical-align: middle;\n",
       "    }\n",
       "\n",
       "    .dataframe tbody tr th {\n",
       "        vertical-align: top;\n",
       "    }\n",
       "\n",
       "    .dataframe thead th {\n",
       "        text-align: right;\n",
       "    }\n",
       "</style>\n",
       "<table border=\"1\" class=\"dataframe\">\n",
       "  <thead>\n",
       "    <tr style=\"text-align: right;\">\n",
       "      <th></th>\n",
       "      <th>station_id</th>\n",
       "      <th>name</th>\n",
       "      <th>physical_configuration</th>\n",
       "      <th>lat</th>\n",
       "      <th>lon</th>\n",
       "      <th>altitude</th>\n",
       "      <th>address</th>\n",
       "      <th>post_code</th>\n",
       "      <th>capacity</th>\n",
       "      <th>nearby_distance</th>\n",
       "      <th>cross_street</th>\n",
       "    </tr>\n",
       "  </thead>\n",
       "  <tbody>\n",
       "    <tr>\n",
       "      <td>0</td>\n",
       "      <td>1</td>\n",
       "      <td>GRAN VIA CORTS CATALANES, 760</td>\n",
       "      <td>ELECTRICBIKESTATION</td>\n",
       "      <td>41.397952</td>\n",
       "      <td>2.180042</td>\n",
       "      <td>21.0</td>\n",
       "      <td>GRAN VIA CORTS CATALANES, 760</td>\n",
       "      <td>08908</td>\n",
       "      <td>46</td>\n",
       "      <td>1000.0</td>\n",
       "      <td>NaN</td>\n",
       "    </tr>\n",
       "    <tr>\n",
       "      <td>1</td>\n",
       "      <td>2</td>\n",
       "      <td>C/ ROGER DE FLOR, 126</td>\n",
       "      <td>ELECTRICBIKESTATION</td>\n",
       "      <td>41.395530</td>\n",
       "      <td>2.177060</td>\n",
       "      <td>21.0</td>\n",
       "      <td>C/ ROGER DE FLOR, 126</td>\n",
       "      <td>08908</td>\n",
       "      <td>27</td>\n",
       "      <td>1000.0</td>\n",
       "      <td>NaN</td>\n",
       "    </tr>\n",
       "    <tr>\n",
       "      <td>2</td>\n",
       "      <td>3</td>\n",
       "      <td>C/ NÀPOLS, 82</td>\n",
       "      <td>ELECTRICBIKESTATION</td>\n",
       "      <td>41.394055</td>\n",
       "      <td>2.181299</td>\n",
       "      <td>22.0</td>\n",
       "      <td>C/ NÀPOLS, 82</td>\n",
       "      <td>08908</td>\n",
       "      <td>27</td>\n",
       "      <td>1000.0</td>\n",
       "      <td>NaN</td>\n",
       "    </tr>\n",
       "    <tr>\n",
       "      <td>3</td>\n",
       "      <td>4</td>\n",
       "      <td>C/ RIBES, 13</td>\n",
       "      <td>ELECTRICBIKESTATION</td>\n",
       "      <td>41.393480</td>\n",
       "      <td>2.181555</td>\n",
       "      <td>21.0</td>\n",
       "      <td>C/ RIBES, 13</td>\n",
       "      <td>08908</td>\n",
       "      <td>21</td>\n",
       "      <td>1000.0</td>\n",
       "      <td>NaN</td>\n",
       "    </tr>\n",
       "    <tr>\n",
       "      <td>4</td>\n",
       "      <td>5</td>\n",
       "      <td>PG. LLUIS COMPANYS, 11 (ARC TRIOMF)</td>\n",
       "      <td>ELECTRICBIKESTATION</td>\n",
       "      <td>41.391075</td>\n",
       "      <td>2.180223</td>\n",
       "      <td>16.0</td>\n",
       "      <td>PG. LLUIS COMPANYS, 11 (ARC TRIOMF)</td>\n",
       "      <td>08908</td>\n",
       "      <td>39</td>\n",
       "      <td>1000.0</td>\n",
       "      <td>NaN</td>\n",
       "    </tr>\n",
       "  </tbody>\n",
       "</table>\n",
       "</div>"
      ],
      "text/plain": [
       "   station_id                                 name physical_configuration  \\\n",
       "0           1        GRAN VIA CORTS CATALANES, 760    ELECTRICBIKESTATION   \n",
       "1           2                C/ ROGER DE FLOR, 126    ELECTRICBIKESTATION   \n",
       "2           3                        C/ NÀPOLS, 82    ELECTRICBIKESTATION   \n",
       "3           4                         C/ RIBES, 13    ELECTRICBIKESTATION   \n",
       "4           5  PG. LLUIS COMPANYS, 11 (ARC TRIOMF)    ELECTRICBIKESTATION   \n",
       "\n",
       "         lat       lon  altitude                              address  \\\n",
       "0  41.397952  2.180042      21.0        GRAN VIA CORTS CATALANES, 760   \n",
       "1  41.395530  2.177060      21.0                C/ ROGER DE FLOR, 126   \n",
       "2  41.394055  2.181299      22.0                        C/ NÀPOLS, 82   \n",
       "3  41.393480  2.181555      21.0                         C/ RIBES, 13   \n",
       "4  41.391075  2.180223      16.0  PG. LLUIS COMPANYS, 11 (ARC TRIOMF)   \n",
       "\n",
       "  post_code  capacity  nearby_distance cross_street  \n",
       "0     08908        46           1000.0          NaN  \n",
       "1     08908        27           1000.0          NaN  \n",
       "2     08908        27           1000.0          NaN  \n",
       "3     08908        21           1000.0          NaN  \n",
       "4     08908        39           1000.0          NaN  "
      ]
     },
     "execution_count": 8,
     "metadata": {},
     "output_type": "execute_result"
    }
   ],
   "source": [
    "info.head()"
   ]
  },
  {
   "cell_type": "code",
   "execution_count": 9,
   "metadata": {
    "ExecuteTime": {
     "end_time": "2020-03-29T03:08:58.877296Z",
     "start_time": "2020-03-29T03:08:58.873669Z"
    }
   },
   "outputs": [
    {
     "data": {
      "text/plain": [
       "Index(['station_id', 'name', 'physical_configuration', 'lat', 'lon',\n",
       "       'altitude', 'address', 'post_code', 'capacity', 'nearby_distance',\n",
       "       'cross_street'],\n",
       "      dtype='object')"
      ]
     },
     "execution_count": 9,
     "metadata": {},
     "output_type": "execute_result"
    }
   ],
   "source": [
    "info.columns"
   ]
  },
  {
   "cell_type": "markdown",
   "metadata": {},
   "source": [
    "We have a Dataset including the neighborhood name in every Bicing Station, so we'll join this `NOM` column to the `info` dataset later on, joining by `station_id`."
   ]
  },
  {
   "cell_type": "code",
   "execution_count": 10,
   "metadata": {
    "ExecuteTime": {
     "end_time": "2020-03-29T03:08:58.891445Z",
     "start_time": "2020-03-29T03:08:58.878899Z"
    }
   },
   "outputs": [],
   "source": [
    "neighbourhoods = pd.read_csv('Data/bicing_por_barrios.csv', index_col='station_id')"
   ]
  },
  {
   "cell_type": "code",
   "execution_count": 11,
   "metadata": {
    "ExecuteTime": {
     "end_time": "2020-03-29T03:08:58.901088Z",
     "start_time": "2020-03-29T03:08:58.893273Z"
    }
   },
   "outputs": [
    {
     "data": {
      "text/html": [
       "<div>\n",
       "<style scoped>\n",
       "    .dataframe tbody tr th:only-of-type {\n",
       "        vertical-align: middle;\n",
       "    }\n",
       "\n",
       "    .dataframe tbody tr th {\n",
       "        vertical-align: top;\n",
       "    }\n",
       "\n",
       "    .dataframe thead th {\n",
       "        text-align: right;\n",
       "    }\n",
       "</style>\n",
       "<table border=\"1\" class=\"dataframe\">\n",
       "  <thead>\n",
       "    <tr style=\"text-align: right;\">\n",
       "      <th></th>\n",
       "      <th>Unnamed: 0</th>\n",
       "      <th>name</th>\n",
       "      <th>BARRI</th>\n",
       "      <th>NOM</th>\n",
       "    </tr>\n",
       "    <tr>\n",
       "      <th>station_id</th>\n",
       "      <th></th>\n",
       "      <th></th>\n",
       "      <th></th>\n",
       "      <th></th>\n",
       "    </tr>\n",
       "  </thead>\n",
       "  <tbody>\n",
       "    <tr>\n",
       "      <td>1</td>\n",
       "      <td>0</td>\n",
       "      <td>GRAN VIA CORTS CATALANES, 760</td>\n",
       "      <td>5</td>\n",
       "      <td>el Fort Pienc</td>\n",
       "    </tr>\n",
       "    <tr>\n",
       "      <td>2</td>\n",
       "      <td>1</td>\n",
       "      <td>C/ ROGER DE FLOR, 126</td>\n",
       "      <td>5</td>\n",
       "      <td>el Fort Pienc</td>\n",
       "    </tr>\n",
       "    <tr>\n",
       "      <td>3</td>\n",
       "      <td>2</td>\n",
       "      <td>C/ NÀPOLS, 82</td>\n",
       "      <td>5</td>\n",
       "      <td>el Fort Pienc</td>\n",
       "    </tr>\n",
       "    <tr>\n",
       "      <td>4</td>\n",
       "      <td>3</td>\n",
       "      <td>C/ RIBES, 13</td>\n",
       "      <td>5</td>\n",
       "      <td>el Fort Pienc</td>\n",
       "    </tr>\n",
       "    <tr>\n",
       "      <td>17</td>\n",
       "      <td>14</td>\n",
       "      <td>AV. MERIDIANA, 47 (ANNEXA A LA 16)</td>\n",
       "      <td>5</td>\n",
       "      <td>el Fort Pienc</td>\n",
       "    </tr>\n",
       "  </tbody>\n",
       "</table>\n",
       "</div>"
      ],
      "text/plain": [
       "            Unnamed: 0                                name  BARRI  \\\n",
       "station_id                                                          \n",
       "1                    0       GRAN VIA CORTS CATALANES, 760      5   \n",
       "2                    1               C/ ROGER DE FLOR, 126      5   \n",
       "3                    2                       C/ NÀPOLS, 82      5   \n",
       "4                    3                        C/ RIBES, 13      5   \n",
       "17                  14  AV. MERIDIANA, 47 (ANNEXA A LA 16)      5   \n",
       "\n",
       "                      NOM  \n",
       "station_id                 \n",
       "1           el Fort Pienc  \n",
       "2           el Fort Pienc  \n",
       "3           el Fort Pienc  \n",
       "4           el Fort Pienc  \n",
       "17          el Fort Pienc  "
      ]
     },
     "execution_count": 11,
     "metadata": {},
     "output_type": "execute_result"
    }
   ],
   "source": [
    "neighbourhoods.head()"
   ]
  },
  {
   "cell_type": "markdown",
   "metadata": {},
   "source": [
    "We'll also use a dataset containing the index of the wealth of Barcelona citizens, and the total population, distributed by neighbourhoods. Data from 2017:"
   ]
  },
  {
   "cell_type": "code",
   "execution_count": 12,
   "metadata": {
    "ExecuteTime": {
     "end_time": "2020-03-29T03:08:58.907140Z",
     "start_time": "2020-03-29T03:08:58.902628Z"
    }
   },
   "outputs": [],
   "source": [
    "rfd = pd.read_csv('Data/rfd_index.csv')"
   ]
  },
  {
   "cell_type": "code",
   "execution_count": 13,
   "metadata": {
    "ExecuteTime": {
     "end_time": "2020-03-29T03:08:58.917159Z",
     "start_time": "2020-03-29T03:08:58.908783Z"
    }
   },
   "outputs": [
    {
     "data": {
      "text/html": [
       "<div>\n",
       "<style scoped>\n",
       "    .dataframe tbody tr th:only-of-type {\n",
       "        vertical-align: middle;\n",
       "    }\n",
       "\n",
       "    .dataframe tbody tr th {\n",
       "        vertical-align: top;\n",
       "    }\n",
       "\n",
       "    .dataframe thead th {\n",
       "        text-align: right;\n",
       "    }\n",
       "</style>\n",
       "<table border=\"1\" class=\"dataframe\">\n",
       "  <thead>\n",
       "    <tr style=\"text-align: right;\">\n",
       "      <th></th>\n",
       "      <th>Any</th>\n",
       "      <th>Codi_Districte</th>\n",
       "      <th>Nom_Districte</th>\n",
       "      <th>Codi_Barri</th>\n",
       "      <th>Nom_Barri</th>\n",
       "      <th>Població</th>\n",
       "      <th>Índex RFD Barcelona = 100</th>\n",
       "    </tr>\n",
       "  </thead>\n",
       "  <tbody>\n",
       "    <tr>\n",
       "      <td>0</td>\n",
       "      <td>2017</td>\n",
       "      <td>1</td>\n",
       "      <td>Ciutat Vella</td>\n",
       "      <td>1</td>\n",
       "      <td>el Raval</td>\n",
       "      <td>47986</td>\n",
       "      <td>71.2</td>\n",
       "    </tr>\n",
       "    <tr>\n",
       "      <td>1</td>\n",
       "      <td>2017</td>\n",
       "      <td>1</td>\n",
       "      <td>Ciutat Vella</td>\n",
       "      <td>2</td>\n",
       "      <td>el Barri Gòtic</td>\n",
       "      <td>16240</td>\n",
       "      <td>106.1</td>\n",
       "    </tr>\n",
       "    <tr>\n",
       "      <td>2</td>\n",
       "      <td>2017</td>\n",
       "      <td>1</td>\n",
       "      <td>Ciutat Vella</td>\n",
       "      <td>3</td>\n",
       "      <td>la Barceloneta</td>\n",
       "      <td>15101</td>\n",
       "      <td>79.6</td>\n",
       "    </tr>\n",
       "    <tr>\n",
       "      <td>3</td>\n",
       "      <td>2017</td>\n",
       "      <td>1</td>\n",
       "      <td>Ciutat Vella</td>\n",
       "      <td>4</td>\n",
       "      <td>Sant Pere, Santa Caterina i la Ribera</td>\n",
       "      <td>22923</td>\n",
       "      <td>99.4</td>\n",
       "    </tr>\n",
       "    <tr>\n",
       "      <td>4</td>\n",
       "      <td>2017</td>\n",
       "      <td>2</td>\n",
       "      <td>Eixample</td>\n",
       "      <td>5</td>\n",
       "      <td>el Fort Pienc</td>\n",
       "      <td>32048</td>\n",
       "      <td>106.5</td>\n",
       "    </tr>\n",
       "  </tbody>\n",
       "</table>\n",
       "</div>"
      ],
      "text/plain": [
       "    Any  Codi_Districte Nom_Districte  Codi_Barri  \\\n",
       "0  2017               1  Ciutat Vella           1   \n",
       "1  2017               1  Ciutat Vella           2   \n",
       "2  2017               1  Ciutat Vella           3   \n",
       "3  2017               1  Ciutat Vella           4   \n",
       "4  2017               2      Eixample           5   \n",
       "\n",
       "                               Nom_Barri  Població  Índex RFD Barcelona = 100  \n",
       "0                               el Raval     47986                       71.2  \n",
       "1                         el Barri Gòtic     16240                      106.1  \n",
       "2                         la Barceloneta     15101                       79.6  \n",
       "3  Sant Pere, Santa Caterina i la Ribera     22923                       99.4  \n",
       "4                          el Fort Pienc     32048                      106.5  "
      ]
     },
     "execution_count": 13,
     "metadata": {},
     "output_type": "execute_result"
    }
   ],
   "source": [
    "rfd.head(5)"
   ]
  },
  {
   "cell_type": "markdown",
   "metadata": {},
   "source": [
    "# Analyzing and manipulating the datasets"
   ]
  },
  {
   "cell_type": "markdown",
   "metadata": {},
   "source": [
    "We're analyzing all the information the columns of our datasets are giving us:"
   ]
  },
  {
   "cell_type": "markdown",
   "metadata": {},
   "source": [
    "### Bicing Stations ACTIVITY:"
   ]
  },
  {
   "cell_type": "markdown",
   "metadata": {},
   "source": [
    "- 1. `station_id`: Unique id of the Bicing station. This is a shared column with the one in the `info` dataset.\n",
    "- 2. `num_bikes_available`: Number of bikes (both mechanical and electrical) available to withdraw\n",
    "- 3. `num_bikes_available_types.mechanical`: Subset of `num_bikes_available` indicating mechanical ones\n",
    "- 4. `num_bikes_available_types.ebike`: Subset of `num_bikes_available` indicating electrical ones\n",
    "- 5. `num_docks_available`: Number of slots available to deposit any kind of bikes\n",
    "- 6. `is_installed`: 0 or 1 (T/F) if the station is operative.\n",
    "- 7. `is_renting`: 0 or 1 (T/F) if the station is operative.\n",
    "- 8. `is_returning`: 0 or 1 (T/F) if the station is operative.\n",
    "- 9. `last_reported`: Timestamp of the last movement in the station\n",
    "- 10. `is_charging_station`: T/F if the station has charging capabilities.\n",
    "- 11. `status`: Current status of the station\n",
    "- 12. `last_updated`: Timestamp of the moment when the station sent the update to the server.\n",
    "- 13. `ttl`: Some communication protocol metric, not useful for us"
   ]
  },
  {
   "cell_type": "markdown",
   "metadata": {
    "ExecuteTime": {
     "end_time": "2020-03-28T15:07:26.644278Z",
     "start_time": "2020-03-28T15:07:26.637993Z"
    }
   },
   "source": [
    "The following changes will be made:\n",
    "\n",
    "- Renaming the columns:\n",
    " - `num_bikes_available` to `total_available`.\n",
    " - `num_bikes_available_types.mechanical` to `bikes` \n",
    " - `num_bikes_available_types.ebike` to `ebikes`\n",
    " - `num_docks_available` to `empty_slots`\n",
    " - `last_reported`to `time`\n",
    " \n",
    "- Dropping columns:\n",
    " - `is_charging_station`: All our entries contain a 1, so we assume all stations are the same type\n",
    " - `last_updated`: The time where the server got updated is not valuable for us\n",
    " - `ttl`: This is a metric which is not useful for us\n",
    " \n",
    "- Adding column:\n",
    " - `capacity`: This will be the sum of `total_available` + `empty_slots`, which will tell the total capacity of the station\n",
    " - `p_bike`: This column computes the % chance (0-1) of getting a bike (`total_available` / `capacity`)\n",
    " - `p_slot`: This column computes the % chance (0-1) of be able to deposit a bike (1- `p_bike`)\n",
    "\n"
   ]
  },
  {
   "cell_type": "code",
   "execution_count": 14,
   "metadata": {
    "ExecuteTime": {
     "end_time": "2020-03-29T03:09:00.276137Z",
     "start_time": "2020-03-29T03:08:58.918720Z"
    }
   },
   "outputs": [],
   "source": [
    "activity.drop(columns=['is_charging_station', 'last_updated', 'ttl'], inplace= True)"
   ]
  },
  {
   "cell_type": "code",
   "execution_count": 15,
   "metadata": {
    "ExecuteTime": {
     "end_time": "2020-03-29T03:11:10.691426Z",
     "start_time": "2020-03-29T03:09:00.277754Z"
    }
   },
   "outputs": [],
   "source": [
    "activity['last_reported'] = pd.to_datetime(activity.last_reported, unit='s')"
   ]
  },
  {
   "cell_type": "code",
   "execution_count": 16,
   "metadata": {
    "ExecuteTime": {
     "end_time": "2020-03-29T03:11:10.696934Z",
     "start_time": "2020-03-29T03:11:10.693280Z"
    }
   },
   "outputs": [],
   "source": [
    "activity.columns = ['station_id', 'total_available', 'bikes', 'ebikes', 'empty_slots', 'is_installed', 'is_renting',\n",
    "                    'is_returning', 'last_reported', 'status']"
   ]
  },
  {
   "cell_type": "code",
   "execution_count": 17,
   "metadata": {
    "ExecuteTime": {
     "end_time": "2020-03-29T03:11:10.903190Z",
     "start_time": "2020-03-29T03:11:10.698883Z"
    }
   },
   "outputs": [],
   "source": [
    "activity['capacity'] = round(activity.total_available + activity.empty_slots, 2)"
   ]
  },
  {
   "cell_type": "code",
   "execution_count": 18,
   "metadata": {
    "ExecuteTime": {
     "end_time": "2020-03-29T03:11:11.364154Z",
     "start_time": "2020-03-29T03:11:10.905695Z"
    }
   },
   "outputs": [],
   "source": [
    "activity['p_bike'] = round(activity.total_available / activity.capacity, 2)"
   ]
  },
  {
   "cell_type": "code",
   "execution_count": 19,
   "metadata": {
    "ExecuteTime": {
     "end_time": "2020-03-29T03:11:11.813115Z",
     "start_time": "2020-03-29T03:11:11.366804Z"
    }
   },
   "outputs": [],
   "source": [
    "activity['p_slot'] = round(1 - activity.p_bike, 2)"
   ]
  },
  {
   "cell_type": "markdown",
   "metadata": {},
   "source": [
    "We've seen that there are some rows without information, and they could bias our analysis:"
   ]
  },
  {
   "cell_type": "code",
   "execution_count": 79,
   "metadata": {
    "ExecuteTime": {
     "end_time": "2020-03-29T03:35:04.552559Z",
     "start_time": "2020-03-29T03:35:04.491494Z"
    }
   },
   "outputs": [
    {
     "data": {
      "text/html": [
       "<div>\n",
       "<style scoped>\n",
       "    .dataframe tbody tr th:only-of-type {\n",
       "        vertical-align: middle;\n",
       "    }\n",
       "\n",
       "    .dataframe tbody tr th {\n",
       "        vertical-align: top;\n",
       "    }\n",
       "\n",
       "    .dataframe thead th {\n",
       "        text-align: right;\n",
       "    }\n",
       "</style>\n",
       "<table border=\"1\" class=\"dataframe\">\n",
       "  <thead>\n",
       "    <tr style=\"text-align: right;\">\n",
       "      <th></th>\n",
       "      <th>station_id</th>\n",
       "      <th>total_available</th>\n",
       "      <th>bikes</th>\n",
       "      <th>ebikes</th>\n",
       "      <th>empty_slots</th>\n",
       "      <th>is_installed</th>\n",
       "      <th>is_renting</th>\n",
       "      <th>is_returning</th>\n",
       "      <th>last_reported</th>\n",
       "      <th>status</th>\n",
       "      <th>capacity</th>\n",
       "      <th>p_bike</th>\n",
       "      <th>p_slot</th>\n",
       "    </tr>\n",
       "  </thead>\n",
       "  <tbody>\n",
       "    <tr>\n",
       "      <td>1382499</td>\n",
       "      <td>520</td>\n",
       "      <td>0</td>\n",
       "      <td>0</td>\n",
       "      <td>0</td>\n",
       "      <td>0</td>\n",
       "      <td>0</td>\n",
       "      <td>0</td>\n",
       "      <td>0</td>\n",
       "      <td>1970-01-01</td>\n",
       "      <td>PLANNED</td>\n",
       "      <td>0</td>\n",
       "      <td>NaN</td>\n",
       "      <td>NaN</td>\n",
       "    </tr>\n",
       "    <tr>\n",
       "      <td>1474631</td>\n",
       "      <td>523</td>\n",
       "      <td>0</td>\n",
       "      <td>0</td>\n",
       "      <td>0</td>\n",
       "      <td>0</td>\n",
       "      <td>0</td>\n",
       "      <td>0</td>\n",
       "      <td>0</td>\n",
       "      <td>1970-01-01</td>\n",
       "      <td>PLANNED</td>\n",
       "      <td>0</td>\n",
       "      <td>NaN</td>\n",
       "      <td>NaN</td>\n",
       "    </tr>\n",
       "    <tr>\n",
       "      <td>1972557</td>\n",
       "      <td>43</td>\n",
       "      <td>0</td>\n",
       "      <td>0</td>\n",
       "      <td>0</td>\n",
       "      <td>0</td>\n",
       "      <td>1</td>\n",
       "      <td>1</td>\n",
       "      <td>1</td>\n",
       "      <td>1970-01-01</td>\n",
       "      <td>IN_SERVICE</td>\n",
       "      <td>0</td>\n",
       "      <td>NaN</td>\n",
       "      <td>NaN</td>\n",
       "    </tr>\n",
       "    <tr>\n",
       "      <td>2096389</td>\n",
       "      <td>482</td>\n",
       "      <td>0</td>\n",
       "      <td>0</td>\n",
       "      <td>0</td>\n",
       "      <td>0</td>\n",
       "      <td>1</td>\n",
       "      <td>1</td>\n",
       "      <td>1</td>\n",
       "      <td>1970-01-01</td>\n",
       "      <td>IN_SERVICE</td>\n",
       "      <td>0</td>\n",
       "      <td>NaN</td>\n",
       "      <td>NaN</td>\n",
       "    </tr>\n",
       "    <tr>\n",
       "      <td>2096808</td>\n",
       "      <td>482</td>\n",
       "      <td>0</td>\n",
       "      <td>0</td>\n",
       "      <td>0</td>\n",
       "      <td>0</td>\n",
       "      <td>1</td>\n",
       "      <td>1</td>\n",
       "      <td>1</td>\n",
       "      <td>1970-01-01</td>\n",
       "      <td>IN_SERVICE</td>\n",
       "      <td>0</td>\n",
       "      <td>NaN</td>\n",
       "      <td>NaN</td>\n",
       "    </tr>\n",
       "    <tr>\n",
       "      <td>...</td>\n",
       "      <td>...</td>\n",
       "      <td>...</td>\n",
       "      <td>...</td>\n",
       "      <td>...</td>\n",
       "      <td>...</td>\n",
       "      <td>...</td>\n",
       "      <td>...</td>\n",
       "      <td>...</td>\n",
       "      <td>...</td>\n",
       "      <td>...</td>\n",
       "      <td>...</td>\n",
       "      <td>...</td>\n",
       "      <td>...</td>\n",
       "    </tr>\n",
       "    <tr>\n",
       "      <td>2318704</td>\n",
       "      <td>479</td>\n",
       "      <td>0</td>\n",
       "      <td>0</td>\n",
       "      <td>0</td>\n",
       "      <td>0</td>\n",
       "      <td>0</td>\n",
       "      <td>0</td>\n",
       "      <td>0</td>\n",
       "      <td>1970-01-01</td>\n",
       "      <td>PLANNED</td>\n",
       "      <td>0</td>\n",
       "      <td>NaN</td>\n",
       "      <td>NaN</td>\n",
       "    </tr>\n",
       "    <tr>\n",
       "      <td>2319115</td>\n",
       "      <td>469</td>\n",
       "      <td>0</td>\n",
       "      <td>0</td>\n",
       "      <td>0</td>\n",
       "      <td>0</td>\n",
       "      <td>0</td>\n",
       "      <td>0</td>\n",
       "      <td>0</td>\n",
       "      <td>1970-01-01</td>\n",
       "      <td>PLANNED</td>\n",
       "      <td>0</td>\n",
       "      <td>NaN</td>\n",
       "      <td>NaN</td>\n",
       "    </tr>\n",
       "    <tr>\n",
       "      <td>2319119</td>\n",
       "      <td>479</td>\n",
       "      <td>0</td>\n",
       "      <td>0</td>\n",
       "      <td>0</td>\n",
       "      <td>0</td>\n",
       "      <td>0</td>\n",
       "      <td>0</td>\n",
       "      <td>0</td>\n",
       "      <td>1970-01-01</td>\n",
       "      <td>PLANNED</td>\n",
       "      <td>0</td>\n",
       "      <td>NaN</td>\n",
       "      <td>NaN</td>\n",
       "    </tr>\n",
       "    <tr>\n",
       "      <td>2319530</td>\n",
       "      <td>469</td>\n",
       "      <td>0</td>\n",
       "      <td>0</td>\n",
       "      <td>0</td>\n",
       "      <td>0</td>\n",
       "      <td>0</td>\n",
       "      <td>0</td>\n",
       "      <td>0</td>\n",
       "      <td>1970-01-01</td>\n",
       "      <td>PLANNED</td>\n",
       "      <td>0</td>\n",
       "      <td>NaN</td>\n",
       "      <td>NaN</td>\n",
       "    </tr>\n",
       "    <tr>\n",
       "      <td>2319534</td>\n",
       "      <td>479</td>\n",
       "      <td>0</td>\n",
       "      <td>0</td>\n",
       "      <td>0</td>\n",
       "      <td>0</td>\n",
       "      <td>0</td>\n",
       "      <td>0</td>\n",
       "      <td>0</td>\n",
       "      <td>1970-01-01</td>\n",
       "      <td>PLANNED</td>\n",
       "      <td>0</td>\n",
       "      <td>NaN</td>\n",
       "      <td>NaN</td>\n",
       "    </tr>\n",
       "  </tbody>\n",
       "</table>\n",
       "<p>450 rows × 13 columns</p>\n",
       "</div>"
      ],
      "text/plain": [
       "         station_id  total_available  bikes  ebikes  empty_slots  \\\n",
       "1382499         520                0      0       0            0   \n",
       "1474631         523                0      0       0            0   \n",
       "1972557          43                0      0       0            0   \n",
       "2096389         482                0      0       0            0   \n",
       "2096808         482                0      0       0            0   \n",
       "...             ...              ...    ...     ...          ...   \n",
       "2318704         479                0      0       0            0   \n",
       "2319115         469                0      0       0            0   \n",
       "2319119         479                0      0       0            0   \n",
       "2319530         469                0      0       0            0   \n",
       "2319534         479                0      0       0            0   \n",
       "\n",
       "         is_installed  is_renting  is_returning last_reported      status  \\\n",
       "1382499             0           0             0    1970-01-01     PLANNED   \n",
       "1474631             0           0             0    1970-01-01     PLANNED   \n",
       "1972557             1           1             1    1970-01-01  IN_SERVICE   \n",
       "2096389             1           1             1    1970-01-01  IN_SERVICE   \n",
       "2096808             1           1             1    1970-01-01  IN_SERVICE   \n",
       "...               ...         ...           ...           ...         ...   \n",
       "2318704             0           0             0    1970-01-01     PLANNED   \n",
       "2319115             0           0             0    1970-01-01     PLANNED   \n",
       "2319119             0           0             0    1970-01-01     PLANNED   \n",
       "2319530             0           0             0    1970-01-01     PLANNED   \n",
       "2319534             0           0             0    1970-01-01     PLANNED   \n",
       "\n",
       "         capacity  p_bike  p_slot  \n",
       "1382499         0     NaN     NaN  \n",
       "1474631         0     NaN     NaN  \n",
       "1972557         0     NaN     NaN  \n",
       "2096389         0     NaN     NaN  \n",
       "2096808         0     NaN     NaN  \n",
       "...           ...     ...     ...  \n",
       "2318704         0     NaN     NaN  \n",
       "2319115         0     NaN     NaN  \n",
       "2319119         0     NaN     NaN  \n",
       "2319530         0     NaN     NaN  \n",
       "2319534         0     NaN     NaN  \n",
       "\n",
       "[450 rows x 13 columns]"
      ]
     },
     "execution_count": 79,
     "metadata": {},
     "output_type": "execute_result"
    }
   ],
   "source": [
    "activity[activity['last_reported'] < '2000']"
   ]
  },
  {
   "cell_type": "code",
   "execution_count": 81,
   "metadata": {
    "ExecuteTime": {
     "end_time": "2020-03-29T03:36:22.303578Z",
     "start_time": "2020-03-29T03:36:19.049555Z"
    }
   },
   "outputs": [],
   "source": [
    "# We're dropping them:\n",
    "\n",
    "activity = activity[activity['last_reported'] > '2000']\n"
   ]
  },
  {
   "cell_type": "markdown",
   "metadata": {},
   "source": [
    "### Bicing Stations INFORMATION:"
   ]
  },
  {
   "cell_type": "markdown",
   "metadata": {},
   "source": [
    " - 1. `station_id`: Unique id of the Bicing station. This is a shared column with the one in the `activity` dataset.\n",
    " - 2. `name`: Address in where the station is located\n",
    " - 3. `physical_configuration`: String which defines the kind of station.\n",
    " - 4. `lat`: Latitude of the station\n",
    " - 5. `lon`: Longitude of the station\n",
    " - 6. `alt`: Altitude of the station in meters above sea level. \n",
    " - 7. `address`: Address of the station. Since the name of the station is it's address, both columns are the same.\n",
    " - 8. `post_code`: Postal code of the district the station is located.\n",
    " - 9. `capacity`: Capacity of the station of storaging and charging bikes\n",
    " - 10. `cross_street`: Name of the street crossing the Station Name street. Not useful for us and it's mostly NA values.\n",
    " - 11. `nearby_distance`: Contains unuseful data. Mostly NA values\n"
   ]
  },
  {
   "cell_type": "markdown",
   "metadata": {},
   "source": [
    "The following changes will be made:\n",
    "\n",
    "- Dropping columns:\n",
    " - `physical_configuration`: All values are the same, which indicates all stations are the same. Not useful\n",
    " - `address`: In this case, the values of this columns are duplicated with the `name` column.\n",
    " - `post_code`: Not useful for analysis\n",
    " - `capacity`: We already have this information on `activity`\n",
    " - `cross_street`: Mostly NA values\n",
    " - `nearby_distance`: NA values.\n",
    " \n",
    " \n",
    "- Adding column:\n",
    " - `neighborhood`: We'll add this information from the `neighborhood` dataset, to facilitate analysis."
   ]
  },
  {
   "cell_type": "code",
   "execution_count": 21,
   "metadata": {
    "ExecuteTime": {
     "end_time": "2020-03-29T03:11:11.835971Z",
     "start_time": "2020-03-29T03:11:11.831611Z"
    }
   },
   "outputs": [],
   "source": [
    "info.drop(columns=['physical_configuration','address', 'post_code', 'capacity', 'cross_street', 'nearby_distance'], inplace= True)"
   ]
  },
  {
   "cell_type": "code",
   "execution_count": 22,
   "metadata": {
    "ExecuteTime": {
     "end_time": "2020-03-29T03:11:11.849311Z",
     "start_time": "2020-03-29T03:11:11.837661Z"
    }
   },
   "outputs": [
    {
     "data": {
      "text/html": [
       "<div>\n",
       "<style scoped>\n",
       "    .dataframe tbody tr th:only-of-type {\n",
       "        vertical-align: middle;\n",
       "    }\n",
       "\n",
       "    .dataframe tbody tr th {\n",
       "        vertical-align: top;\n",
       "    }\n",
       "\n",
       "    .dataframe thead th {\n",
       "        text-align: right;\n",
       "    }\n",
       "</style>\n",
       "<table border=\"1\" class=\"dataframe\">\n",
       "  <thead>\n",
       "    <tr style=\"text-align: right;\">\n",
       "      <th></th>\n",
       "      <th>station_id</th>\n",
       "      <th>name</th>\n",
       "      <th>lat</th>\n",
       "      <th>lon</th>\n",
       "      <th>altitude</th>\n",
       "    </tr>\n",
       "  </thead>\n",
       "  <tbody>\n",
       "    <tr>\n",
       "      <td>0</td>\n",
       "      <td>1</td>\n",
       "      <td>GRAN VIA CORTS CATALANES, 760</td>\n",
       "      <td>41.397952</td>\n",
       "      <td>2.180042</td>\n",
       "      <td>21.0</td>\n",
       "    </tr>\n",
       "    <tr>\n",
       "      <td>1</td>\n",
       "      <td>2</td>\n",
       "      <td>C/ ROGER DE FLOR, 126</td>\n",
       "      <td>41.395530</td>\n",
       "      <td>2.177060</td>\n",
       "      <td>21.0</td>\n",
       "    </tr>\n",
       "  </tbody>\n",
       "</table>\n",
       "</div>"
      ],
      "text/plain": [
       "   station_id                           name        lat       lon  altitude\n",
       "0           1  GRAN VIA CORTS CATALANES, 760  41.397952  2.180042      21.0\n",
       "1           2          C/ ROGER DE FLOR, 126  41.395530  2.177060      21.0"
      ]
     },
     "execution_count": 22,
     "metadata": {},
     "output_type": "execute_result"
    }
   ],
   "source": [
    "info.head(2)"
   ]
  },
  {
   "cell_type": "code",
   "execution_count": 23,
   "metadata": {
    "ExecuteTime": {
     "end_time": "2020-03-29T03:11:11.863783Z",
     "start_time": "2020-03-29T03:11:11.854336Z"
    }
   },
   "outputs": [],
   "source": [
    "info = info.join(neighbourhoods[['NOM', 'BARRI']], on='station_id', how='left')"
   ]
  },
  {
   "cell_type": "code",
   "execution_count": 24,
   "metadata": {
    "ExecuteTime": {
     "end_time": "2020-03-29T03:11:11.872214Z",
     "start_time": "2020-03-29T03:11:11.867736Z"
    }
   },
   "outputs": [
    {
     "data": {
      "text/plain": [
       "Index(['station_id', 'name', 'lat', 'lon', 'altitude', 'NOM', 'BARRI'], dtype='object')"
      ]
     },
     "execution_count": 24,
     "metadata": {},
     "output_type": "execute_result"
    }
   ],
   "source": [
    "info.columns"
   ]
  },
  {
   "cell_type": "code",
   "execution_count": 25,
   "metadata": {
    "ExecuteTime": {
     "end_time": "2020-03-29T03:11:11.879259Z",
     "start_time": "2020-03-29T03:11:11.874801Z"
    }
   },
   "outputs": [],
   "source": [
    "info.columns = ['station_id', 'name', 'lat', 'lon', 'altitude', 'neigh', 'neigh_code']"
   ]
  },
  {
   "cell_type": "code",
   "execution_count": 26,
   "metadata": {
    "ExecuteTime": {
     "end_time": "2020-03-29T03:11:11.894830Z",
     "start_time": "2020-03-29T03:11:11.881727Z"
    }
   },
   "outputs": [
    {
     "data": {
      "text/html": [
       "<div>\n",
       "<style scoped>\n",
       "    .dataframe tbody tr th:only-of-type {\n",
       "        vertical-align: middle;\n",
       "    }\n",
       "\n",
       "    .dataframe tbody tr th {\n",
       "        vertical-align: top;\n",
       "    }\n",
       "\n",
       "    .dataframe thead th {\n",
       "        text-align: right;\n",
       "    }\n",
       "</style>\n",
       "<table border=\"1\" class=\"dataframe\">\n",
       "  <thead>\n",
       "    <tr style=\"text-align: right;\">\n",
       "      <th></th>\n",
       "      <th>station_id</th>\n",
       "      <th>name</th>\n",
       "      <th>lat</th>\n",
       "      <th>lon</th>\n",
       "      <th>altitude</th>\n",
       "      <th>neigh</th>\n",
       "      <th>neigh_code</th>\n",
       "    </tr>\n",
       "  </thead>\n",
       "  <tbody>\n",
       "    <tr>\n",
       "      <td>0</td>\n",
       "      <td>1</td>\n",
       "      <td>GRAN VIA CORTS CATALANES, 760</td>\n",
       "      <td>41.397952</td>\n",
       "      <td>2.180042</td>\n",
       "      <td>21.0</td>\n",
       "      <td>el Fort Pienc</td>\n",
       "      <td>5</td>\n",
       "    </tr>\n",
       "    <tr>\n",
       "      <td>1</td>\n",
       "      <td>2</td>\n",
       "      <td>C/ ROGER DE FLOR, 126</td>\n",
       "      <td>41.395530</td>\n",
       "      <td>2.177060</td>\n",
       "      <td>21.0</td>\n",
       "      <td>el Fort Pienc</td>\n",
       "      <td>5</td>\n",
       "    </tr>\n",
       "    <tr>\n",
       "      <td>2</td>\n",
       "      <td>3</td>\n",
       "      <td>C/ NÀPOLS, 82</td>\n",
       "      <td>41.394055</td>\n",
       "      <td>2.181299</td>\n",
       "      <td>22.0</td>\n",
       "      <td>el Fort Pienc</td>\n",
       "      <td>5</td>\n",
       "    </tr>\n",
       "    <tr>\n",
       "      <td>3</td>\n",
       "      <td>4</td>\n",
       "      <td>C/ RIBES, 13</td>\n",
       "      <td>41.393480</td>\n",
       "      <td>2.181555</td>\n",
       "      <td>21.0</td>\n",
       "      <td>el Fort Pienc</td>\n",
       "      <td>5</td>\n",
       "    </tr>\n",
       "    <tr>\n",
       "      <td>4</td>\n",
       "      <td>5</td>\n",
       "      <td>PG. LLUIS COMPANYS, 11 (ARC TRIOMF)</td>\n",
       "      <td>41.391075</td>\n",
       "      <td>2.180223</td>\n",
       "      <td>16.0</td>\n",
       "      <td>Sant Pere, Santa Caterina i la Ribera</td>\n",
       "      <td>4</td>\n",
       "    </tr>\n",
       "  </tbody>\n",
       "</table>\n",
       "</div>"
      ],
      "text/plain": [
       "   station_id                                 name        lat       lon  \\\n",
       "0           1        GRAN VIA CORTS CATALANES, 760  41.397952  2.180042   \n",
       "1           2                C/ ROGER DE FLOR, 126  41.395530  2.177060   \n",
       "2           3                        C/ NÀPOLS, 82  41.394055  2.181299   \n",
       "3           4                         C/ RIBES, 13  41.393480  2.181555   \n",
       "4           5  PG. LLUIS COMPANYS, 11 (ARC TRIOMF)  41.391075  2.180223   \n",
       "\n",
       "   altitude                                  neigh  neigh_code  \n",
       "0      21.0                          el Fort Pienc           5  \n",
       "1      21.0                          el Fort Pienc           5  \n",
       "2      22.0                          el Fort Pienc           5  \n",
       "3      21.0                          el Fort Pienc           5  \n",
       "4      16.0  Sant Pere, Santa Caterina i la Ribera           4  "
      ]
     },
     "execution_count": 26,
     "metadata": {},
     "output_type": "execute_result"
    }
   ],
   "source": [
    "info.head(5)"
   ]
  },
  {
   "cell_type": "markdown",
   "metadata": {},
   "source": [
    "### Barcelona RFD index:"
   ]
  },
  {
   "cell_type": "markdown",
   "metadata": {},
   "source": [
    "In this case, we'll stick to four columns which are useful for us:\n",
    " - `Nom_Districte`: Name of the Barcelona district (higher level). We'll rename it to `district`\n",
    " - `Codi_Barri`: The code of the neighborhood. We'll keep it for accessing. Renaming it to `neigh_code`\n",
    " - `Nom_Barri`: Name of the neighborhood. We'll rename it to `neigh`.\n",
    " - `Població`: Population on the neighborhood. New name is `pop`.\n",
    " - `Índex RFD Barcelona = 100`: Index of wealthness of the population. We'll rename it to `wealth`\n",
    " \n",
    "We're adding the following column:\n",
    " - `%pop`: Percentage of the population of Barcelona on the corresponding neighborhood\n",
    " - `norm_wealth`: We'll normalize the wealth index (0 poorest - 1 richest) and rename it to `norm_wealth`"
   ]
  },
  {
   "cell_type": "code",
   "execution_count": 27,
   "metadata": {
    "ExecuteTime": {
     "end_time": "2020-03-29T03:11:11.907073Z",
     "start_time": "2020-03-29T03:11:11.896522Z"
    }
   },
   "outputs": [
    {
     "data": {
      "text/html": [
       "<div>\n",
       "<style scoped>\n",
       "    .dataframe tbody tr th:only-of-type {\n",
       "        vertical-align: middle;\n",
       "    }\n",
       "\n",
       "    .dataframe tbody tr th {\n",
       "        vertical-align: top;\n",
       "    }\n",
       "\n",
       "    .dataframe thead th {\n",
       "        text-align: right;\n",
       "    }\n",
       "</style>\n",
       "<table border=\"1\" class=\"dataframe\">\n",
       "  <thead>\n",
       "    <tr style=\"text-align: right;\">\n",
       "      <th></th>\n",
       "      <th>Any</th>\n",
       "      <th>Codi_Districte</th>\n",
       "      <th>Nom_Districte</th>\n",
       "      <th>Codi_Barri</th>\n",
       "      <th>Nom_Barri</th>\n",
       "      <th>Població</th>\n",
       "      <th>Índex RFD Barcelona = 100</th>\n",
       "    </tr>\n",
       "  </thead>\n",
       "  <tbody>\n",
       "    <tr>\n",
       "      <td>0</td>\n",
       "      <td>2017</td>\n",
       "      <td>1</td>\n",
       "      <td>Ciutat Vella</td>\n",
       "      <td>1</td>\n",
       "      <td>el Raval</td>\n",
       "      <td>47986</td>\n",
       "      <td>71.2</td>\n",
       "    </tr>\n",
       "    <tr>\n",
       "      <td>1</td>\n",
       "      <td>2017</td>\n",
       "      <td>1</td>\n",
       "      <td>Ciutat Vella</td>\n",
       "      <td>2</td>\n",
       "      <td>el Barri Gòtic</td>\n",
       "      <td>16240</td>\n",
       "      <td>106.1</td>\n",
       "    </tr>\n",
       "  </tbody>\n",
       "</table>\n",
       "</div>"
      ],
      "text/plain": [
       "    Any  Codi_Districte Nom_Districte  Codi_Barri       Nom_Barri  Població  \\\n",
       "0  2017               1  Ciutat Vella           1        el Raval     47986   \n",
       "1  2017               1  Ciutat Vella           2  el Barri Gòtic     16240   \n",
       "\n",
       "   Índex RFD Barcelona = 100  \n",
       "0                       71.2  \n",
       "1                      106.1  "
      ]
     },
     "execution_count": 27,
     "metadata": {},
     "output_type": "execute_result"
    }
   ],
   "source": [
    "rfd.head(2)"
   ]
  },
  {
   "cell_type": "code",
   "execution_count": 28,
   "metadata": {
    "ExecuteTime": {
     "end_time": "2020-03-29T03:11:11.914044Z",
     "start_time": "2020-03-29T03:11:11.909656Z"
    }
   },
   "outputs": [],
   "source": [
    "rfd.drop(columns=['Any', 'Codi_Districte'], inplace= True)"
   ]
  },
  {
   "cell_type": "code",
   "execution_count": 29,
   "metadata": {
    "ExecuteTime": {
     "end_time": "2020-03-29T03:11:11.919571Z",
     "start_time": "2020-03-29T03:11:11.916113Z"
    }
   },
   "outputs": [],
   "source": [
    "rfd.columns = ['district', 'neigh_code', 'neigh', 'pop', 'wealth']"
   ]
  },
  {
   "cell_type": "code",
   "execution_count": 30,
   "metadata": {
    "ExecuteTime": {
     "end_time": "2020-03-29T03:11:11.929433Z",
     "start_time": "2020-03-29T03:11:11.921312Z"
    }
   },
   "outputs": [],
   "source": [
    "rfd['norm_wealth'] =  round((rfd.wealth - rfd.wealth.min()) / (rfd.wealth.max() - rfd.wealth.min()), 3)"
   ]
  },
  {
   "cell_type": "code",
   "execution_count": 31,
   "metadata": {
    "ExecuteTime": {
     "end_time": "2020-03-29T03:11:11.936927Z",
     "start_time": "2020-03-29T03:11:11.931609Z"
    }
   },
   "outputs": [],
   "source": [
    "total_pop = rfd['pop'].sum()\n",
    "\n",
    "rfd['%pop'] = rfd['pop'] / total_pop"
   ]
  },
  {
   "cell_type": "code",
   "execution_count": 32,
   "metadata": {
    "ExecuteTime": {
     "end_time": "2020-03-29T03:11:11.953323Z",
     "start_time": "2020-03-29T03:11:11.939170Z"
    }
   },
   "outputs": [
    {
     "data": {
      "text/html": [
       "<div>\n",
       "<style scoped>\n",
       "    .dataframe tbody tr th:only-of-type {\n",
       "        vertical-align: middle;\n",
       "    }\n",
       "\n",
       "    .dataframe tbody tr th {\n",
       "        vertical-align: top;\n",
       "    }\n",
       "\n",
       "    .dataframe thead th {\n",
       "        text-align: right;\n",
       "    }\n",
       "</style>\n",
       "<table border=\"1\" class=\"dataframe\">\n",
       "  <thead>\n",
       "    <tr style=\"text-align: right;\">\n",
       "      <th></th>\n",
       "      <th>district</th>\n",
       "      <th>neigh_code</th>\n",
       "      <th>neigh</th>\n",
       "      <th>pop</th>\n",
       "      <th>wealth</th>\n",
       "      <th>norm_wealth</th>\n",
       "      <th>%pop</th>\n",
       "    </tr>\n",
       "  </thead>\n",
       "  <tbody>\n",
       "    <tr>\n",
       "      <td>0</td>\n",
       "      <td>Ciutat Vella</td>\n",
       "      <td>1</td>\n",
       "      <td>el Raval</td>\n",
       "      <td>47986</td>\n",
       "      <td>71.2</td>\n",
       "      <td>0.155</td>\n",
       "      <td>0.029527</td>\n",
       "    </tr>\n",
       "    <tr>\n",
       "      <td>1</td>\n",
       "      <td>Ciutat Vella</td>\n",
       "      <td>2</td>\n",
       "      <td>el Barri Gòtic</td>\n",
       "      <td>16240</td>\n",
       "      <td>106.1</td>\n",
       "      <td>0.321</td>\n",
       "      <td>0.009993</td>\n",
       "    </tr>\n",
       "    <tr>\n",
       "      <td>2</td>\n",
       "      <td>Ciutat Vella</td>\n",
       "      <td>3</td>\n",
       "      <td>la Barceloneta</td>\n",
       "      <td>15101</td>\n",
       "      <td>79.6</td>\n",
       "      <td>0.195</td>\n",
       "      <td>0.009292</td>\n",
       "    </tr>\n",
       "    <tr>\n",
       "      <td>3</td>\n",
       "      <td>Ciutat Vella</td>\n",
       "      <td>4</td>\n",
       "      <td>Sant Pere, Santa Caterina i la Ribera</td>\n",
       "      <td>22923</td>\n",
       "      <td>99.4</td>\n",
       "      <td>0.289</td>\n",
       "      <td>0.014105</td>\n",
       "    </tr>\n",
       "    <tr>\n",
       "      <td>4</td>\n",
       "      <td>Eixample</td>\n",
       "      <td>5</td>\n",
       "      <td>el Fort Pienc</td>\n",
       "      <td>32048</td>\n",
       "      <td>106.5</td>\n",
       "      <td>0.323</td>\n",
       "      <td>0.019720</td>\n",
       "    </tr>\n",
       "  </tbody>\n",
       "</table>\n",
       "</div>"
      ],
      "text/plain": [
       "       district  neigh_code                                  neigh    pop  \\\n",
       "0  Ciutat Vella           1                               el Raval  47986   \n",
       "1  Ciutat Vella           2                         el Barri Gòtic  16240   \n",
       "2  Ciutat Vella           3                         la Barceloneta  15101   \n",
       "3  Ciutat Vella           4  Sant Pere, Santa Caterina i la Ribera  22923   \n",
       "4      Eixample           5                          el Fort Pienc  32048   \n",
       "\n",
       "   wealth  norm_wealth      %pop  \n",
       "0    71.2        0.155  0.029527  \n",
       "1   106.1        0.321  0.009993  \n",
       "2    79.6        0.195  0.009292  \n",
       "3    99.4        0.289  0.014105  \n",
       "4   106.5        0.323  0.019720  "
      ]
     },
     "execution_count": 32,
     "metadata": {},
     "output_type": "execute_result"
    }
   ],
   "source": [
    "rfd.head()"
   ]
  },
  {
   "cell_type": "markdown",
   "metadata": {},
   "source": [
    "### Counting NA's"
   ]
  },
  {
   "cell_type": "code",
   "execution_count": 33,
   "metadata": {
    "ExecuteTime": {
     "end_time": "2020-03-29T03:11:11.960920Z",
     "start_time": "2020-03-29T03:11:11.955186Z"
    }
   },
   "outputs": [],
   "source": [
    "def df_total_na(df):\n",
    "    '''\n",
    "    Returns the percentage of total NULL values in the dataset\n",
    "    '''\n",
    "    total_obs = df.count().sum()\n",
    "    total_nas = df.isna().sum().sum()\n",
    "    nas_percentage = total_nas *100 / total_obs\n",
    "    \n",
    "    print(f'Our dataset has {round(nas_percentage, 2)}% missing values overall' )"
   ]
  },
  {
   "cell_type": "code",
   "execution_count": 34,
   "metadata": {
    "ExecuteTime": {
     "end_time": "2020-03-29T03:11:11.967425Z",
     "start_time": "2020-03-29T03:11:11.963150Z"
    }
   },
   "outputs": [],
   "source": [
    "def column_nulls_percentage(df):\n",
    "    '''\n",
    "    Returns a series indicating percentage of NULLS per column\n",
    "    '''\n",
    "    # .mean() gets the NULL values and divides it by the total length of the column\n",
    "    \n",
    "    return df.isna().mean().round(4) * 100"
   ]
  },
  {
   "cell_type": "code",
   "execution_count": 35,
   "metadata": {
    "ExecuteTime": {
     "end_time": "2020-03-29T03:11:20.414935Z",
     "start_time": "2020-03-29T03:11:11.969379Z"
    }
   },
   "outputs": [
    {
     "name": "stdout",
     "output_type": "stream",
     "text": [
      "Our dataset has 0.02% missing values overall\n",
      "None\n",
      "Our dataset has 0.0% missing values overall\n",
      "None\n",
      "Our dataset has 0.0% missing values overall\n",
      "None\n"
     ]
    }
   ],
   "source": [
    "print(df_total_na(activity))\n",
    "print(df_total_na(info))\n",
    "print(df_total_na(neighbourhoods))"
   ]
  },
  {
   "cell_type": "markdown",
   "metadata": {},
   "source": []
  },
  {
   "cell_type": "markdown",
   "metadata": {
    "ExecuteTime": {
     "end_time": "2020-03-28T13:12:58.782395Z",
     "start_time": "2020-03-28T13:12:58.759236Z"
    }
   },
   "source": [
    "# EDA"
   ]
  },
  {
   "cell_type": "markdown",
   "metadata": {},
   "source": [
    "We'll be extracting some useful information from the Datasets we built:"
   ]
  },
  {
   "cell_type": "code",
   "execution_count": 36,
   "metadata": {
    "ExecuteTime": {
     "end_time": "2020-03-29T03:11:33.555201Z",
     "start_time": "2020-03-29T03:11:20.416787Z"
    }
   },
   "outputs": [
    {
     "data": {
      "text/html": [
       "<div>\n",
       "<style scoped>\n",
       "    .dataframe tbody tr th:only-of-type {\n",
       "        vertical-align: middle;\n",
       "    }\n",
       "\n",
       "    .dataframe tbody tr th {\n",
       "        vertical-align: top;\n",
       "    }\n",
       "\n",
       "    .dataframe thead th {\n",
       "        text-align: right;\n",
       "    }\n",
       "</style>\n",
       "<table border=\"1\" class=\"dataframe\">\n",
       "  <thead>\n",
       "    <tr style=\"text-align: right;\">\n",
       "      <th></th>\n",
       "      <th>station_id</th>\n",
       "      <th>total_available</th>\n",
       "      <th>bikes</th>\n",
       "      <th>ebikes</th>\n",
       "      <th>empty_slots</th>\n",
       "      <th>is_installed</th>\n",
       "      <th>is_renting</th>\n",
       "      <th>is_returning</th>\n",
       "      <th>capacity</th>\n",
       "      <th>p_bike</th>\n",
       "      <th>p_slot</th>\n",
       "    </tr>\n",
       "  </thead>\n",
       "  <tbody>\n",
       "    <tr>\n",
       "      <td>count</td>\n",
       "      <td>20135921.00</td>\n",
       "      <td>20135921.00</td>\n",
       "      <td>20135921.00</td>\n",
       "      <td>20135921.00</td>\n",
       "      <td>20135921.00</td>\n",
       "      <td>20135921.00</td>\n",
       "      <td>20135921.00</td>\n",
       "      <td>20135921.00</td>\n",
       "      <td>20135921.00</td>\n",
       "      <td>20112612.00</td>\n",
       "      <td>20112612.00</td>\n",
       "    </tr>\n",
       "    <tr>\n",
       "      <td>mean</td>\n",
       "      <td>218.61</td>\n",
       "      <td>9.74</td>\n",
       "      <td>8.98</td>\n",
       "      <td>1.05</td>\n",
       "      <td>15.52</td>\n",
       "      <td>0.99</td>\n",
       "      <td>0.97</td>\n",
       "      <td>0.97</td>\n",
       "      <td>25.26</td>\n",
       "      <td>0.38</td>\n",
       "      <td>0.62</td>\n",
       "    </tr>\n",
       "    <tr>\n",
       "      <td>std</td>\n",
       "      <td>126.14</td>\n",
       "      <td>8.87</td>\n",
       "      <td>8.67</td>\n",
       "      <td>1.99</td>\n",
       "      <td>9.11</td>\n",
       "      <td>0.11</td>\n",
       "      <td>0.18</td>\n",
       "      <td>0.18</td>\n",
       "      <td>6.05</td>\n",
       "      <td>0.33</td>\n",
       "      <td>0.33</td>\n",
       "    </tr>\n",
       "    <tr>\n",
       "      <td>min</td>\n",
       "      <td>1.00</td>\n",
       "      <td>-1.00</td>\n",
       "      <td>-1.00</td>\n",
       "      <td>0.00</td>\n",
       "      <td>0.00</td>\n",
       "      <td>0.00</td>\n",
       "      <td>0.00</td>\n",
       "      <td>0.00</td>\n",
       "      <td>0.00</td>\n",
       "      <td>-0.08</td>\n",
       "      <td>0.00</td>\n",
       "    </tr>\n",
       "    <tr>\n",
       "      <td>25%</td>\n",
       "      <td>111.00</td>\n",
       "      <td>2.00</td>\n",
       "      <td>1.00</td>\n",
       "      <td>0.00</td>\n",
       "      <td>8.00</td>\n",
       "      <td>1.00</td>\n",
       "      <td>1.00</td>\n",
       "      <td>1.00</td>\n",
       "      <td>22.00</td>\n",
       "      <td>0.07</td>\n",
       "      <td>0.35</td>\n",
       "    </tr>\n",
       "    <tr>\n",
       "      <td>50%</td>\n",
       "      <td>218.00</td>\n",
       "      <td>8.00</td>\n",
       "      <td>7.00</td>\n",
       "      <td>0.00</td>\n",
       "      <td>16.00</td>\n",
       "      <td>1.00</td>\n",
       "      <td>1.00</td>\n",
       "      <td>1.00</td>\n",
       "      <td>26.00</td>\n",
       "      <td>0.31</td>\n",
       "      <td>0.69</td>\n",
       "    </tr>\n",
       "    <tr>\n",
       "      <td>75%</td>\n",
       "      <td>323.00</td>\n",
       "      <td>16.00</td>\n",
       "      <td>15.00</td>\n",
       "      <td>1.00</td>\n",
       "      <td>23.00</td>\n",
       "      <td>1.00</td>\n",
       "      <td>1.00</td>\n",
       "      <td>1.00</td>\n",
       "      <td>27.00</td>\n",
       "      <td>0.65</td>\n",
       "      <td>0.93</td>\n",
       "    </tr>\n",
       "    <tr>\n",
       "      <td>max</td>\n",
       "      <td>527.00</td>\n",
       "      <td>54.00</td>\n",
       "      <td>54.00</td>\n",
       "      <td>32.00</td>\n",
       "      <td>54.00</td>\n",
       "      <td>1.00</td>\n",
       "      <td>1.00</td>\n",
       "      <td>1.00</td>\n",
       "      <td>54.00</td>\n",
       "      <td>1.00</td>\n",
       "      <td>1.08</td>\n",
       "    </tr>\n",
       "  </tbody>\n",
       "</table>\n",
       "</div>"
      ],
      "text/plain": [
       "        station_id  total_available        bikes       ebikes  empty_slots  \\\n",
       "count  20135921.00      20135921.00  20135921.00  20135921.00  20135921.00   \n",
       "mean        218.61             9.74         8.98         1.05        15.52   \n",
       "std         126.14             8.87         8.67         1.99         9.11   \n",
       "min           1.00            -1.00        -1.00         0.00         0.00   \n",
       "25%         111.00             2.00         1.00         0.00         8.00   \n",
       "50%         218.00             8.00         7.00         0.00        16.00   \n",
       "75%         323.00            16.00        15.00         1.00        23.00   \n",
       "max         527.00            54.00        54.00        32.00        54.00   \n",
       "\n",
       "       is_installed   is_renting  is_returning     capacity       p_bike  \\\n",
       "count   20135921.00  20135921.00   20135921.00  20135921.00  20112612.00   \n",
       "mean           0.99         0.97          0.97        25.26         0.38   \n",
       "std            0.11         0.18          0.18         6.05         0.33   \n",
       "min            0.00         0.00          0.00         0.00        -0.08   \n",
       "25%            1.00         1.00          1.00        22.00         0.07   \n",
       "50%            1.00         1.00          1.00        26.00         0.31   \n",
       "75%            1.00         1.00          1.00        27.00         0.65   \n",
       "max            1.00         1.00          1.00        54.00         1.00   \n",
       "\n",
       "            p_slot  \n",
       "count  20112612.00  \n",
       "mean          0.62  \n",
       "std           0.33  \n",
       "min           0.00  \n",
       "25%           0.35  \n",
       "50%           0.69  \n",
       "75%           0.93  \n",
       "max           1.08  "
      ]
     },
     "execution_count": 36,
     "metadata": {},
     "output_type": "execute_result"
    }
   ],
   "source": [
    "activity.describe().round(2)"
   ]
  },
  {
   "cell_type": "markdown",
   "metadata": {},
   "source": [
    "From here we can extract very useful data: \n",
    " - The minimum storage capacity for a station is 22 bikes, while it's maximum capacity is 54 bikes.\n",
    " - The average number of bikes available in all stations is less than 10. That's <20% of their capacity!\n",
    " - For a 25% of times, you have a 7% probability to be able to pick up a bike. Not getting in account the peak usage hours.\n",
    " - The relation of mechanical bikes to electric bikes is 9 to 1. That's 11% of the fleet for the ebikes.\n",
    " \n",
    " "
   ]
  },
  {
   "cell_type": "markdown",
   "metadata": {},
   "source": [
    "## How many Bicing stations there are? How are they distributed in the neighborhoods?"
   ]
  },
  {
   "cell_type": "code",
   "execution_count": 37,
   "metadata": {
    "ExecuteTime": {
     "end_time": "2020-03-29T03:11:34.086652Z",
     "start_time": "2020-03-29T03:11:33.556706Z"
    }
   },
   "outputs": [
    {
     "data": {
      "image/png": "[encoded data removed]",
      "text/plain": [
       "<Figure size 1440x720 with 1 Axes>"
      ]
     },
     "metadata": {
      "needs_background": "light"
     },
     "output_type": "display_data"
    }
   ],
   "source": [
    "fig = plt.figure(figsize=(20,10))\n",
    "df_2 = info.groupby('neigh').count().sort_values(['station_id'] ,ascending=False)[:30]\n",
    "df_2.reset_index(inplace=True)\n",
    "ax = sns.barplot(x='neigh', y='station_id', data=df_2)\n",
    "ax.set(xlabel='', ylabel='Nº of Stations')\n",
    "ax.set_xticklabels(ax.get_xticklabels(), rotation=45,\n",
    "                     horizontalalignment='right', fontsize='x-large')\n",
    "sns.despine(left=True, bottom=True)"
   ]
  },
  {
   "cell_type": "markdown",
   "metadata": {},
   "source": [
    "## What's the most used station?"
   ]
  },
  {
   "cell_type": "markdown",
   "metadata": {},
   "source": [
    "We think that `last_reported` updates every time theres a movement (either a bike is deposited or withdrawed), so we'll just have to compute the station which hast the most movements:"
   ]
  },
  {
   "cell_type": "code",
   "execution_count": 38,
   "metadata": {
    "ExecuteTime": {
     "end_time": "2020-03-29T03:11:35.187846Z",
     "start_time": "2020-03-29T03:11:34.088265Z"
    }
   },
   "outputs": [
    {
     "data": {
      "text/plain": [
       "station_id\n",
       "237    48474\n",
       "178    48474\n",
       "150    48474\n",
       "151    48474\n",
       "152    48474\n",
       "Name: last_reported, dtype: int64"
      ]
     },
     "execution_count": 38,
     "metadata": {},
     "output_type": "execute_result"
    }
   ],
   "source": [
    "activity.groupby('station_id')['last_reported'].count().sort_values(ascending= False)[:5]"
   ]
  },
  {
   "cell_type": "markdown",
   "metadata": {},
   "source": [
    "Here we can see that there's a limit on the register of the movements. We'll have to compare to a normal day usage:"
   ]
  },
  {
   "cell_type": "code",
   "execution_count": 83,
   "metadata": {
    "ExecuteTime": {
     "end_time": "2020-03-29T03:36:49.525376Z",
     "start_time": "2020-03-29T03:36:46.703411Z"
    }
   },
   "outputs": [],
   "source": [
    "time = activity.set_index('last_reported')"
   ]
  },
  {
   "cell_type": "code",
   "execution_count": 84,
   "metadata": {
    "ExecuteTime": {
     "end_time": "2020-03-29T03:36:52.954773Z",
     "start_time": "2020-03-29T03:36:50.678771Z"
    }
   },
   "outputs": [
    {
     "data": {
      "text/plain": [
       "station_id\n",
       "1    288\n",
       "2    288\n",
       "3    288\n",
       "4    287\n",
       "5    288\n",
       "Name: bikes, dtype: int64"
      ]
     },
     "execution_count": 84,
     "metadata": {},
     "output_type": "execute_result"
    }
   ],
   "source": [
    "time.loc['2020-01-12'].groupby('station_id')['bikes'].count()[:5]"
   ]
  },
  {
   "cell_type": "markdown",
   "metadata": {},
   "source": [
    "Here we can clearly see that the limit of registers is capped to 288/day, meaning that a station information refreshes according to a rate of once every 5 minutes. Due to this, we'll have to change our way to finding the most used station: We will find the most demanded one. We'll find it searching for the station that has the least bikes available during a day:"
   ]
  },
  {
   "cell_type": "code",
   "execution_count": 41,
   "metadata": {
    "ExecuteTime": {
     "end_time": "2020-03-29T03:11:40.770456Z",
     "start_time": "2020-03-29T03:11:38.985676Z"
    }
   },
   "outputs": [
    {
     "name": "stdout",
     "output_type": "stream",
     "text": [
      "The most requested Bicing station is located in PG. ZONA FRANCA, 244, and it has capacity for 54 bikes.\n"
     ]
    }
   ],
   "source": [
    "most_req_station = activity.groupby('station_id')['empty_slots'].sum().sort_values(ascending= False)[:1]\n",
    "\n",
    "station = info.loc[int(most_req_station.index.values), ]['name']\n",
    "cap = activity[activity['station_id'] == int(most_req_station.index.values)]['capacity'].max()\n",
    "\n",
    "print(f'The most requested Bicing station is located in {station}, and it has capacity for {cap} bikes.')"
   ]
  },
  {
   "cell_type": "markdown",
   "metadata": {},
   "source": [
    "## What's the daily usage of this station for a normal weekday, like a Wednesday? and for a Sunday?"
   ]
  },
  {
   "cell_type": "code",
   "execution_count": 42,
   "metadata": {
    "ExecuteTime": {
     "end_time": "2020-03-29T03:11:41.001064Z",
     "start_time": "2020-03-29T03:11:40.772297Z"
    }
   },
   "outputs": [],
   "source": [
    "zonafranca = time[time['station_id'] == int(most_req_station.index.values)]\n",
    "\n",
    "wednesday = zonafranca.loc['2020-01-15 06:00:00':'2020-01-15 23:00:00' , ['p_bike', 'p_slot']]\n",
    "sunday = zonafranca.loc['2020-01-19 06:00:00':'2020-01-19 23:00:00', ['p_bike', 'p_slot']]"
   ]
  },
  {
   "cell_type": "code",
   "execution_count": 109,
   "metadata": {
    "ExecuteTime": {
     "end_time": "2020-03-29T03:54:18.812660Z",
     "start_time": "2020-03-29T03:54:18.559717Z"
    }
   },
   "outputs": [
    {
     "data": {
      "image/png": "[encoded data removed]",
      "text/plain": [
       "<Figure size 1440x720 with 2 Axes>"
      ]
     },
     "metadata": {
      "needs_background": "light"
     },
     "output_type": "display_data"
    }
   ],
   "source": [
    "fig, (ax1, ax2) = plt.subplots(2, 1,figsize=(20,10))\n",
    "pal = sns.color_palette(\"tab10\")\n",
    "\n",
    "ax1.stackplot(wednesday.index, wednesday.p_bike, wednesday.p_slot, labels=['Available bikes','Not available'],\n",
    "             colors=pal, alpha=0.4, baseline='sym')\n",
    "\n",
    "ax2.stackplot(sunday.index, sunday.p_bike, sunday.p_slot, labels=['Available bikes','Not available'],\n",
    "             colors=pal, alpha=0.4, baseline='sym')\n",
    "\n",
    "ax1.yaxis.set_visible(False)\n",
    "ax2.yaxis.set_visible(False)\n",
    "\n",
    "ax1.set_ylabel('% of bikes')\n",
    "ax2.set_ylabel('% of bikes')\n",
    "\n",
    "ax1.set_title('Random Wednesday')\n",
    "ax2.set_title('Random Monday')\n",
    "\n",
    "ax1.legend(loc='center right')\n",
    "\n",
    "plt.show()\n"
   ]
  },
  {
   "cell_type": "markdown",
   "metadata": {},
   "source": [
    "## What's the probability that you can pick a ride a Monday at 9am at any given station?"
   ]
  },
  {
   "cell_type": "code",
   "execution_count": 172,
   "metadata": {
    "ExecuteTime": {
     "end_time": "2020-03-29T04:40:05.821337Z",
     "start_time": "2020-03-29T04:40:05.665208Z"
    }
   },
   "outputs": [],
   "source": [
    "monday_9am = time.loc['2020-01-20 08:58':'2020-01-20 09:00', ['p_bike', 'station_id']]\n",
    "\n",
    "monday_9am = monday_9am.sort_values(by='p_bike', ascending= False)[::9]\n",
    "\n",
    "monday_9am = monday_9am.join(info.name, on='station_id')"
   ]
  },
  {
   "cell_type": "code",
   "execution_count": 220,
   "metadata": {
    "ExecuteTime": {
     "end_time": "2020-03-29T05:06:18.742551Z",
     "start_time": "2020-03-29T05:06:18.393636Z"
    }
   },
   "outputs": [
    {
     "data": {
      "image/png": "[encoded data removed]",
      "text/plain": [
       "<Figure size 792x1080 with 1 Axes>"
      ]
     },
     "metadata": {
      "needs_background": "light"
     },
     "output_type": "display_data"
    }
   ],
   "source": [
    "fig,ax = plt.subplots(1,1,figsize=(11,15))\n",
    "\n",
    "ax.spines['top'].set_visible(False)\n",
    "ax.spines['right'].set_visible(False)\n",
    "ax.spines['bottom'].set_visible(False)\n",
    "\n",
    "ax.grid()\n",
    "\n",
    "ax = sns.barplot(x=\"p_bike\", y=\"name\", data=monday_9am, orient='h')\n",
    "\n",
    "ax.set_xlabel('Probability of picking up a bike', fontsize=15)\n",
    "ax.set_ylabel('Station', fontsize=15)\n",
    "\n",
    "plt.show()"
   ]
  },
  {
   "cell_type": "markdown",
   "metadata": {},
   "source": [
    "## Where are the Bicing Stations located?"
   ]
  },
  {
   "cell_type": "code",
   "execution_count": 221,
   "metadata": {
    "ExecuteTime": {
     "end_time": "2020-03-29T05:06:40.657904Z",
     "start_time": "2020-03-29T05:06:40.472153Z"
    }
   },
   "outputs": [
    {
     "data": {
      "text/html": [
       "<div>\n",
       "<style scoped>\n",
       "    .dataframe tbody tr th:only-of-type {\n",
       "        vertical-align: middle;\n",
       "    }\n",
       "\n",
       "    .dataframe tbody tr th {\n",
       "        vertical-align: top;\n",
       "    }\n",
       "\n",
       "    .dataframe thead th {\n",
       "        text-align: right;\n",
       "    }\n",
       "</style>\n",
       "<table border=\"1\" class=\"dataframe\">\n",
       "  <thead>\n",
       "    <tr style=\"text-align: right;\">\n",
       "      <th></th>\n",
       "      <th>ID_ANNEX</th>\n",
       "      <th>ANNEXDESCR</th>\n",
       "      <th>ID_TEMA</th>\n",
       "      <th>TEMA_DESCR</th>\n",
       "      <th>ID_CONJUNT</th>\n",
       "      <th>CONJ_DESCR</th>\n",
       "      <th>ID_SUBCONJ</th>\n",
       "      <th>SCONJ_DESC</th>\n",
       "      <th>ID_ELEMENT</th>\n",
       "      <th>ELEM_DESCR</th>\n",
       "      <th>...</th>\n",
       "      <th>ESTIL_ID</th>\n",
       "      <th>ESTIL_QGIS</th>\n",
       "      <th>VALOR1QGIS</th>\n",
       "      <th>VALOR2QGIS</th>\n",
       "      <th>COL_FARCIT</th>\n",
       "      <th>FCOL_DESCR</th>\n",
       "      <th>FHEX_COLOR</th>\n",
       "      <th>COL_DESCR</th>\n",
       "      <th>HEX_COLOR7</th>\n",
       "      <th>geometry</th>\n",
       "    </tr>\n",
       "  </thead>\n",
       "  <tbody>\n",
       "    <tr>\n",
       "      <td>0</td>\n",
       "      <td>01</td>\n",
       "      <td>Grup - I</td>\n",
       "      <td>0104</td>\n",
       "      <td>Unitats Administratives</td>\n",
       "      <td>010413</td>\n",
       "      <td>Barris</td>\n",
       "      <td>01041301</td>\n",
       "      <td>Barri</td>\n",
       "      <td>0104130101</td>\n",
       "      <td>Límit de barri</td>\n",
       "      <td>...</td>\n",
       "      <td>0</td>\n",
       "      <td>Sòlid</td>\n",
       "      <td>0</td>\n",
       "      <td>0</td>\n",
       "      <td>41</td>\n",
       "      <td>NULL</td>\n",
       "      <td>#E66900</td>\n",
       "      <td>NULL</td>\n",
       "      <td>#73A88F</td>\n",
       "      <td>POLYGON ((2.16471 41.38593, 2.16936 41.38554, ...</td>\n",
       "    </tr>\n",
       "  </tbody>\n",
       "</table>\n",
       "<p>1 rows × 47 columns</p>\n",
       "</div>"
      ],
      "text/plain": [
       "  ID_ANNEX ANNEXDESCR ID_TEMA               TEMA_DESCR ID_CONJUNT CONJ_DESCR  \\\n",
       "0       01   Grup - I    0104  Unitats Administratives     010413     Barris   \n",
       "\n",
       "  ID_SUBCONJ SCONJ_DESC  ID_ELEMENT      ELEM_DESCR  ... ESTIL_ID ESTIL_QGIS  \\\n",
       "0   01041301      Barri  0104130101  Límit de barri  ...        0      Sòlid   \n",
       "\n",
       "  VALOR1QGIS VALOR2QGIS COL_FARCIT FCOL_DESCR FHEX_COLOR COL_DESCR HEX_COLOR7  \\\n",
       "0          0          0         41       NULL    #E66900      NULL    #73A88F   \n",
       "\n",
       "                                            geometry  \n",
       "0  POLYGON ((2.16471 41.38593, 2.16936 41.38554, ...  \n",
       "\n",
       "[1 rows x 47 columns]"
      ]
     },
     "execution_count": 221,
     "metadata": {},
     "output_type": "execute_result"
    }
   ],
   "source": [
    "# Cargar la capa temática\n",
    "bcn_map = \"Data/barris.geojson\"\n",
    "map_data = gpd.read_file(bcn_map)\n",
    "map_data.head(1)\n"
   ]
  },
  {
   "cell_type": "code",
   "execution_count": 234,
   "metadata": {
    "ExecuteTime": {
     "end_time": "2020-03-29T05:10:44.144943Z",
     "start_time": "2020-03-29T05:10:43.824092Z"
    }
   },
   "outputs": [
    {
     "data": {
      "image/png": "[encoded data removed]",
      "text/plain": [
       "<Figure size 1080x1080 with 1 Axes>"
      ]
     },
     "metadata": {
      "needs_background": "light"
     },
     "output_type": "display_data"
    },
    {
     "data": {
      "image/png": "[encoded data removed]",
      "text/plain": [
       "<Figure size 432x288 with 1 Axes>"
      ]
     },
     "metadata": {
      "needs_background": "light"
     },
     "output_type": "display_data"
    }
   ],
   "source": [
    "fig, ax = plt.subplots(1, 1, figsize=(15, 15), sharex=True, sharey=True)\n",
    "\n",
    "ax = plt.scatter(info.lon, info.lat, s=5, alpha=1, c='red', marker='d')\n",
    "\n",
    "ax = map_data.plot()\n",
    "\n",
    "# ax.set_title('Barcelona Neighborhoods', \n",
    "#              pad = -70, loc='left',\n",
    "#              fontdict={'fontsize':30, 'color': '#4873ab'})\n",
    "\n",
    "# ax.set_xlabel('')\n",
    "# ax.set_ylabel('')\n",
    "\n",
    "plt.show()"
   ]
  },
  {
   "cell_type": "code",
   "execution_count": null,
   "metadata": {},
   "outputs": [],
   "source": []
  },
  {
   "cell_type": "code",
   "execution_count": null,
   "metadata": {
    "ExecuteTime": {
     "end_time": "2020-03-29T03:11:41.574838Z",
     "start_time": "2020-03-29T03:08:36.820Z"
    }
   },
   "outputs": [],
   "source": [
    "\n",
    "coords_1 = (52.2296756, 21.0122287)\n",
    "coords_2 = (52.406374, 16.9251681)\n",
    "\n",
    "print(geopy.distance.distance(coords_1, coords_2).m)"
   ]
  },
  {
   "cell_type": "code",
   "execution_count": null,
   "metadata": {
    "ExecuteTime": {
     "end_time": "2020-03-29T03:11:41.576438Z",
     "start_time": "2020-03-29T03:08:36.822Z"
    }
   },
   "outputs": [],
   "source": [
    "def nearest_station(user_loc):\n",
    "    \n",
    "    location = geolocator.geocode(user_loc)\n",
    "    loc = [list(location.point[:2])]\n",
    "    dist = cdist(loc, info[['lat', 'lon']])\n",
    "    index = dist[0].argmin()\n",
    "    station_name = info.iloc[index]['name']\n",
    "    \n",
    "    return station_name.title()\n",
    "    \n",
    "    "
   ]
  },
  {
   "cell_type": "code",
   "execution_count": null,
   "metadata": {},
   "outputs": [],
   "source": []
  },
  {
   "cell_type": "markdown",
   "metadata": {
    "ExecuteTime": {
     "end_time": "2020-03-28T20:40:11.391558Z",
     "start_time": "2020-03-28T20:40:11.191458Z"
    }
   },
   "source": [
    "# Como se compara la distribución de bicis con la población y el poder adquisitivo"
   ]
  },
  {
   "cell_type": "code",
   "execution_count": null,
   "metadata": {
    "ExecuteTime": {
     "end_time": "2020-03-29T03:11:41.601483Z",
     "start_time": "2020-03-29T03:08:36.850Z"
    }
   },
   "outputs": [],
   "source": [
    "info.head()"
   ]
  },
  {
   "cell_type": "markdown",
   "metadata": {},
   "source": [
    "# Fancy funcion trip_helper"
   ]
  },
  {
   "cell_type": "markdown",
   "metadata": {},
   "source": [
    "La idea es hacer una funcion que le des un punto A, B, y una hora, y te diga lo siguiente:\n",
    "- Probabilidad de poder hacer el ride\n",
    "- Tiempo aproximado que vas a tardar\n",
    "- Desnivel de la estación origen a estación destino.\n"
   ]
  },
  {
   "cell_type": "code",
   "execution_count": null,
   "metadata": {},
   "outputs": [],
   "source": [
    "def bicing_trip():\n",
    "    # user_input(origen)\n",
    "    # user_input(destino)\n",
    "    \n",
    "    # which station to go walking, distance in M, P() de que puedas coger una bici (means de los ultimos 6m)\n",
    "    # which station to go by bike ( P() de que puedas depositarla)\n",
    "    # distance to station, ETA time (15km/H),\n",
    "    #"
   ]
  },
  {
   "cell_type": "code",
   "execution_count": null,
   "metadata": {},
   "outputs": [],
   "source": [
    "def nearest_station(user_loc):\n",
    "    \n",
    "    location = geolocator.geocode(user_loc)\n",
    "    loc = [list(location.point[:2])]\n",
    "    dist = cdist(loc, info[['lat', 'lon']])\n",
    "    index = dist[0].argmin()\n",
    "    station_name = info.iloc[index]['name']\n",
    "    \n",
    "    return station_name.title()\n",
    "    \n",
    "    \n",
    "coords_1 = (52.2296756, 21.0122287)\n",
    "coords_2 = (52.406374, 16.9251681)\n",
    "\n",
    "print(geopy.distance.distance(coords_1, coords_2).m)"
   ]
  },
  {
   "cell_type": "code",
   "execution_count": null,
   "metadata": {},
   "outputs": [],
   "source": []
  },
  {
   "cell_type": "code",
   "execution_count": null,
   "metadata": {},
   "outputs": [],
   "source": []
  },
  {
   "cell_type": "code",
   "execution_count": null,
   "metadata": {},
   "outputs": [],
   "source": []
  }
 ],
 "metadata": {
  "kernelspec": {
   "display_name": "Python 3",
   "language": "python",
   "name": "python3"
  },
  "language_info": {
   "codemirror_mode": {
    "name": "ipython",
    "version": 3
   },
   "file_extension": ".py",
   "mimetype": "text/x-python",
   "name": "python",
   "nbconvert_exporter": "python",
   "pygments_lexer": "ipython3",
   "version": "3.7.4"
  },
  "toc": {
   "base_numbering": 1,
   "nav_menu": {},
   "number_sections": true,
   "sideBar": true,
   "skip_h1_title": false,
   "title_cell": "Table of Contents",
   "title_sidebar": "Contents",
   "toc_cell": false,
   "toc_position": {},
   "toc_section_display": true,
   "toc_window_display": false
  },
  "varInspector": {
   "cols": {
    "lenName": 16,
    "lenType": 16,
    "lenVar": 40
   },
   "kernels_config": {
    "python": {
     "delete_cmd_postfix": "",
     "delete_cmd_prefix": "del ",
     "library": "var_list.py",
     "varRefreshCmd": "print(var_dic_list())"
    },
    "r": {
     "delete_cmd_postfix": ") ",
     "delete_cmd_prefix": "rm(",
     "library": "var_list.r",
     "varRefreshCmd": "cat(var_dic_list()) "
    }
   },
   "types_to_exclude": [
    "module",
    "function",
    "builtin_function_or_method",
    "instance",
    "_Feature"
   ],
   "window_display": false
  }
 },
 "nbformat": 4,
 "nbformat_minor": 2
}
