{
 "cells": [
  {
   "cell_type": "markdown",
   "id": "09cc3d00",
   "metadata": {},
   "source": [
    "# Calorie expenditure during road cycling"
   ]
  },
  {
   "cell_type": "markdown",
   "id": "6198ca7d",
   "metadata": {},
   "source": [
    "In this project I'll try to answer two questions:\n",
    "\n",
    "    - What variables affect calorie expenditure the most when we're cycling?\n",
    "    - Can this caloric expenditure be accurately predicted for any given route?\n",
    "    \n",
    "To answer them I'll be using a dataset of my cycling rides from 2016 up to this day, courtesy of **SportTracks**'s elegantly simple data export options."
   ]
  },
  {
   "cell_type": "markdown",
   "id": "3fdd5c21",
   "metadata": {},
   "source": [
    "## 1 Data exploration"
   ]
  },
  {
   "cell_type": "markdown",
   "id": "fe1af567",
   "metadata": {},
   "source": [
    "Since our data is in csv format, we'll begin our data exploration by loading it into a dataframe object."
   ]
  },
  {
   "cell_type": "code",
   "execution_count": 1,
   "id": "b2aec423",
   "metadata": {},
   "outputs": [],
   "source": [
    "import pandas as pd\n",
    "import numpy as np"
   ]
  },
  {
   "cell_type": "code",
   "execution_count": 7,
   "id": "e3f39764",
   "metadata": {},
   "outputs": [],
   "source": [
    "df = pd.read_csv('workouts.csv', encoding='utf-8')"
   ]
  },
  {
   "cell_type": "code",
   "execution_count": 8,
   "id": "9d38ad13",
   "metadata": {},
   "outputs": [
    {
     "name": "stdout",
     "output_type": "stream",
     "text": [
      "<class 'pandas.core.frame.DataFrame'>\n",
      "RangeIndex: 814 entries, 0 to 813\n",
      "Data columns (total 11 columns):\n",
      " #   Column                Non-Null Count  Dtype  \n",
      "---  ------                --------------  -----  \n",
      " 0   Nombre                814 non-null    object \n",
      " 1   Inicio                814 non-null    object \n",
      " 2   Deporte               814 non-null    object \n",
      " 3   Distancia             814 non-null    object \n",
      " 4   Duración              814 non-null    object \n",
      " 5   Velocidad media       810 non-null    object \n",
      " 6   Calorías              810 non-null    float64\n",
      " 7   Calorías (/hora)      810 non-null    float64\n",
      " 8   Pulso promedio        806 non-null    float64\n",
      " 9   Aumento del Desnivel  814 non-null    float64\n",
      " 10  Temperatura           811 non-null    object \n",
      "dtypes: float64(4), object(7)\n",
      "memory usage: 70.1+ KB\n"
     ]
    }
   ],
   "source": [
    "df.info()"
   ]
  },
  {
   "cell_type": "code",
   "execution_count": 9,
   "id": "ecb9ba4e",
   "metadata": {},
   "outputs": [
    {
     "data": {
      "text/html": [
       "<div>\n",
       "<style scoped>\n",
       "    .dataframe tbody tr th:only-of-type {\n",
       "        vertical-align: middle;\n",
       "    }\n",
       "\n",
       "    .dataframe tbody tr th {\n",
       "        vertical-align: top;\n",
       "    }\n",
       "\n",
       "    .dataframe thead th {\n",
       "        text-align: right;\n",
       "    }\n",
       "</style>\n",
       "<table border=\"1\" class=\"dataframe\">\n",
       "  <thead>\n",
       "    <tr style=\"text-align: right;\">\n",
       "      <th></th>\n",
       "      <th>Nombre</th>\n",
       "      <th>Inicio</th>\n",
       "      <th>Deporte</th>\n",
       "      <th>Distancia</th>\n",
       "      <th>Duración</th>\n",
       "      <th>Velocidad media</th>\n",
       "      <th>Calorías</th>\n",
       "      <th>Calorías (/hora)</th>\n",
       "      <th>Pulso promedio</th>\n",
       "      <th>Aumento del Desnivel</th>\n",
       "      <th>Temperatura</th>\n",
       "    </tr>\n",
       "  </thead>\n",
       "  <tbody>\n",
       "    <tr>\n",
       "      <th>0</th>\n",
       "      <td>Cycling: Road</td>\n",
       "      <td>2021-05-30 11:09:26</td>\n",
       "      <td>Carretera</td>\n",
       "      <td>20,04 km</td>\n",
       "      <td>42:26</td>\n",
       "      <td>28,3 km/h</td>\n",
       "      <td>506.000</td>\n",
       "      <td>715.0</td>\n",
       "      <td>144.0</td>\n",
       "      <td>152.000</td>\n",
       "      <td>22,3</td>\n",
       "    </tr>\n",
       "    <tr>\n",
       "      <th>1</th>\n",
       "      <td>Cycling: Road</td>\n",
       "      <td>2021-05-28 08:51:04</td>\n",
       "      <td>Carretera</td>\n",
       "      <td>100,29 km</td>\n",
       "      <td>3:21:59</td>\n",
       "      <td>29,8 km/h</td>\n",
       "      <td>1.799</td>\n",
       "      <td>534.0</td>\n",
       "      <td>131.0</td>\n",
       "      <td>610.000</td>\n",
       "      <td>16,6</td>\n",
       "    </tr>\n",
       "    <tr>\n",
       "      <th>2</th>\n",
       "      <td>Cycling: Road</td>\n",
       "      <td>2021-05-26 08:51:07</td>\n",
       "      <td>Carretera</td>\n",
       "      <td>124,78 km</td>\n",
       "      <td>4:44:16</td>\n",
       "      <td>26,3 km/h</td>\n",
       "      <td>2.741</td>\n",
       "      <td>579.0</td>\n",
       "      <td>140.0</td>\n",
       "      <td>1.751</td>\n",
       "      <td>15,9</td>\n",
       "    </tr>\n",
       "    <tr>\n",
       "      <th>3</th>\n",
       "      <td>Cycling: Road</td>\n",
       "      <td>2021-05-24 10:46:51</td>\n",
       "      <td>Carretera</td>\n",
       "      <td>36,25 km</td>\n",
       "      <td>1:18:23</td>\n",
       "      <td>27,7 km/h</td>\n",
       "      <td>643.000</td>\n",
       "      <td>492.0</td>\n",
       "      <td>124.0</td>\n",
       "      <td>186.000</td>\n",
       "      <td>16,2</td>\n",
       "    </tr>\n",
       "    <tr>\n",
       "      <th>4</th>\n",
       "      <td>Cycling: Mountain</td>\n",
       "      <td>2021-05-23 09:20:16</td>\n",
       "      <td>Montaña</td>\n",
       "      <td>78,61 km</td>\n",
       "      <td>3:10:01</td>\n",
       "      <td>24,8 km/h</td>\n",
       "      <td>2.031</td>\n",
       "      <td>641.0</td>\n",
       "      <td>143.0</td>\n",
       "      <td>381.000</td>\n",
       "      <td>13,9</td>\n",
       "    </tr>\n",
       "  </tbody>\n",
       "</table>\n",
       "</div>"
      ],
      "text/plain": [
       "              Nombre               Inicio    Deporte  Distancia Duración  \\\n",
       "0      Cycling: Road  2021-05-30 11:09:26  Carretera   20,04 km    42:26   \n",
       "1      Cycling: Road  2021-05-28 08:51:04  Carretera  100,29 km  3:21:59   \n",
       "2      Cycling: Road  2021-05-26 08:51:07  Carretera  124,78 km  4:44:16   \n",
       "3      Cycling: Road  2021-05-24 10:46:51  Carretera   36,25 km  1:18:23   \n",
       "4  Cycling: Mountain  2021-05-23 09:20:16    Montaña   78,61 km  3:10:01   \n",
       "\n",
       "  Velocidad media  Calorías  Calorías (/hora)  Pulso promedio  \\\n",
       "0       28,3 km/h   506.000             715.0           144.0   \n",
       "1       29,8 km/h     1.799             534.0           131.0   \n",
       "2       26,3 km/h     2.741             579.0           140.0   \n",
       "3       27,7 km/h   643.000             492.0           124.0   \n",
       "4       24,8 km/h     2.031             641.0           143.0   \n",
       "\n",
       "   Aumento del Desnivel Temperatura  \n",
       "0               152.000        22,3  \n",
       "1               610.000        16,6  \n",
       "2                 1.751        15,9  \n",
       "3               186.000        16,2  \n",
       "4               381.000        13,9  "
      ]
     },
     "execution_count": 9,
     "metadata": {},
     "output_type": "execute_result"
    }
   ],
   "source": [
    "df.head()"
   ]
  },
  {
   "cell_type": "markdown",
   "id": "49278275",
   "metadata": {},
   "source": [
    "Tasklist:\n",
    "\n",
    "            - Data exploration.\n",
    "            \n",
    "            - Rename columns.\n",
    "            \n",
    "            - Look for missing values.\n",
    "            \n",
    "            - Typecasting columns if necessary.\n",
    "            \n",
    "            - Correlation matrix.\n",
    "            \n",
    "            - Data viz when it's done."
   ]
  }
 ],
 "metadata": {
  "kernelspec": {
   "display_name": "Python 3",
   "language": "python",
   "name": "python3"
  },
  "language_info": {
   "codemirror_mode": {
    "name": "ipython",
    "version": 3
   },
   "file_extension": ".py",
   "mimetype": "text/x-python",
   "name": "python",
   "nbconvert_exporter": "python",
   "pygments_lexer": "ipython3",
   "version": "3.8.8"
  }
 },
 "nbformat": 4,
 "nbformat_minor": 5
}
