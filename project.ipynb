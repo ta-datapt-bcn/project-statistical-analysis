{
 "cells": [
  {
   "cell_type": "markdown",
   "metadata": {},
   "source": [
    "# Setting up workspace"
   ]
  },
  {
   "cell_type": "code",
   "execution_count": 58,
   "metadata": {
    "ExecuteTime": {
     "end_time": "2020-03-28T20:40:07.749718Z",
     "start_time": "2020-03-28T20:40:07.743942Z"
    }
   },
   "outputs": [],
   "source": [
    "import pandas as pd\n",
    "import glob\n",
    "import numpy as np\n",
    "import datetime\n",
    "import matplotlib.pyplot as plt\n",
    "import seaborn as sns\n",
    "import geopandas as gpd\n",
    "from scipy.spatial.distance import cdist\n",
    "import geopy.distance\n",
    "from geopy.geocoders import Nominatim\n",
    "geolocator = Nominatim(user_agent=\"specify_your_app_name_here\")\n",
    "\n"
   ]
  },
  {
   "cell_type": "markdown",
   "metadata": {},
   "source": [
    "### Datasets"
   ]
  },
  {
   "cell_type": "markdown",
   "metadata": {},
   "source": [
    "We'll be using 12 different datasets, each one for each month, of data about all the `Bicing stations ACIVITY` in Barcelona from March 2019 to March 2020.\n",
    "We'll also be using one dataset which contains additional information about the `Bicing Station INFORMATION`."
   ]
  },
  {
   "cell_type": "code",
   "execution_count": 2,
   "metadata": {
    "ExecuteTime": {
     "end_time": "2020-03-28T19:35:54.526262Z",
     "start_time": "2020-03-28T19:35:17.101549Z"
    }
   },
   "outputs": [],
   "source": [
    "# We'll merge all datasets we have in the folder, since all of them have the same structure:\n",
    "\n",
    "path = 'Data'\n",
    "files = glob.glob(path + \"/activity/*.csv\")\n",
    "\n",
    "csvs = []\n",
    "\n",
    "for csv in files:\n",
    "    df = pd.read_csv(csv)\n",
    "    csvs.append(df)\n",
    "\n",
    "activity = pd.concat(csvs, axis=0, sort=False)"
   ]
  },
  {
   "cell_type": "code",
   "execution_count": 3,
   "metadata": {
    "ExecuteTime": {
     "end_time": "2020-03-28T19:36:02.512681Z",
     "start_time": "2020-03-28T19:35:54.528450Z"
    }
   },
   "outputs": [
    {
     "name": "stdout",
     "output_type": "stream",
     "text": [
      "<class 'pandas.core.frame.DataFrame'>\n",
      "Int64Index: 40947118 entries, 0 to 3518214\n",
      "Data columns (total 13 columns):\n",
      "station_id                              int64\n",
      "num_bikes_available                     int64\n",
      "num_bikes_available_types.mechanical    int64\n",
      "num_bikes_available_types.ebike         int64\n",
      "num_docks_available                     int64\n",
      "is_installed                            int64\n",
      "is_renting                              int64\n",
      "is_returning                            int64\n",
      "last_reported                           float64\n",
      "is_charging_station                     bool\n",
      "status                                  object\n",
      "last_updated                            int64\n",
      "ttl                                     int64\n",
      "dtypes: bool(1), float64(1), int64(10), object(1)\n",
      "memory usage: 4.0+ GB\n"
     ]
    }
   ],
   "source": [
    "activity.info()"
   ]
  },
  {
   "cell_type": "code",
   "execution_count": 4,
   "metadata": {
    "ExecuteTime": {
     "end_time": "2020-03-28T19:36:02.530970Z",
     "start_time": "2020-03-28T19:36:02.514843Z"
    }
   },
   "outputs": [
    {
     "data": {
      "text/html": [
       "<div>\n",
       "<style scoped>\n",
       "    .dataframe tbody tr th:only-of-type {\n",
       "        vertical-align: middle;\n",
       "    }\n",
       "\n",
       "    .dataframe tbody tr th {\n",
       "        vertical-align: top;\n",
       "    }\n",
       "\n",
       "    .dataframe thead th {\n",
       "        text-align: right;\n",
       "    }\n",
       "</style>\n",
       "<table border=\"1\" class=\"dataframe\">\n",
       "  <thead>\n",
       "    <tr style=\"text-align: right;\">\n",
       "      <th></th>\n",
       "      <th>station_id</th>\n",
       "      <th>num_bikes_available</th>\n",
       "      <th>num_bikes_available_types.mechanical</th>\n",
       "      <th>num_bikes_available_types.ebike</th>\n",
       "      <th>num_docks_available</th>\n",
       "      <th>is_installed</th>\n",
       "      <th>is_renting</th>\n",
       "      <th>is_returning</th>\n",
       "      <th>last_reported</th>\n",
       "      <th>is_charging_station</th>\n",
       "      <th>status</th>\n",
       "      <th>last_updated</th>\n",
       "      <th>ttl</th>\n",
       "    </tr>\n",
       "  </thead>\n",
       "  <tbody>\n",
       "    <tr>\n",
       "      <td>0</td>\n",
       "      <td>1</td>\n",
       "      <td>16</td>\n",
       "      <td>16</td>\n",
       "      <td>0</td>\n",
       "      <td>14</td>\n",
       "      <td>1</td>\n",
       "      <td>1</td>\n",
       "      <td>1</td>\n",
       "      <td>1.553796e+09</td>\n",
       "      <td>True</td>\n",
       "      <td>IN_SERVICE</td>\n",
       "      <td>1553795923</td>\n",
       "      <td>23</td>\n",
       "    </tr>\n",
       "    <tr>\n",
       "      <td>1</td>\n",
       "      <td>2</td>\n",
       "      <td>27</td>\n",
       "      <td>27</td>\n",
       "      <td>0</td>\n",
       "      <td>0</td>\n",
       "      <td>1</td>\n",
       "      <td>1</td>\n",
       "      <td>1</td>\n",
       "      <td>1.553796e+09</td>\n",
       "      <td>True</td>\n",
       "      <td>IN_SERVICE</td>\n",
       "      <td>1553795923</td>\n",
       "      <td>23</td>\n",
       "    </tr>\n",
       "    <tr>\n",
       "      <td>2</td>\n",
       "      <td>3</td>\n",
       "      <td>20</td>\n",
       "      <td>20</td>\n",
       "      <td>0</td>\n",
       "      <td>7</td>\n",
       "      <td>1</td>\n",
       "      <td>1</td>\n",
       "      <td>1</td>\n",
       "      <td>1.553796e+09</td>\n",
       "      <td>True</td>\n",
       "      <td>IN_SERVICE</td>\n",
       "      <td>1553795923</td>\n",
       "      <td>23</td>\n",
       "    </tr>\n",
       "    <tr>\n",
       "      <td>3</td>\n",
       "      <td>4</td>\n",
       "      <td>12</td>\n",
       "      <td>12</td>\n",
       "      <td>0</td>\n",
       "      <td>7</td>\n",
       "      <td>1</td>\n",
       "      <td>1</td>\n",
       "      <td>1</td>\n",
       "      <td>1.553796e+09</td>\n",
       "      <td>True</td>\n",
       "      <td>IN_SERVICE</td>\n",
       "      <td>1553795923</td>\n",
       "      <td>23</td>\n",
       "    </tr>\n",
       "    <tr>\n",
       "      <td>4</td>\n",
       "      <td>5</td>\n",
       "      <td>39</td>\n",
       "      <td>39</td>\n",
       "      <td>0</td>\n",
       "      <td>0</td>\n",
       "      <td>1</td>\n",
       "      <td>1</td>\n",
       "      <td>1</td>\n",
       "      <td>1.553796e+09</td>\n",
       "      <td>True</td>\n",
       "      <td>IN_SERVICE</td>\n",
       "      <td>1553795923</td>\n",
       "      <td>23</td>\n",
       "    </tr>\n",
       "  </tbody>\n",
       "</table>\n",
       "</div>"
      ],
      "text/plain": [
       "   station_id  num_bikes_available  num_bikes_available_types.mechanical  \\\n",
       "0           1                   16                                    16   \n",
       "1           2                   27                                    27   \n",
       "2           3                   20                                    20   \n",
       "3           4                   12                                    12   \n",
       "4           5                   39                                    39   \n",
       "\n",
       "   num_bikes_available_types.ebike  num_docks_available  is_installed  \\\n",
       "0                                0                   14             1   \n",
       "1                                0                    0             1   \n",
       "2                                0                    7             1   \n",
       "3                                0                    7             1   \n",
       "4                                0                    0             1   \n",
       "\n",
       "   is_renting  is_returning  last_reported  is_charging_station      status  \\\n",
       "0           1             1   1.553796e+09                 True  IN_SERVICE   \n",
       "1           1             1   1.553796e+09                 True  IN_SERVICE   \n",
       "2           1             1   1.553796e+09                 True  IN_SERVICE   \n",
       "3           1             1   1.553796e+09                 True  IN_SERVICE   \n",
       "4           1             1   1.553796e+09                 True  IN_SERVICE   \n",
       "\n",
       "   last_updated  ttl  \n",
       "0    1553795923   23  \n",
       "1    1553795923   23  \n",
       "2    1553795923   23  \n",
       "3    1553795923   23  \n",
       "4    1553795923   23  "
      ]
     },
     "execution_count": 4,
     "metadata": {},
     "output_type": "execute_result"
    }
   ],
   "source": [
    "activity.head()"
   ]
  },
  {
   "cell_type": "markdown",
   "metadata": {},
   "source": [
    "For the `Bicing Station INFORMATION` dataframe, we'll import it from a JSON file:"
   ]
  },
  {
   "cell_type": "code",
   "execution_count": 5,
   "metadata": {
    "ExecuteTime": {
     "end_time": "2020-03-28T19:36:02.544707Z",
     "start_time": "2020-03-28T19:36:02.532577Z"
    }
   },
   "outputs": [],
   "source": [
    "info = pd.read_json('Data/station_information.json')"
   ]
  },
  {
   "cell_type": "code",
   "execution_count": 6,
   "metadata": {
    "ExecuteTime": {
     "end_time": "2020-03-28T19:36:02.587107Z",
     "start_time": "2020-03-28T19:36:02.546251Z"
    }
   },
   "outputs": [
    {
     "data": {
      "text/html": [
       "<div>\n",
       "<style scoped>\n",
       "    .dataframe tbody tr th:only-of-type {\n",
       "        vertical-align: middle;\n",
       "    }\n",
       "\n",
       "    .dataframe tbody tr th {\n",
       "        vertical-align: top;\n",
       "    }\n",
       "\n",
       "    .dataframe thead th {\n",
       "        text-align: right;\n",
       "    }\n",
       "</style>\n",
       "<table border=\"1\" class=\"dataframe\">\n",
       "  <thead>\n",
       "    <tr style=\"text-align: right;\">\n",
       "      <th></th>\n",
       "      <th>last_updated</th>\n",
       "      <th>ttl</th>\n",
       "      <th>data</th>\n",
       "    </tr>\n",
       "  </thead>\n",
       "  <tbody>\n",
       "    <tr>\n",
       "      <td>stations</td>\n",
       "      <td>1585277577</td>\n",
       "      <td>7</td>\n",
       "      <td>[{'station_id': 1, 'name': 'GRAN VIA CORTS CAT...</td>\n",
       "    </tr>\n",
       "  </tbody>\n",
       "</table>\n",
       "</div>"
      ],
      "text/plain": [
       "          last_updated  ttl                                               data\n",
       "stations    1585277577    7  [{'station_id': 1, 'name': 'GRAN VIA CORTS CAT..."
      ]
     },
     "execution_count": 6,
     "metadata": {},
     "output_type": "execute_result"
    }
   ],
   "source": [
    "info.head()"
   ]
  },
  {
   "cell_type": "markdown",
   "metadata": {
    "ExecuteTime": {
     "end_time": "2020-03-27T14:57:06.804298Z",
     "start_time": "2020-03-27T14:57:06.792917Z"
    }
   },
   "source": [
    "The info that we need comes in form of a dictionary in the `'data'` column:"
   ]
  },
  {
   "cell_type": "code",
   "execution_count": 7,
   "metadata": {
    "ExecuteTime": {
     "end_time": "2020-03-28T19:36:02.624929Z",
     "start_time": "2020-03-28T19:36:02.589869Z"
    }
   },
   "outputs": [
    {
     "data": {
      "text/html": [
       "<div>\n",
       "<style scoped>\n",
       "    .dataframe tbody tr th:only-of-type {\n",
       "        vertical-align: middle;\n",
       "    }\n",
       "\n",
       "    .dataframe tbody tr th {\n",
       "        vertical-align: top;\n",
       "    }\n",
       "\n",
       "    .dataframe thead th {\n",
       "        text-align: right;\n",
       "    }\n",
       "</style>\n",
       "<table border=\"1\" class=\"dataframe\">\n",
       "  <thead>\n",
       "    <tr style=\"text-align: right;\">\n",
       "      <th></th>\n",
       "      <th>name</th>\n",
       "      <th>physical_configuration</th>\n",
       "      <th>lat</th>\n",
       "      <th>lon</th>\n",
       "      <th>altitude</th>\n",
       "      <th>address</th>\n",
       "      <th>post_code</th>\n",
       "      <th>capacity</th>\n",
       "      <th>nearby_distance</th>\n",
       "      <th>cross_street</th>\n",
       "    </tr>\n",
       "    <tr>\n",
       "      <th>station_id</th>\n",
       "      <th></th>\n",
       "      <th></th>\n",
       "      <th></th>\n",
       "      <th></th>\n",
       "      <th></th>\n",
       "      <th></th>\n",
       "      <th></th>\n",
       "      <th></th>\n",
       "      <th></th>\n",
       "      <th></th>\n",
       "    </tr>\n",
       "  </thead>\n",
       "  <tbody>\n",
       "    <tr>\n",
       "      <td>1</td>\n",
       "      <td>GRAN VIA CORTS CATALANES, 760</td>\n",
       "      <td>ELECTRICBIKESTATION</td>\n",
       "      <td>41.397952</td>\n",
       "      <td>2.180042</td>\n",
       "      <td>21.0</td>\n",
       "      <td>GRAN VIA CORTS CATALANES, 760</td>\n",
       "      <td>08908</td>\n",
       "      <td>46</td>\n",
       "      <td>1000.0</td>\n",
       "      <td>NaN</td>\n",
       "    </tr>\n",
       "    <tr>\n",
       "      <td>2</td>\n",
       "      <td>C/ ROGER DE FLOR, 126</td>\n",
       "      <td>ELECTRICBIKESTATION</td>\n",
       "      <td>41.395530</td>\n",
       "      <td>2.177060</td>\n",
       "      <td>21.0</td>\n",
       "      <td>C/ ROGER DE FLOR, 126</td>\n",
       "      <td>08908</td>\n",
       "      <td>27</td>\n",
       "      <td>1000.0</td>\n",
       "      <td>NaN</td>\n",
       "    </tr>\n",
       "    <tr>\n",
       "      <td>3</td>\n",
       "      <td>C/ NÀPOLS, 82</td>\n",
       "      <td>ELECTRICBIKESTATION</td>\n",
       "      <td>41.394055</td>\n",
       "      <td>2.181299</td>\n",
       "      <td>22.0</td>\n",
       "      <td>C/ NÀPOLS, 82</td>\n",
       "      <td>08908</td>\n",
       "      <td>27</td>\n",
       "      <td>1000.0</td>\n",
       "      <td>NaN</td>\n",
       "    </tr>\n",
       "    <tr>\n",
       "      <td>4</td>\n",
       "      <td>C/ RIBES, 13</td>\n",
       "      <td>ELECTRICBIKESTATION</td>\n",
       "      <td>41.393480</td>\n",
       "      <td>2.181555</td>\n",
       "      <td>21.0</td>\n",
       "      <td>C/ RIBES, 13</td>\n",
       "      <td>08908</td>\n",
       "      <td>21</td>\n",
       "      <td>1000.0</td>\n",
       "      <td>NaN</td>\n",
       "    </tr>\n",
       "    <tr>\n",
       "      <td>5</td>\n",
       "      <td>PG. LLUIS COMPANYS, 11 (ARC TRIOMF)</td>\n",
       "      <td>ELECTRICBIKESTATION</td>\n",
       "      <td>41.391075</td>\n",
       "      <td>2.180223</td>\n",
       "      <td>16.0</td>\n",
       "      <td>PG. LLUIS COMPANYS, 11 (ARC TRIOMF)</td>\n",
       "      <td>08908</td>\n",
       "      <td>39</td>\n",
       "      <td>1000.0</td>\n",
       "      <td>NaN</td>\n",
       "    </tr>\n",
       "    <tr>\n",
       "      <td>...</td>\n",
       "      <td>...</td>\n",
       "      <td>...</td>\n",
       "      <td>...</td>\n",
       "      <td>...</td>\n",
       "      <td>...</td>\n",
       "      <td>...</td>\n",
       "      <td>...</td>\n",
       "      <td>...</td>\n",
       "      <td>...</td>\n",
       "      <td>...</td>\n",
       "    </tr>\n",
       "    <tr>\n",
       "      <td>495</td>\n",
       "      <td>C/ DIPUTACIÓ - TARRAGONA</td>\n",
       "      <td>ELECTRICBIKESTATION</td>\n",
       "      <td>41.376708</td>\n",
       "      <td>2.148395</td>\n",
       "      <td>45.0</td>\n",
       "      <td>C/ DIPUTACIÓ - TARRAGONA</td>\n",
       "      <td>08908</td>\n",
       "      <td>24</td>\n",
       "      <td>1000.0</td>\n",
       "      <td>NaN</td>\n",
       "    </tr>\n",
       "    <tr>\n",
       "      <td>496</td>\n",
       "      <td>C/ PROVENÇA,  445</td>\n",
       "      <td>ELECTRICBIKESTATION</td>\n",
       "      <td>41.404839</td>\n",
       "      <td>2.174820</td>\n",
       "      <td>21.0</td>\n",
       "      <td>C/ PROVENÇA, 445</td>\n",
       "      <td>1</td>\n",
       "      <td>18</td>\n",
       "      <td>1000.0</td>\n",
       "      <td>NaN</td>\n",
       "    </tr>\n",
       "    <tr>\n",
       "      <td>507</td>\n",
       "      <td>C/ SARDENYA, 494</td>\n",
       "      <td>ELECTRICBIKESTATION</td>\n",
       "      <td>41.410764</td>\n",
       "      <td>2.164096</td>\n",
       "      <td>0.0</td>\n",
       "      <td>C/ SARDENYA, 494</td>\n",
       "      <td>08024</td>\n",
       "      <td>24</td>\n",
       "      <td>1000.0</td>\n",
       "      <td>NaN</td>\n",
       "    </tr>\n",
       "    <tr>\n",
       "      <td>508</td>\n",
       "      <td>C/ SARDENYA, 465</td>\n",
       "      <td>ELECTRICBIKESTATION</td>\n",
       "      <td>41.409092</td>\n",
       "      <td>2.165637</td>\n",
       "      <td>0.0</td>\n",
       "      <td>C/ SARDENYA, 465</td>\n",
       "      <td>08025</td>\n",
       "      <td>27</td>\n",
       "      <td>1000.0</td>\n",
       "      <td>NaN</td>\n",
       "    </tr>\n",
       "    <tr>\n",
       "      <td>516</td>\n",
       "      <td>C/ SANT ADRIÀ, 88</td>\n",
       "      <td>ELECTRICBIKESTATION</td>\n",
       "      <td>41.435460</td>\n",
       "      <td>2.200156</td>\n",
       "      <td>0.0</td>\n",
       "      <td>C/ SANT ADRIÀ, 88</td>\n",
       "      <td>08030</td>\n",
       "      <td>21</td>\n",
       "      <td>1000.0</td>\n",
       "      <td>NaN</td>\n",
       "    </tr>\n",
       "  </tbody>\n",
       "</table>\n",
       "<p>445 rows × 10 columns</p>\n",
       "</div>"
      ],
      "text/plain": [
       "                                           name physical_configuration  \\\n",
       "station_id                                                               \n",
       "1                 GRAN VIA CORTS CATALANES, 760    ELECTRICBIKESTATION   \n",
       "2                         C/ ROGER DE FLOR, 126    ELECTRICBIKESTATION   \n",
       "3                                 C/ NÀPOLS, 82    ELECTRICBIKESTATION   \n",
       "4                                  C/ RIBES, 13    ELECTRICBIKESTATION   \n",
       "5           PG. LLUIS COMPANYS, 11 (ARC TRIOMF)    ELECTRICBIKESTATION   \n",
       "...                                         ...                    ...   \n",
       "495                    C/ DIPUTACIÓ - TARRAGONA    ELECTRICBIKESTATION   \n",
       "496                           C/ PROVENÇA,  445    ELECTRICBIKESTATION   \n",
       "507                            C/ SARDENYA, 494    ELECTRICBIKESTATION   \n",
       "508                            C/ SARDENYA, 465    ELECTRICBIKESTATION   \n",
       "516                           C/ SANT ADRIÀ, 88    ELECTRICBIKESTATION   \n",
       "\n",
       "                  lat       lon  altitude  \\\n",
       "station_id                                  \n",
       "1           41.397952  2.180042      21.0   \n",
       "2           41.395530  2.177060      21.0   \n",
       "3           41.394055  2.181299      22.0   \n",
       "4           41.393480  2.181555      21.0   \n",
       "5           41.391075  2.180223      16.0   \n",
       "...               ...       ...       ...   \n",
       "495         41.376708  2.148395      45.0   \n",
       "496         41.404839  2.174820      21.0   \n",
       "507         41.410764  2.164096       0.0   \n",
       "508         41.409092  2.165637       0.0   \n",
       "516         41.435460  2.200156       0.0   \n",
       "\n",
       "                                        address post_code  capacity  \\\n",
       "station_id                                                            \n",
       "1                 GRAN VIA CORTS CATALANES, 760     08908        46   \n",
       "2                         C/ ROGER DE FLOR, 126     08908        27   \n",
       "3                                 C/ NÀPOLS, 82     08908        27   \n",
       "4                                  C/ RIBES, 13     08908        21   \n",
       "5           PG. LLUIS COMPANYS, 11 (ARC TRIOMF)     08908        39   \n",
       "...                                         ...       ...       ...   \n",
       "495                    C/ DIPUTACIÓ - TARRAGONA     08908        24   \n",
       "496                            C/ PROVENÇA, 445         1        18   \n",
       "507                            C/ SARDENYA, 494     08024        24   \n",
       "508                            C/ SARDENYA, 465     08025        27   \n",
       "516                           C/ SANT ADRIÀ, 88     08030        21   \n",
       "\n",
       "            nearby_distance cross_street  \n",
       "station_id                                \n",
       "1                    1000.0          NaN  \n",
       "2                    1000.0          NaN  \n",
       "3                    1000.0          NaN  \n",
       "4                    1000.0          NaN  \n",
       "5                    1000.0          NaN  \n",
       "...                     ...          ...  \n",
       "495                  1000.0          NaN  \n",
       "496                  1000.0          NaN  \n",
       "507                  1000.0          NaN  \n",
       "508                  1000.0          NaN  \n",
       "516                  1000.0          NaN  \n",
       "\n",
       "[445 rows x 10 columns]"
      ]
     },
     "execution_count": 7,
     "metadata": {},
     "output_type": "execute_result"
    }
   ],
   "source": [
    "data = info.data.values[0]\n",
    "\n",
    "info = pd.DataFrame.from_dict(data)\n",
    "\n",
    "info.set_index('station_id')"
   ]
  },
  {
   "cell_type": "code",
   "execution_count": 8,
   "metadata": {
    "ExecuteTime": {
     "end_time": "2020-03-28T19:36:02.643359Z",
     "start_time": "2020-03-28T19:36:02.627846Z"
    }
   },
   "outputs": [
    {
     "data": {
      "text/html": [
       "<div>\n",
       "<style scoped>\n",
       "    .dataframe tbody tr th:only-of-type {\n",
       "        vertical-align: middle;\n",
       "    }\n",
       "\n",
       "    .dataframe tbody tr th {\n",
       "        vertical-align: top;\n",
       "    }\n",
       "\n",
       "    .dataframe thead th {\n",
       "        text-align: right;\n",
       "    }\n",
       "</style>\n",
       "<table border=\"1\" class=\"dataframe\">\n",
       "  <thead>\n",
       "    <tr style=\"text-align: right;\">\n",
       "      <th></th>\n",
       "      <th>station_id</th>\n",
       "      <th>name</th>\n",
       "      <th>physical_configuration</th>\n",
       "      <th>lat</th>\n",
       "      <th>lon</th>\n",
       "      <th>altitude</th>\n",
       "      <th>address</th>\n",
       "      <th>post_code</th>\n",
       "      <th>capacity</th>\n",
       "      <th>nearby_distance</th>\n",
       "      <th>cross_street</th>\n",
       "    </tr>\n",
       "  </thead>\n",
       "  <tbody>\n",
       "    <tr>\n",
       "      <td>0</td>\n",
       "      <td>1</td>\n",
       "      <td>GRAN VIA CORTS CATALANES, 760</td>\n",
       "      <td>ELECTRICBIKESTATION</td>\n",
       "      <td>41.397952</td>\n",
       "      <td>2.180042</td>\n",
       "      <td>21.0</td>\n",
       "      <td>GRAN VIA CORTS CATALANES, 760</td>\n",
       "      <td>08908</td>\n",
       "      <td>46</td>\n",
       "      <td>1000.0</td>\n",
       "      <td>NaN</td>\n",
       "    </tr>\n",
       "    <tr>\n",
       "      <td>1</td>\n",
       "      <td>2</td>\n",
       "      <td>C/ ROGER DE FLOR, 126</td>\n",
       "      <td>ELECTRICBIKESTATION</td>\n",
       "      <td>41.395530</td>\n",
       "      <td>2.177060</td>\n",
       "      <td>21.0</td>\n",
       "      <td>C/ ROGER DE FLOR, 126</td>\n",
       "      <td>08908</td>\n",
       "      <td>27</td>\n",
       "      <td>1000.0</td>\n",
       "      <td>NaN</td>\n",
       "    </tr>\n",
       "    <tr>\n",
       "      <td>2</td>\n",
       "      <td>3</td>\n",
       "      <td>C/ NÀPOLS, 82</td>\n",
       "      <td>ELECTRICBIKESTATION</td>\n",
       "      <td>41.394055</td>\n",
       "      <td>2.181299</td>\n",
       "      <td>22.0</td>\n",
       "      <td>C/ NÀPOLS, 82</td>\n",
       "      <td>08908</td>\n",
       "      <td>27</td>\n",
       "      <td>1000.0</td>\n",
       "      <td>NaN</td>\n",
       "    </tr>\n",
       "    <tr>\n",
       "      <td>3</td>\n",
       "      <td>4</td>\n",
       "      <td>C/ RIBES, 13</td>\n",
       "      <td>ELECTRICBIKESTATION</td>\n",
       "      <td>41.393480</td>\n",
       "      <td>2.181555</td>\n",
       "      <td>21.0</td>\n",
       "      <td>C/ RIBES, 13</td>\n",
       "      <td>08908</td>\n",
       "      <td>21</td>\n",
       "      <td>1000.0</td>\n",
       "      <td>NaN</td>\n",
       "    </tr>\n",
       "    <tr>\n",
       "      <td>4</td>\n",
       "      <td>5</td>\n",
       "      <td>PG. LLUIS COMPANYS, 11 (ARC TRIOMF)</td>\n",
       "      <td>ELECTRICBIKESTATION</td>\n",
       "      <td>41.391075</td>\n",
       "      <td>2.180223</td>\n",
       "      <td>16.0</td>\n",
       "      <td>PG. LLUIS COMPANYS, 11 (ARC TRIOMF)</td>\n",
       "      <td>08908</td>\n",
       "      <td>39</td>\n",
       "      <td>1000.0</td>\n",
       "      <td>NaN</td>\n",
       "    </tr>\n",
       "  </tbody>\n",
       "</table>\n",
       "</div>"
      ],
      "text/plain": [
       "   station_id                                 name physical_configuration  \\\n",
       "0           1        GRAN VIA CORTS CATALANES, 760    ELECTRICBIKESTATION   \n",
       "1           2                C/ ROGER DE FLOR, 126    ELECTRICBIKESTATION   \n",
       "2           3                        C/ NÀPOLS, 82    ELECTRICBIKESTATION   \n",
       "3           4                         C/ RIBES, 13    ELECTRICBIKESTATION   \n",
       "4           5  PG. LLUIS COMPANYS, 11 (ARC TRIOMF)    ELECTRICBIKESTATION   \n",
       "\n",
       "         lat       lon  altitude                              address  \\\n",
       "0  41.397952  2.180042      21.0        GRAN VIA CORTS CATALANES, 760   \n",
       "1  41.395530  2.177060      21.0                C/ ROGER DE FLOR, 126   \n",
       "2  41.394055  2.181299      22.0                        C/ NÀPOLS, 82   \n",
       "3  41.393480  2.181555      21.0                         C/ RIBES, 13   \n",
       "4  41.391075  2.180223      16.0  PG. LLUIS COMPANYS, 11 (ARC TRIOMF)   \n",
       "\n",
       "  post_code  capacity  nearby_distance cross_street  \n",
       "0     08908        46           1000.0          NaN  \n",
       "1     08908        27           1000.0          NaN  \n",
       "2     08908        27           1000.0          NaN  \n",
       "3     08908        21           1000.0          NaN  \n",
       "4     08908        39           1000.0          NaN  "
      ]
     },
     "execution_count": 8,
     "metadata": {},
     "output_type": "execute_result"
    }
   ],
   "source": [
    "info.head()"
   ]
  },
  {
   "cell_type": "code",
   "execution_count": 9,
   "metadata": {
    "ExecuteTime": {
     "end_time": "2020-03-28T19:36:02.649469Z",
     "start_time": "2020-03-28T19:36:02.645774Z"
    }
   },
   "outputs": [
    {
     "data": {
      "text/plain": [
       "Index(['station_id', 'name', 'physical_configuration', 'lat', 'lon',\n",
       "       'altitude', 'address', 'post_code', 'capacity', 'nearby_distance',\n",
       "       'cross_street'],\n",
       "      dtype='object')"
      ]
     },
     "execution_count": 9,
     "metadata": {},
     "output_type": "execute_result"
    }
   ],
   "source": [
    "info.columns"
   ]
  },
  {
   "cell_type": "markdown",
   "metadata": {},
   "source": [
    "We have a Dataset including the neighborhood name in every Bicing Station, so we'll join this `NOM` column to the `info` dataset later on, joining by `station_id`."
   ]
  },
  {
   "cell_type": "code",
   "execution_count": 10,
   "metadata": {
    "ExecuteTime": {
     "end_time": "2020-03-28T19:36:02.659299Z",
     "start_time": "2020-03-28T19:36:02.650977Z"
    }
   },
   "outputs": [],
   "source": [
    "neighbourhoods = pd.read_csv('Data/bicing_por_barrios.csv', index_col='station_id')"
   ]
  },
  {
   "cell_type": "code",
   "execution_count": 11,
   "metadata": {
    "ExecuteTime": {
     "end_time": "2020-03-28T19:36:02.669423Z",
     "start_time": "2020-03-28T19:36:02.661407Z"
    }
   },
   "outputs": [
    {
     "data": {
      "text/html": [
       "<div>\n",
       "<style scoped>\n",
       "    .dataframe tbody tr th:only-of-type {\n",
       "        vertical-align: middle;\n",
       "    }\n",
       "\n",
       "    .dataframe tbody tr th {\n",
       "        vertical-align: top;\n",
       "    }\n",
       "\n",
       "    .dataframe thead th {\n",
       "        text-align: right;\n",
       "    }\n",
       "</style>\n",
       "<table border=\"1\" class=\"dataframe\">\n",
       "  <thead>\n",
       "    <tr style=\"text-align: right;\">\n",
       "      <th></th>\n",
       "      <th>Unnamed: 0</th>\n",
       "      <th>name</th>\n",
       "      <th>BARRI</th>\n",
       "      <th>NOM</th>\n",
       "    </tr>\n",
       "    <tr>\n",
       "      <th>station_id</th>\n",
       "      <th></th>\n",
       "      <th></th>\n",
       "      <th></th>\n",
       "      <th></th>\n",
       "    </tr>\n",
       "  </thead>\n",
       "  <tbody>\n",
       "    <tr>\n",
       "      <td>1</td>\n",
       "      <td>0</td>\n",
       "      <td>GRAN VIA CORTS CATALANES, 760</td>\n",
       "      <td>5</td>\n",
       "      <td>el Fort Pienc</td>\n",
       "    </tr>\n",
       "    <tr>\n",
       "      <td>2</td>\n",
       "      <td>1</td>\n",
       "      <td>C/ ROGER DE FLOR, 126</td>\n",
       "      <td>5</td>\n",
       "      <td>el Fort Pienc</td>\n",
       "    </tr>\n",
       "    <tr>\n",
       "      <td>3</td>\n",
       "      <td>2</td>\n",
       "      <td>C/ NÀPOLS, 82</td>\n",
       "      <td>5</td>\n",
       "      <td>el Fort Pienc</td>\n",
       "    </tr>\n",
       "    <tr>\n",
       "      <td>4</td>\n",
       "      <td>3</td>\n",
       "      <td>C/ RIBES, 13</td>\n",
       "      <td>5</td>\n",
       "      <td>el Fort Pienc</td>\n",
       "    </tr>\n",
       "    <tr>\n",
       "      <td>17</td>\n",
       "      <td>14</td>\n",
       "      <td>AV. MERIDIANA, 47 (ANNEXA A LA 16)</td>\n",
       "      <td>5</td>\n",
       "      <td>el Fort Pienc</td>\n",
       "    </tr>\n",
       "  </tbody>\n",
       "</table>\n",
       "</div>"
      ],
      "text/plain": [
       "            Unnamed: 0                                name  BARRI  \\\n",
       "station_id                                                          \n",
       "1                    0       GRAN VIA CORTS CATALANES, 760      5   \n",
       "2                    1               C/ ROGER DE FLOR, 126      5   \n",
       "3                    2                       C/ NÀPOLS, 82      5   \n",
       "4                    3                        C/ RIBES, 13      5   \n",
       "17                  14  AV. MERIDIANA, 47 (ANNEXA A LA 16)      5   \n",
       "\n",
       "                      NOM  \n",
       "station_id                 \n",
       "1           el Fort Pienc  \n",
       "2           el Fort Pienc  \n",
       "3           el Fort Pienc  \n",
       "4           el Fort Pienc  \n",
       "17          el Fort Pienc  "
      ]
     },
     "execution_count": 11,
     "metadata": {},
     "output_type": "execute_result"
    }
   ],
   "source": [
    "neighbourhoods.head()"
   ]
  },
  {
   "cell_type": "markdown",
   "metadata": {},
   "source": [
    "We'll also use a dataset containing the index of the wealth of Barcelona citizens, and the total population, distributed by neighbourhoods. Data from 2017:"
   ]
  },
  {
   "cell_type": "code",
   "execution_count": 50,
   "metadata": {
    "ExecuteTime": {
     "end_time": "2020-03-28T19:58:46.670535Z",
     "start_time": "2020-03-28T19:58:46.664988Z"
    }
   },
   "outputs": [],
   "source": [
    "rfd = pd.read_csv('Data/rfd_index.csv')"
   ]
  },
  {
   "cell_type": "code",
   "execution_count": 51,
   "metadata": {
    "ExecuteTime": {
     "end_time": "2020-03-28T19:58:47.795156Z",
     "start_time": "2020-03-28T19:58:47.785957Z"
    }
   },
   "outputs": [
    {
     "data": {
      "text/html": [
       "<div>\n",
       "<style scoped>\n",
       "    .dataframe tbody tr th:only-of-type {\n",
       "        vertical-align: middle;\n",
       "    }\n",
       "\n",
       "    .dataframe tbody tr th {\n",
       "        vertical-align: top;\n",
       "    }\n",
       "\n",
       "    .dataframe thead th {\n",
       "        text-align: right;\n",
       "    }\n",
       "</style>\n",
       "<table border=\"1\" class=\"dataframe\">\n",
       "  <thead>\n",
       "    <tr style=\"text-align: right;\">\n",
       "      <th></th>\n",
       "      <th>Any</th>\n",
       "      <th>Codi_Districte</th>\n",
       "      <th>Nom_Districte</th>\n",
       "      <th>Codi_Barri</th>\n",
       "      <th>Nom_Barri</th>\n",
       "      <th>Població</th>\n",
       "      <th>Índex RFD Barcelona = 100</th>\n",
       "    </tr>\n",
       "  </thead>\n",
       "  <tbody>\n",
       "    <tr>\n",
       "      <td>0</td>\n",
       "      <td>2017</td>\n",
       "      <td>1</td>\n",
       "      <td>Ciutat Vella</td>\n",
       "      <td>1</td>\n",
       "      <td>el Raval</td>\n",
       "      <td>47986</td>\n",
       "      <td>71.2</td>\n",
       "    </tr>\n",
       "    <tr>\n",
       "      <td>1</td>\n",
       "      <td>2017</td>\n",
       "      <td>1</td>\n",
       "      <td>Ciutat Vella</td>\n",
       "      <td>2</td>\n",
       "      <td>el Barri Gòtic</td>\n",
       "      <td>16240</td>\n",
       "      <td>106.1</td>\n",
       "    </tr>\n",
       "    <tr>\n",
       "      <td>2</td>\n",
       "      <td>2017</td>\n",
       "      <td>1</td>\n",
       "      <td>Ciutat Vella</td>\n",
       "      <td>3</td>\n",
       "      <td>la Barceloneta</td>\n",
       "      <td>15101</td>\n",
       "      <td>79.6</td>\n",
       "    </tr>\n",
       "    <tr>\n",
       "      <td>3</td>\n",
       "      <td>2017</td>\n",
       "      <td>1</td>\n",
       "      <td>Ciutat Vella</td>\n",
       "      <td>4</td>\n",
       "      <td>Sant Pere, Santa Caterina i la Ribera</td>\n",
       "      <td>22923</td>\n",
       "      <td>99.4</td>\n",
       "    </tr>\n",
       "    <tr>\n",
       "      <td>4</td>\n",
       "      <td>2017</td>\n",
       "      <td>2</td>\n",
       "      <td>Eixample</td>\n",
       "      <td>5</td>\n",
       "      <td>el Fort Pienc</td>\n",
       "      <td>32048</td>\n",
       "      <td>106.5</td>\n",
       "    </tr>\n",
       "  </tbody>\n",
       "</table>\n",
       "</div>"
      ],
      "text/plain": [
       "    Any  Codi_Districte Nom_Districte  Codi_Barri  \\\n",
       "0  2017               1  Ciutat Vella           1   \n",
       "1  2017               1  Ciutat Vella           2   \n",
       "2  2017               1  Ciutat Vella           3   \n",
       "3  2017               1  Ciutat Vella           4   \n",
       "4  2017               2      Eixample           5   \n",
       "\n",
       "                               Nom_Barri  Població  Índex RFD Barcelona = 100  \n",
       "0                               el Raval     47986                       71.2  \n",
       "1                         el Barri Gòtic     16240                      106.1  \n",
       "2                         la Barceloneta     15101                       79.6  \n",
       "3  Sant Pere, Santa Caterina i la Ribera     22923                       99.4  \n",
       "4                          el Fort Pienc     32048                      106.5  "
      ]
     },
     "execution_count": 51,
     "metadata": {},
     "output_type": "execute_result"
    }
   ],
   "source": [
    "rfd.head(5)"
   ]
  },
  {
   "cell_type": "markdown",
   "metadata": {},
   "source": [
    "# Analyzing and manipulating the datasets"
   ]
  },
  {
   "cell_type": "markdown",
   "metadata": {},
   "source": [
    "We're analyzing all the information the columns of our datasets are giving us:"
   ]
  },
  {
   "cell_type": "markdown",
   "metadata": {},
   "source": [
    "### Bicing Stations ACTIVITY:"
   ]
  },
  {
   "cell_type": "markdown",
   "metadata": {},
   "source": [
    "- 1. `station_id`: Unique id of the Bicing station. This is a shared column with the one in the `info` dataset.\n",
    "- 2. `num_bikes_available`: Number of bikes (both mechanical and electrical) available to withdraw\n",
    "- 3. `num_bikes_available_types.mechanical`: Subset of `num_bikes_available` indicating mechanical ones\n",
    "- 4. `num_bikes_available_types.ebike`: Subset of `num_bikes_available` indicating electrical ones\n",
    "- 5. `num_docks_available`: Number of slots available to deposit any kind of bikes\n",
    "- 6. `is_installed`: 0 or 1 (T/F) if the station is operative.\n",
    "- 7. `is_renting`: 0 or 1 (T/F) if the station is operative.\n",
    "- 8. `is_returning`: 0 or 1 (T/F) if the station is operative.\n",
    "- 9. `last_reported`: Timestamp of the last movement in the station\n",
    "- 10. `is_charging_station`: T/F if the station has charging capabilities.\n",
    "- 11. `status`: Current status of the station\n",
    "- 12. `last_updated`: Timestamp of the moment when the station sent the update to the server.\n",
    "- 13. `ttl`: Some communication protocol metric, not useful for us"
   ]
  },
  {
   "cell_type": "markdown",
   "metadata": {
    "ExecuteTime": {
     "end_time": "2020-03-28T15:07:26.644278Z",
     "start_time": "2020-03-28T15:07:26.637993Z"
    }
   },
   "source": [
    "The following changes will be made:\n",
    "\n",
    "- Renaming the columns:\n",
    " - `num_bikes_available` to `total_available`.\n",
    " - `num_bikes_available_types.mechanical` to `bikes` \n",
    " - `num_bikes_available_types.ebike` to `ebikes`\n",
    " - `num_docks_available` to `empty_slots`\n",
    " - `last_reported`to `time`\n",
    " \n",
    "- Dropping columns:\n",
    " - `is_charging_station`: All our entries contain a 1, so we assume all stations are the same type\n",
    " - `last_updated`: The time where the server got updated is not valuable for us\n",
    " - `ttl`: This is a metric which is not useful for us\n",
    " \n",
    "- Adding column:\n",
    " - `capacity`: This will be the sum of `total_available` + `empty_slots`, which will tell the total capacity of the station\n",
    " - `p_bike`: This column computes the % chance (0-1) of getting a bike (`total_available` / `capacity`)\n",
    " - `p_slot`: This column computes the % chance (0-1) of be able to deposit a bike (1- `p_bike`)\n",
    "\n"
   ]
  },
  {
   "cell_type": "code",
   "execution_count": 14,
   "metadata": {
    "ExecuteTime": {
     "end_time": "2020-03-28T19:36:06.965120Z",
     "start_time": "2020-03-28T19:36:02.691947Z"
    }
   },
   "outputs": [],
   "source": [
    "activity.drop(columns=['is_charging_station', 'last_updated', 'ttl'], inplace= True)"
   ]
  },
  {
   "cell_type": "code",
   "execution_count": 15,
   "metadata": {
    "ExecuteTime": {
     "end_time": "2020-03-28T19:39:59.202578Z",
     "start_time": "2020-03-28T19:36:06.966976Z"
    }
   },
   "outputs": [],
   "source": [
    "activity['last_reported'] = pd.to_datetime(activity.last_reported, unit='s')"
   ]
  },
  {
   "cell_type": "code",
   "execution_count": 16,
   "metadata": {
    "ExecuteTime": {
     "end_time": "2020-03-28T19:39:59.207545Z",
     "start_time": "2020-03-28T19:39:59.204194Z"
    }
   },
   "outputs": [],
   "source": [
    "activity.columns = ['station_id', 'total_available', 'bikes', 'ebikes', 'empty_slots', 'is_installed', 'is_renting',\n",
    "                    'is_returning', 'last_reported', 'status']"
   ]
  },
  {
   "cell_type": "code",
   "execution_count": 17,
   "metadata": {
    "ExecuteTime": {
     "end_time": "2020-03-28T19:39:59.444911Z",
     "start_time": "2020-03-28T19:39:59.210456Z"
    }
   },
   "outputs": [],
   "source": [
    "activity['capacity'] = round(activity.total_available + activity.empty_slots, 2)"
   ]
  },
  {
   "cell_type": "code",
   "execution_count": 18,
   "metadata": {
    "ExecuteTime": {
     "end_time": "2020-03-28T19:40:00.085246Z",
     "start_time": "2020-03-28T19:39:59.446441Z"
    }
   },
   "outputs": [],
   "source": [
    "activity['p_bike'] = round(activity.total_available / activity.capacity, 2)"
   ]
  },
  {
   "cell_type": "code",
   "execution_count": 19,
   "metadata": {
    "ExecuteTime": {
     "end_time": "2020-03-28T19:40:00.726286Z",
     "start_time": "2020-03-28T19:40:00.087013Z"
    }
   },
   "outputs": [],
   "source": [
    "activity['p_slot'] = round(1 - activity.p_bike, 2)"
   ]
  },
  {
   "cell_type": "code",
   "execution_count": 20,
   "metadata": {
    "ExecuteTime": {
     "end_time": "2020-03-28T19:40:00.740648Z",
     "start_time": "2020-03-28T19:40:00.727969Z"
    }
   },
   "outputs": [
    {
     "data": {
      "text/html": [
       "<div>\n",
       "<style scoped>\n",
       "    .dataframe tbody tr th:only-of-type {\n",
       "        vertical-align: middle;\n",
       "    }\n",
       "\n",
       "    .dataframe tbody tr th {\n",
       "        vertical-align: top;\n",
       "    }\n",
       "\n",
       "    .dataframe thead th {\n",
       "        text-align: right;\n",
       "    }\n",
       "</style>\n",
       "<table border=\"1\" class=\"dataframe\">\n",
       "  <thead>\n",
       "    <tr style=\"text-align: right;\">\n",
       "      <th></th>\n",
       "      <th>station_id</th>\n",
       "      <th>total_available</th>\n",
       "      <th>bikes</th>\n",
       "      <th>ebikes</th>\n",
       "      <th>empty_slots</th>\n",
       "      <th>is_installed</th>\n",
       "      <th>is_renting</th>\n",
       "      <th>is_returning</th>\n",
       "      <th>last_reported</th>\n",
       "      <th>status</th>\n",
       "      <th>capacity</th>\n",
       "      <th>p_bike</th>\n",
       "      <th>p_slot</th>\n",
       "    </tr>\n",
       "  </thead>\n",
       "  <tbody>\n",
       "    <tr>\n",
       "      <td>0</td>\n",
       "      <td>1</td>\n",
       "      <td>16</td>\n",
       "      <td>16</td>\n",
       "      <td>0</td>\n",
       "      <td>14</td>\n",
       "      <td>1</td>\n",
       "      <td>1</td>\n",
       "      <td>1</td>\n",
       "      <td>2019-03-28 17:54:30</td>\n",
       "      <td>IN_SERVICE</td>\n",
       "      <td>30</td>\n",
       "      <td>0.53</td>\n",
       "      <td>0.47</td>\n",
       "    </tr>\n",
       "    <tr>\n",
       "      <td>1</td>\n",
       "      <td>2</td>\n",
       "      <td>27</td>\n",
       "      <td>27</td>\n",
       "      <td>0</td>\n",
       "      <td>0</td>\n",
       "      <td>1</td>\n",
       "      <td>1</td>\n",
       "      <td>1</td>\n",
       "      <td>2019-03-28 17:55:24</td>\n",
       "      <td>IN_SERVICE</td>\n",
       "      <td>27</td>\n",
       "      <td>1.00</td>\n",
       "      <td>0.00</td>\n",
       "    </tr>\n",
       "    <tr>\n",
       "      <td>2</td>\n",
       "      <td>3</td>\n",
       "      <td>20</td>\n",
       "      <td>20</td>\n",
       "      <td>0</td>\n",
       "      <td>7</td>\n",
       "      <td>1</td>\n",
       "      <td>1</td>\n",
       "      <td>1</td>\n",
       "      <td>2019-03-28 17:55:09</td>\n",
       "      <td>IN_SERVICE</td>\n",
       "      <td>27</td>\n",
       "      <td>0.74</td>\n",
       "      <td>0.26</td>\n",
       "    </tr>\n",
       "  </tbody>\n",
       "</table>\n",
       "</div>"
      ],
      "text/plain": [
       "   station_id  total_available  bikes  ebikes  empty_slots  is_installed  \\\n",
       "0           1               16     16       0           14             1   \n",
       "1           2               27     27       0            0             1   \n",
       "2           3               20     20       0            7             1   \n",
       "\n",
       "   is_renting  is_returning       last_reported      status  capacity  p_bike  \\\n",
       "0           1             1 2019-03-28 17:54:30  IN_SERVICE        30    0.53   \n",
       "1           1             1 2019-03-28 17:55:24  IN_SERVICE        27    1.00   \n",
       "2           1             1 2019-03-28 17:55:09  IN_SERVICE        27    0.74   \n",
       "\n",
       "   p_slot  \n",
       "0    0.47  \n",
       "1    0.00  \n",
       "2    0.26  "
      ]
     },
     "execution_count": 20,
     "metadata": {},
     "output_type": "execute_result"
    }
   ],
   "source": [
    "activity.head(3)"
   ]
  },
  {
   "cell_type": "markdown",
   "metadata": {},
   "source": [
    "### Bicing Stations INFORMATION:"
   ]
  },
  {
   "cell_type": "markdown",
   "metadata": {},
   "source": [
    " - 1. `station_id`: Unique id of the Bicing station. This is a shared column with the one in the `activity` dataset.\n",
    " - 2. `name`: Address in where the station is located\n",
    " - 3. `physical_configuration`: String which defines the kind of station.\n",
    " - 4. `lat`: Latitude of the station\n",
    " - 5. `lon`: Longitude of the station\n",
    " - 6. `alt`: Altitude of the station in meters above sea level. \n",
    " - 7. `address`: Address of the station. Since the name of the station is it's address, both columns are the same.\n",
    " - 8. `post_code`: Postal code of the district the station is located.\n",
    " - 9. `capacity`: Capacity of the station of storaging and charging bikes\n",
    " - 10. `cross_street`: Name of the street crossing the Station Name street. Not useful for us and it's mostly NA values.\n",
    " - 11. `nearby_distance`: Contains unuseful data. Mostly NA values\n"
   ]
  },
  {
   "cell_type": "markdown",
   "metadata": {},
   "source": [
    "The following changes will be made:\n",
    "\n",
    "- Dropping columns:\n",
    " - `physical_configuration`: All values are the same, which indicates all stations are the same. Not useful\n",
    " - `address`: In this case, the values of this columns are duplicated with the `name` column.\n",
    " - `post_code`: Not useful for analysis\n",
    " - `capacity`: We already have this information on `activity`\n",
    " - `cross_street`: Mostly NA values\n",
    " - `nearby_distance`: NA values.\n",
    " \n",
    " \n",
    "- Adding column:\n",
    " - `neighborhood`: We'll add this information from the `neighborhood` dataset, to facilitate analysis."
   ]
  },
  {
   "cell_type": "code",
   "execution_count": 21,
   "metadata": {
    "ExecuteTime": {
     "end_time": "2020-03-28T19:40:00.747250Z",
     "start_time": "2020-03-28T19:40:00.742542Z"
    }
   },
   "outputs": [],
   "source": [
    "info.drop(columns=['physical_configuration','address', 'post_code', 'capacity', 'cross_street', 'nearby_distance'], inplace= True)"
   ]
  },
  {
   "cell_type": "code",
   "execution_count": 22,
   "metadata": {
    "ExecuteTime": {
     "end_time": "2020-03-28T19:40:00.758591Z",
     "start_time": "2020-03-28T19:40:00.749231Z"
    }
   },
   "outputs": [
    {
     "data": {
      "text/html": [
       "<div>\n",
       "<style scoped>\n",
       "    .dataframe tbody tr th:only-of-type {\n",
       "        vertical-align: middle;\n",
       "    }\n",
       "\n",
       "    .dataframe tbody tr th {\n",
       "        vertical-align: top;\n",
       "    }\n",
       "\n",
       "    .dataframe thead th {\n",
       "        text-align: right;\n",
       "    }\n",
       "</style>\n",
       "<table border=\"1\" class=\"dataframe\">\n",
       "  <thead>\n",
       "    <tr style=\"text-align: right;\">\n",
       "      <th></th>\n",
       "      <th>station_id</th>\n",
       "      <th>name</th>\n",
       "      <th>lat</th>\n",
       "      <th>lon</th>\n",
       "      <th>altitude</th>\n",
       "    </tr>\n",
       "  </thead>\n",
       "  <tbody>\n",
       "    <tr>\n",
       "      <td>0</td>\n",
       "      <td>1</td>\n",
       "      <td>GRAN VIA CORTS CATALANES, 760</td>\n",
       "      <td>41.397952</td>\n",
       "      <td>2.180042</td>\n",
       "      <td>21.0</td>\n",
       "    </tr>\n",
       "    <tr>\n",
       "      <td>1</td>\n",
       "      <td>2</td>\n",
       "      <td>C/ ROGER DE FLOR, 126</td>\n",
       "      <td>41.395530</td>\n",
       "      <td>2.177060</td>\n",
       "      <td>21.0</td>\n",
       "    </tr>\n",
       "  </tbody>\n",
       "</table>\n",
       "</div>"
      ],
      "text/plain": [
       "   station_id                           name        lat       lon  altitude\n",
       "0           1  GRAN VIA CORTS CATALANES, 760  41.397952  2.180042      21.0\n",
       "1           2          C/ ROGER DE FLOR, 126  41.395530  2.177060      21.0"
      ]
     },
     "execution_count": 22,
     "metadata": {},
     "output_type": "execute_result"
    }
   ],
   "source": [
    "info.head(2)"
   ]
  },
  {
   "cell_type": "code",
   "execution_count": 42,
   "metadata": {
    "ExecuteTime": {
     "end_time": "2020-03-28T19:53:49.034422Z",
     "start_time": "2020-03-28T19:53:49.028536Z"
    }
   },
   "outputs": [],
   "source": [
    "info = info.join(neighbourhoods[['NOM', 'BARRI']], on='station_id', how='left')"
   ]
  },
  {
   "cell_type": "code",
   "execution_count": 46,
   "metadata": {
    "ExecuteTime": {
     "end_time": "2020-03-28T19:54:50.815836Z",
     "start_time": "2020-03-28T19:54:50.811687Z"
    }
   },
   "outputs": [
    {
     "data": {
      "text/plain": [
       "Index(['station_id', 'name', 'lat', 'lon', 'altitude', 'NOM', 'BARRI'], dtype='object')"
      ]
     },
     "execution_count": 46,
     "metadata": {},
     "output_type": "execute_result"
    }
   ],
   "source": [
    "info.columns"
   ]
  },
  {
   "cell_type": "code",
   "execution_count": 48,
   "metadata": {
    "ExecuteTime": {
     "end_time": "2020-03-28T19:55:38.604045Z",
     "start_time": "2020-03-28T19:55:38.600711Z"
    }
   },
   "outputs": [],
   "source": [
    "info.columns = ['station_id', 'name', 'lat', 'lon', 'altitude', 'neigh', 'neigh_code']"
   ]
  },
  {
   "cell_type": "code",
   "execution_count": 49,
   "metadata": {
    "ExecuteTime": {
     "end_time": "2020-03-28T19:55:46.682468Z",
     "start_time": "2020-03-28T19:55:46.672682Z"
    }
   },
   "outputs": [
    {
     "data": {
      "text/html": [
       "<div>\n",
       "<style scoped>\n",
       "    .dataframe tbody tr th:only-of-type {\n",
       "        vertical-align: middle;\n",
       "    }\n",
       "\n",
       "    .dataframe tbody tr th {\n",
       "        vertical-align: top;\n",
       "    }\n",
       "\n",
       "    .dataframe thead th {\n",
       "        text-align: right;\n",
       "    }\n",
       "</style>\n",
       "<table border=\"1\" class=\"dataframe\">\n",
       "  <thead>\n",
       "    <tr style=\"text-align: right;\">\n",
       "      <th></th>\n",
       "      <th>station_id</th>\n",
       "      <th>name</th>\n",
       "      <th>lat</th>\n",
       "      <th>lon</th>\n",
       "      <th>altitude</th>\n",
       "      <th>neigh</th>\n",
       "      <th>neigh_code</th>\n",
       "    </tr>\n",
       "  </thead>\n",
       "  <tbody>\n",
       "    <tr>\n",
       "      <td>0</td>\n",
       "      <td>1</td>\n",
       "      <td>GRAN VIA CORTS CATALANES, 760</td>\n",
       "      <td>41.397952</td>\n",
       "      <td>2.180042</td>\n",
       "      <td>21.0</td>\n",
       "      <td>el Fort Pienc</td>\n",
       "      <td>5</td>\n",
       "    </tr>\n",
       "    <tr>\n",
       "      <td>1</td>\n",
       "      <td>2</td>\n",
       "      <td>C/ ROGER DE FLOR, 126</td>\n",
       "      <td>41.395530</td>\n",
       "      <td>2.177060</td>\n",
       "      <td>21.0</td>\n",
       "      <td>el Fort Pienc</td>\n",
       "      <td>5</td>\n",
       "    </tr>\n",
       "    <tr>\n",
       "      <td>2</td>\n",
       "      <td>3</td>\n",
       "      <td>C/ NÀPOLS, 82</td>\n",
       "      <td>41.394055</td>\n",
       "      <td>2.181299</td>\n",
       "      <td>22.0</td>\n",
       "      <td>el Fort Pienc</td>\n",
       "      <td>5</td>\n",
       "    </tr>\n",
       "    <tr>\n",
       "      <td>3</td>\n",
       "      <td>4</td>\n",
       "      <td>C/ RIBES, 13</td>\n",
       "      <td>41.393480</td>\n",
       "      <td>2.181555</td>\n",
       "      <td>21.0</td>\n",
       "      <td>el Fort Pienc</td>\n",
       "      <td>5</td>\n",
       "    </tr>\n",
       "    <tr>\n",
       "      <td>4</td>\n",
       "      <td>5</td>\n",
       "      <td>PG. LLUIS COMPANYS, 11 (ARC TRIOMF)</td>\n",
       "      <td>41.391075</td>\n",
       "      <td>2.180223</td>\n",
       "      <td>16.0</td>\n",
       "      <td>Sant Pere, Santa Caterina i la Ribera</td>\n",
       "      <td>4</td>\n",
       "    </tr>\n",
       "  </tbody>\n",
       "</table>\n",
       "</div>"
      ],
      "text/plain": [
       "   station_id                                 name        lat       lon  \\\n",
       "0           1        GRAN VIA CORTS CATALANES, 760  41.397952  2.180042   \n",
       "1           2                C/ ROGER DE FLOR, 126  41.395530  2.177060   \n",
       "2           3                        C/ NÀPOLS, 82  41.394055  2.181299   \n",
       "3           4                         C/ RIBES, 13  41.393480  2.181555   \n",
       "4           5  PG. LLUIS COMPANYS, 11 (ARC TRIOMF)  41.391075  2.180223   \n",
       "\n",
       "   altitude                                  neigh  neigh_code  \n",
       "0      21.0                          el Fort Pienc           5  \n",
       "1      21.0                          el Fort Pienc           5  \n",
       "2      22.0                          el Fort Pienc           5  \n",
       "3      21.0                          el Fort Pienc           5  \n",
       "4      16.0  Sant Pere, Santa Caterina i la Ribera           4  "
      ]
     },
     "execution_count": 49,
     "metadata": {},
     "output_type": "execute_result"
    }
   ],
   "source": [
    "info.head(5)"
   ]
  },
  {
   "cell_type": "markdown",
   "metadata": {},
   "source": [
    "### Barcelona RFD index:"
   ]
  },
  {
   "cell_type": "markdown",
   "metadata": {},
   "source": [
    "In this case, we'll stick to four columns which are useful for us:\n",
    " - `Nom_Districte`: Name of the Barcelona district (higher level). We'll rename it to `district`\n",
    " - `Codi_Barri`: The code of the neighborhood. We'll keep it for accessing. Renaming it to `neigh_code`\n",
    " - `Nom_Barri`: Name of the neighborhood. We'll rename it to `neigh`.\n",
    " - `Població`: Population on the neighborhood. New name is `pop`.\n",
    " - `Índex RFD Barcelona = 100`: Index of wealthness of the population. We'll rename it to `wealth`\n",
    " \n",
    "We're adding the following column:\n",
    " - `%pop`: Percentage of the population of Barcelona on the corresponding neighborhood\n",
    " - `norm_wealth`: We'll normalize the wealth index (0 poorest - 1 richest) and rename it to `norm_wealth`"
   ]
  },
  {
   "cell_type": "code",
   "execution_count": 54,
   "metadata": {
    "ExecuteTime": {
     "end_time": "2020-03-28T20:12:56.691742Z",
     "start_time": "2020-03-28T20:12:56.683467Z"
    }
   },
   "outputs": [
    {
     "data": {
      "text/html": [
       "<div>\n",
       "<style scoped>\n",
       "    .dataframe tbody tr th:only-of-type {\n",
       "        vertical-align: middle;\n",
       "    }\n",
       "\n",
       "    .dataframe tbody tr th {\n",
       "        vertical-align: top;\n",
       "    }\n",
       "\n",
       "    .dataframe thead th {\n",
       "        text-align: right;\n",
       "    }\n",
       "</style>\n",
       "<table border=\"1\" class=\"dataframe\">\n",
       "  <thead>\n",
       "    <tr style=\"text-align: right;\">\n",
       "      <th></th>\n",
       "      <th>Nom_Districte</th>\n",
       "      <th>Codi_Barri</th>\n",
       "      <th>Nom_Barri</th>\n",
       "      <th>Població</th>\n",
       "      <th>Índex RFD Barcelona = 100</th>\n",
       "    </tr>\n",
       "  </thead>\n",
       "  <tbody>\n",
       "    <tr>\n",
       "      <td>0</td>\n",
       "      <td>Ciutat Vella</td>\n",
       "      <td>1</td>\n",
       "      <td>el Raval</td>\n",
       "      <td>47986</td>\n",
       "      <td>71.2</td>\n",
       "    </tr>\n",
       "    <tr>\n",
       "      <td>1</td>\n",
       "      <td>Ciutat Vella</td>\n",
       "      <td>2</td>\n",
       "      <td>el Barri Gòtic</td>\n",
       "      <td>16240</td>\n",
       "      <td>106.1</td>\n",
       "    </tr>\n",
       "  </tbody>\n",
       "</table>\n",
       "</div>"
      ],
      "text/plain": [
       "  Nom_Districte  Codi_Barri       Nom_Barri  Població  \\\n",
       "0  Ciutat Vella           1        el Raval     47986   \n",
       "1  Ciutat Vella           2  el Barri Gòtic     16240   \n",
       "\n",
       "   Índex RFD Barcelona = 100  \n",
       "0                       71.2  \n",
       "1                      106.1  "
      ]
     },
     "execution_count": 54,
     "metadata": {},
     "output_type": "execute_result"
    }
   ],
   "source": [
    "rfd.head(2)"
   ]
  },
  {
   "cell_type": "code",
   "execution_count": 53,
   "metadata": {
    "ExecuteTime": {
     "end_time": "2020-03-28T20:12:54.748128Z",
     "start_time": "2020-03-28T20:12:54.744028Z"
    }
   },
   "outputs": [],
   "source": [
    "rfd.drop(columns=['Any', 'Codi_Districte'], inplace= True)"
   ]
  },
  {
   "cell_type": "code",
   "execution_count": 55,
   "metadata": {
    "ExecuteTime": {
     "end_time": "2020-03-28T20:16:31.926203Z",
     "start_time": "2020-03-28T20:16:31.922829Z"
    }
   },
   "outputs": [],
   "source": [
    "rfd.columns = ['district', 'neigh_code', 'neigh', 'pop', 'wealth']"
   ]
  },
  {
   "cell_type": "code",
   "execution_count": 65,
   "metadata": {
    "ExecuteTime": {
     "end_time": "2020-03-28T20:54:01.613718Z",
     "start_time": "2020-03-28T20:54:01.609026Z"
    }
   },
   "outputs": [],
   "source": [
    "rfd['norm_wealth'] =  round((rfd.wealth - rfd.wealth.min()) / (rfd.wealth.max() - rfd.wealth.min()), 3)"
   ]
  },
  {
   "cell_type": "code",
   "execution_count": 71,
   "metadata": {
    "ExecuteTime": {
     "end_time": "2020-03-28T20:57:16.595795Z",
     "start_time": "2020-03-28T20:57:16.591665Z"
    }
   },
   "outputs": [],
   "source": [
    "total_pop = rfd['pop'].sum()\n",
    "\n",
    "rfd['%pop'] = rfd['pop'] / total_pop"
   ]
  },
  {
   "cell_type": "code",
   "execution_count": 72,
   "metadata": {
    "ExecuteTime": {
     "end_time": "2020-03-28T20:57:24.962122Z",
     "start_time": "2020-03-28T20:57:24.952497Z"
    }
   },
   "outputs": [
    {
     "data": {
      "text/html": [
       "<div>\n",
       "<style scoped>\n",
       "    .dataframe tbody tr th:only-of-type {\n",
       "        vertical-align: middle;\n",
       "    }\n",
       "\n",
       "    .dataframe tbody tr th {\n",
       "        vertical-align: top;\n",
       "    }\n",
       "\n",
       "    .dataframe thead th {\n",
       "        text-align: right;\n",
       "    }\n",
       "</style>\n",
       "<table border=\"1\" class=\"dataframe\">\n",
       "  <thead>\n",
       "    <tr style=\"text-align: right;\">\n",
       "      <th></th>\n",
       "      <th>district</th>\n",
       "      <th>neigh_code</th>\n",
       "      <th>neigh</th>\n",
       "      <th>pop</th>\n",
       "      <th>wealth</th>\n",
       "      <th>norm_wealth</th>\n",
       "      <th>%pop</th>\n",
       "    </tr>\n",
       "  </thead>\n",
       "  <tbody>\n",
       "    <tr>\n",
       "      <td>0</td>\n",
       "      <td>Ciutat Vella</td>\n",
       "      <td>1</td>\n",
       "      <td>el Raval</td>\n",
       "      <td>47986</td>\n",
       "      <td>71.2</td>\n",
       "      <td>0.155</td>\n",
       "      <td>0.029527</td>\n",
       "    </tr>\n",
       "    <tr>\n",
       "      <td>1</td>\n",
       "      <td>Ciutat Vella</td>\n",
       "      <td>2</td>\n",
       "      <td>el Barri Gòtic</td>\n",
       "      <td>16240</td>\n",
       "      <td>106.1</td>\n",
       "      <td>0.321</td>\n",
       "      <td>0.009993</td>\n",
       "    </tr>\n",
       "    <tr>\n",
       "      <td>2</td>\n",
       "      <td>Ciutat Vella</td>\n",
       "      <td>3</td>\n",
       "      <td>la Barceloneta</td>\n",
       "      <td>15101</td>\n",
       "      <td>79.6</td>\n",
       "      <td>0.195</td>\n",
       "      <td>0.009292</td>\n",
       "    </tr>\n",
       "    <tr>\n",
       "      <td>3</td>\n",
       "      <td>Ciutat Vella</td>\n",
       "      <td>4</td>\n",
       "      <td>Sant Pere, Santa Caterina i la Ribera</td>\n",
       "      <td>22923</td>\n",
       "      <td>99.4</td>\n",
       "      <td>0.289</td>\n",
       "      <td>0.014105</td>\n",
       "    </tr>\n",
       "    <tr>\n",
       "      <td>4</td>\n",
       "      <td>Eixample</td>\n",
       "      <td>5</td>\n",
       "      <td>el Fort Pienc</td>\n",
       "      <td>32048</td>\n",
       "      <td>106.5</td>\n",
       "      <td>0.323</td>\n",
       "      <td>0.019720</td>\n",
       "    </tr>\n",
       "  </tbody>\n",
       "</table>\n",
       "</div>"
      ],
      "text/plain": [
       "       district  neigh_code                                  neigh    pop  \\\n",
       "0  Ciutat Vella           1                               el Raval  47986   \n",
       "1  Ciutat Vella           2                         el Barri Gòtic  16240   \n",
       "2  Ciutat Vella           3                         la Barceloneta  15101   \n",
       "3  Ciutat Vella           4  Sant Pere, Santa Caterina i la Ribera  22923   \n",
       "4      Eixample           5                          el Fort Pienc  32048   \n",
       "\n",
       "   wealth  norm_wealth      %pop  \n",
       "0    71.2        0.155  0.029527  \n",
       "1   106.1        0.321  0.009993  \n",
       "2    79.6        0.195  0.009292  \n",
       "3    99.4        0.289  0.014105  \n",
       "4   106.5        0.323  0.019720  "
      ]
     },
     "execution_count": 72,
     "metadata": {},
     "output_type": "execute_result"
    }
   ],
   "source": [
    "rfd.head()"
   ]
  },
  {
   "cell_type": "markdown",
   "metadata": {},
   "source": [
    "### Counting NA's"
   ]
  },
  {
   "cell_type": "code",
   "execution_count": 24,
   "metadata": {
    "ExecuteTime": {
     "end_time": "2020-03-28T19:40:00.786726Z",
     "start_time": "2020-03-28T19:40:00.782487Z"
    }
   },
   "outputs": [],
   "source": [
    "def df_total_na(df):\n",
    "    '''\n",
    "    Returns the percentage of total NULL values in the dataset\n",
    "    '''\n",
    "    total_obs = df.count().sum()\n",
    "    total_nas = df.isna().sum().sum()\n",
    "    nas_percentage = total_nas *100 / total_obs\n",
    "    \n",
    "    print(f'Our dataset has {round(nas_percentage, 2)}% missing values overall' )"
   ]
  },
  {
   "cell_type": "code",
   "execution_count": 73,
   "metadata": {
    "ExecuteTime": {
     "end_time": "2020-03-28T21:14:40.684996Z",
     "start_time": "2020-03-28T21:14:34.068924Z"
    }
   },
   "outputs": [
    {
     "name": "stdout",
     "output_type": "stream",
     "text": [
      "Our dataset has 0.01% missing values overall\n",
      "None\n",
      "Our dataset has 0.0% missing values overall\n",
      "None\n",
      "Our dataset has 0.0% missing values overall\n",
      "None\n"
     ]
    }
   ],
   "source": [
    "print(df_total_na(activity))\n",
    "print(df_total_na(info))\n",
    "print(df_total_na(neighbourhoods))"
   ]
  },
  {
   "cell_type": "code",
   "execution_count": 27,
   "metadata": {
    "ExecuteTime": {
     "end_time": "2020-03-28T19:40:14.849124Z",
     "start_time": "2020-03-28T19:40:14.844787Z"
    }
   },
   "outputs": [],
   "source": [
    "def column_nulls_percentage(df):\n",
    "    '''\n",
    "    Returns a series indicating percentage of NULLS per column\n",
    "    '''\n",
    "    # .mean() gets the NULL values and divides it by the total length of the column\n",
    "    \n",
    "    return df.isna().mean().round(4) * 100"
   ]
  },
  {
   "cell_type": "markdown",
   "metadata": {},
   "source": []
  },
  {
   "cell_type": "code",
   "execution_count": 28,
   "metadata": {
    "ExecuteTime": {
     "end_time": "2020-03-28T19:40:14.860921Z",
     "start_time": "2020-03-28T19:40:14.850556Z"
    }
   },
   "outputs": [
    {
     "data": {
      "text/html": [
       "<div>\n",
       "<style scoped>\n",
       "    .dataframe tbody tr th:only-of-type {\n",
       "        vertical-align: middle;\n",
       "    }\n",
       "\n",
       "    .dataframe tbody tr th {\n",
       "        vertical-align: top;\n",
       "    }\n",
       "\n",
       "    .dataframe thead th {\n",
       "        text-align: right;\n",
       "    }\n",
       "</style>\n",
       "<table border=\"1\" class=\"dataframe\">\n",
       "  <thead>\n",
       "    <tr style=\"text-align: right;\">\n",
       "      <th></th>\n",
       "      <th>station_id</th>\n",
       "      <th>name</th>\n",
       "      <th>lat</th>\n",
       "      <th>lon</th>\n",
       "      <th>altitude</th>\n",
       "    </tr>\n",
       "  </thead>\n",
       "  <tbody>\n",
       "    <tr>\n",
       "      <td>0</td>\n",
       "      <td>1</td>\n",
       "      <td>GRAN VIA CORTS CATALANES, 760</td>\n",
       "      <td>41.397952</td>\n",
       "      <td>2.180042</td>\n",
       "      <td>21.0</td>\n",
       "    </tr>\n",
       "    <tr>\n",
       "      <td>1</td>\n",
       "      <td>2</td>\n",
       "      <td>C/ ROGER DE FLOR, 126</td>\n",
       "      <td>41.395530</td>\n",
       "      <td>2.177060</td>\n",
       "      <td>21.0</td>\n",
       "    </tr>\n",
       "    <tr>\n",
       "      <td>2</td>\n",
       "      <td>3</td>\n",
       "      <td>C/ NÀPOLS, 82</td>\n",
       "      <td>41.394055</td>\n",
       "      <td>2.181299</td>\n",
       "      <td>22.0</td>\n",
       "    </tr>\n",
       "    <tr>\n",
       "      <td>3</td>\n",
       "      <td>4</td>\n",
       "      <td>C/ RIBES, 13</td>\n",
       "      <td>41.393480</td>\n",
       "      <td>2.181555</td>\n",
       "      <td>21.0</td>\n",
       "    </tr>\n",
       "    <tr>\n",
       "      <td>4</td>\n",
       "      <td>5</td>\n",
       "      <td>PG. LLUIS COMPANYS, 11 (ARC TRIOMF)</td>\n",
       "      <td>41.391075</td>\n",
       "      <td>2.180223</td>\n",
       "      <td>16.0</td>\n",
       "    </tr>\n",
       "    <tr>\n",
       "      <td>5</td>\n",
       "      <td>6</td>\n",
       "      <td>PG. LLUIS COMPANYS, 18  (ARC TRIOMF)</td>\n",
       "      <td>41.391349</td>\n",
       "      <td>2.180610</td>\n",
       "      <td>16.0</td>\n",
       "    </tr>\n",
       "    <tr>\n",
       "      <td>6</td>\n",
       "      <td>7</td>\n",
       "      <td>PG. PUJADES,  1 (JUTJATS)</td>\n",
       "      <td>41.388856</td>\n",
       "      <td>2.183251</td>\n",
       "      <td>16.0</td>\n",
       "    </tr>\n",
       "    <tr>\n",
       "      <td>7</td>\n",
       "      <td>8</td>\n",
       "      <td>PG. PUJADES, 2</td>\n",
       "      <td>41.389088</td>\n",
       "      <td>2.183568</td>\n",
       "      <td>11.0</td>\n",
       "    </tr>\n",
       "    <tr>\n",
       "      <td>8</td>\n",
       "      <td>9</td>\n",
       "      <td>AV. MARQUÉS DE L'ARGENTERA,13</td>\n",
       "      <td>41.384532</td>\n",
       "      <td>2.184921</td>\n",
       "      <td>11.0</td>\n",
       "    </tr>\n",
       "    <tr>\n",
       "      <td>9</td>\n",
       "      <td>11</td>\n",
       "      <td>PG. MARITIM, 11 (DAVANT PL. BRUGADA)</td>\n",
       "      <td>41.381689</td>\n",
       "      <td>2.193914</td>\n",
       "      <td>1.0</td>\n",
       "    </tr>\n",
       "  </tbody>\n",
       "</table>\n",
       "</div>"
      ],
      "text/plain": [
       "   station_id                                  name        lat       lon  \\\n",
       "0           1         GRAN VIA CORTS CATALANES, 760  41.397952  2.180042   \n",
       "1           2                 C/ ROGER DE FLOR, 126  41.395530  2.177060   \n",
       "2           3                         C/ NÀPOLS, 82  41.394055  2.181299   \n",
       "3           4                          C/ RIBES, 13  41.393480  2.181555   \n",
       "4           5   PG. LLUIS COMPANYS, 11 (ARC TRIOMF)  41.391075  2.180223   \n",
       "5           6  PG. LLUIS COMPANYS, 18  (ARC TRIOMF)  41.391349  2.180610   \n",
       "6           7             PG. PUJADES,  1 (JUTJATS)  41.388856  2.183251   \n",
       "7           8                        PG. PUJADES, 2  41.389088  2.183568   \n",
       "8           9         AV. MARQUÉS DE L'ARGENTERA,13  41.384532  2.184921   \n",
       "9          11  PG. MARITIM, 11 (DAVANT PL. BRUGADA)  41.381689  2.193914   \n",
       "\n",
       "   altitude  \n",
       "0      21.0  \n",
       "1      21.0  \n",
       "2      22.0  \n",
       "3      21.0  \n",
       "4      16.0  \n",
       "5      16.0  \n",
       "6      16.0  \n",
       "7      11.0  \n",
       "8      11.0  \n",
       "9       1.0  "
      ]
     },
     "execution_count": 28,
     "metadata": {},
     "output_type": "execute_result"
    }
   ],
   "source": [
    "info.head(10)"
   ]
  },
  {
   "cell_type": "code",
   "execution_count": null,
   "metadata": {
    "ExecuteTime": {
     "end_time": "2020-03-28T13:12:58.782395Z",
     "start_time": "2020-03-28T13:12:58.759236Z"
    }
   },
   "outputs": [],
   "source": []
  },
  {
   "cell_type": "code",
   "execution_count": 29,
   "metadata": {
    "ExecuteTime": {
     "end_time": "2020-03-28T19:40:15.163461Z",
     "start_time": "2020-03-28T19:40:14.862346Z"
    }
   },
   "outputs": [
    {
     "data": {
      "text/plain": [
       "'60, Carrer dels Jocs Florals, la Bordeta, Sants-Montjuïc, Barcelona, Barcelonès, Barcelona, Catalunya, 08014, España'"
      ]
     },
     "execution_count": 29,
     "metadata": {},
     "output_type": "execute_result"
    }
   ],
   "source": [
    "location = geolocator.geocode(\"Jocs florals 60, BARCELONA\")\n",
    "location.address"
   ]
  },
  {
   "cell_type": "code",
   "execution_count": 30,
   "metadata": {
    "ExecuteTime": {
     "end_time": "2020-03-28T19:40:15.169854Z",
     "start_time": "2020-03-28T19:40:15.165740Z"
    }
   },
   "outputs": [
    {
     "data": {
      "text/plain": [
       "Point(41.373469, 2.1347189696437336, 0.0)"
      ]
     },
     "execution_count": 30,
     "metadata": {},
     "output_type": "execute_result"
    }
   ],
   "source": [
    "location.point"
   ]
  },
  {
   "cell_type": "code",
   "execution_count": 31,
   "metadata": {
    "ExecuteTime": {
     "end_time": "2020-03-28T19:40:15.173915Z",
     "start_time": "2020-03-28T19:40:15.171570Z"
    }
   },
   "outputs": [],
   "source": [
    "user_loc = location.point"
   ]
  },
  {
   "cell_type": "code",
   "execution_count": 32,
   "metadata": {
    "ExecuteTime": {
     "end_time": "2020-03-28T19:40:15.182795Z",
     "start_time": "2020-03-28T19:40:15.175321Z"
    }
   },
   "outputs": [
    {
     "name": "stdout",
     "output_type": "stream",
     "text": [
      "279352.90160430095\n"
     ]
    }
   ],
   "source": [
    "\n",
    "coords_1 = (52.2296756, 21.0122287)\n",
    "coords_2 = (52.406374, 16.9251681)\n",
    "\n",
    "print(geopy.distance.distance(coords_1, coords_2).m)"
   ]
  },
  {
   "cell_type": "code",
   "execution_count": 33,
   "metadata": {
    "ExecuteTime": {
     "end_time": "2020-03-28T19:40:15.188128Z",
     "start_time": "2020-03-28T19:40:15.184239Z"
    }
   },
   "outputs": [],
   "source": [
    "def nearest_station(user_loc):\n",
    "    \n",
    "    location = geolocator.geocode(user_loc)\n",
    "    loc = [list(location.point[:2])]\n",
    "    dist = cdist(loc, info[['lat', 'lon']])\n",
    "    index = dist[0].argmin()\n",
    "    station_name = info.iloc[index].address\n",
    "    \n",
    "    return station_name\n",
    "    \n",
    "    "
   ]
  },
  {
   "cell_type": "code",
   "execution_count": 34,
   "metadata": {
    "ExecuteTime": {
     "end_time": "2020-03-28T19:40:15.194754Z",
     "start_time": "2020-03-28T19:40:15.189760Z"
    }
   },
   "outputs": [
    {
     "ename": "SyntaxError",
     "evalue": "invalid syntax (<ipython-input-34-455680ca2399>, line 1)",
     "output_type": "error",
     "traceback": [
      "\u001b[0;36m  File \u001b[0;32m\"<ipython-input-34-455680ca2399>\"\u001b[0;36m, line \u001b[0;32m1\u001b[0m\n\u001b[0;31m    def\u001b[0m\n\u001b[0m        ^\u001b[0m\n\u001b[0;31mSyntaxError\u001b[0m\u001b[0;31m:\u001b[0m invalid syntax\n"
     ]
    }
   ],
   "source": [
    "def "
   ]
  },
  {
   "cell_type": "code",
   "execution_count": null,
   "metadata": {
    "ExecuteTime": {
     "end_time": "2020-03-28T19:40:15.229499Z",
     "start_time": "2020-03-28T19:35:15.684Z"
    }
   },
   "outputs": [],
   "source": [
    "nearest_station('Roselló 355, Barcelona')"
   ]
  },
  {
   "cell_type": "code",
   "execution_count": null,
   "metadata": {
    "ExecuteTime": {
     "end_time": "2020-03-28T19:40:15.230544Z",
     "start_time": "2020-03-28T19:35:15.686Z"
    }
   },
   "outputs": [],
   "source": [
    "coor_data = info[['station_id', 'lat', 'lon']]"
   ]
  },
  {
   "cell_type": "code",
   "execution_count": null,
   "metadata": {
    "ExecuteTime": {
     "end_time": "2020-03-28T19:40:15.231405Z",
     "start_time": "2020-03-28T19:35:15.688Z"
    }
   },
   "outputs": [],
   "source": [
    "coor_data.head()"
   ]
  },
  {
   "cell_type": "code",
   "execution_count": null,
   "metadata": {
    "ExecuteTime": {
     "end_time": "2020-03-28T19:40:15.232536Z",
     "start_time": "2020-03-28T19:35:15.689Z"
    }
   },
   "outputs": [],
   "source": [
    "coor_data.set_index('station_id', inplace= True)"
   ]
  },
  {
   "cell_type": "code",
   "execution_count": null,
   "metadata": {},
   "outputs": [],
   "source": []
  },
  {
   "cell_type": "code",
   "execution_count": null,
   "metadata": {
    "ExecuteTime": {
     "end_time": "2020-03-28T19:40:15.233996Z",
     "start_time": "2020-03-28T19:35:15.692Z"
    }
   },
   "outputs": [],
   "source": [
    "user_loc = [list(location.point[:2])]\n",
    "user_loc"
   ]
  },
  {
   "cell_type": "code",
   "execution_count": null,
   "metadata": {
    "ExecuteTime": {
     "end_time": "2020-03-28T19:40:15.235544Z",
     "start_time": "2020-03-28T19:35:15.694Z"
    }
   },
   "outputs": [],
   "source": [
    "dist = cdist(user_loc, info[['lat', 'lon']])\n",
    "\n",
    "dist"
   ]
  },
  {
   "cell_type": "code",
   "execution_count": null,
   "metadata": {
    "ExecuteTime": {
     "end_time": "2020-03-28T19:40:15.236948Z",
     "start_time": "2020-03-28T19:35:15.695Z"
    }
   },
   "outputs": [],
   "source": [
    "dist[0].argmin()"
   ]
  },
  {
   "cell_type": "code",
   "execution_count": null,
   "metadata": {
    "ExecuteTime": {
     "end_time": "2020-03-28T19:40:15.237969Z",
     "start_time": "2020-03-28T19:35:15.697Z"
    }
   },
   "outputs": [],
   "source": [
    "info.iloc[178]"
   ]
  },
  {
   "cell_type": "code",
   "execution_count": null,
   "metadata": {},
   "outputs": [],
   "source": []
  },
  {
   "cell_type": "code",
   "execution_count": 59,
   "metadata": {
    "ExecuteTime": {
     "end_time": "2020-03-28T20:40:11.391558Z",
     "start_time": "2020-03-28T20:40:11.191458Z"
    }
   },
   "outputs": [
    {
     "data": {
      "text/html": [
       "<div>\n",
       "<style scoped>\n",
       "    .dataframe tbody tr th:only-of-type {\n",
       "        vertical-align: middle;\n",
       "    }\n",
       "\n",
       "    .dataframe tbody tr th {\n",
       "        vertical-align: top;\n",
       "    }\n",
       "\n",
       "    .dataframe thead th {\n",
       "        text-align: right;\n",
       "    }\n",
       "</style>\n",
       "<table border=\"1\" class=\"dataframe\">\n",
       "  <thead>\n",
       "    <tr style=\"text-align: right;\">\n",
       "      <th></th>\n",
       "      <th>ID_ANNEX</th>\n",
       "      <th>ANNEXDESCR</th>\n",
       "      <th>ID_TEMA</th>\n",
       "      <th>TEMA_DESCR</th>\n",
       "      <th>ID_CONJUNT</th>\n",
       "      <th>CONJ_DESCR</th>\n",
       "      <th>ID_SUBCONJ</th>\n",
       "      <th>SCONJ_DESC</th>\n",
       "      <th>ID_ELEMENT</th>\n",
       "      <th>ELEM_DESCR</th>\n",
       "      <th>...</th>\n",
       "      <th>ESTIL_ID</th>\n",
       "      <th>ESTIL_QGIS</th>\n",
       "      <th>VALOR1QGIS</th>\n",
       "      <th>VALOR2QGIS</th>\n",
       "      <th>COL_FARCIT</th>\n",
       "      <th>FCOL_DESCR</th>\n",
       "      <th>FHEX_COLOR</th>\n",
       "      <th>COL_DESCR</th>\n",
       "      <th>HEX_COLOR7</th>\n",
       "      <th>geometry</th>\n",
       "    </tr>\n",
       "  </thead>\n",
       "  <tbody>\n",
       "    <tr>\n",
       "      <td>0</td>\n",
       "      <td>01</td>\n",
       "      <td>Grup - I</td>\n",
       "      <td>0104</td>\n",
       "      <td>Unitats Administratives</td>\n",
       "      <td>010413</td>\n",
       "      <td>Barris</td>\n",
       "      <td>01041301</td>\n",
       "      <td>Barri</td>\n",
       "      <td>0104130101</td>\n",
       "      <td>Límit de barri</td>\n",
       "      <td>...</td>\n",
       "      <td>0</td>\n",
       "      <td>Sòlid</td>\n",
       "      <td>0</td>\n",
       "      <td>0</td>\n",
       "      <td>41</td>\n",
       "      <td>NULL</td>\n",
       "      <td>#E66900</td>\n",
       "      <td>NULL</td>\n",
       "      <td>#73A88F</td>\n",
       "      <td>POLYGON ((2.16471 41.38593, 2.16936 41.38554, ...</td>\n",
       "    </tr>\n",
       "    <tr>\n",
       "      <td>1</td>\n",
       "      <td>01</td>\n",
       "      <td>Grup - I</td>\n",
       "      <td>0104</td>\n",
       "      <td>Unitats Administratives</td>\n",
       "      <td>010413</td>\n",
       "      <td>Barris</td>\n",
       "      <td>01041301</td>\n",
       "      <td>Barri</td>\n",
       "      <td>0104130101</td>\n",
       "      <td>Límit de barri</td>\n",
       "      <td>...</td>\n",
       "      <td>0</td>\n",
       "      <td>Sòlid</td>\n",
       "      <td>0</td>\n",
       "      <td>0</td>\n",
       "      <td>41</td>\n",
       "      <td>NULL</td>\n",
       "      <td>#E66900</td>\n",
       "      <td>NULL</td>\n",
       "      <td>#73A88F</td>\n",
       "      <td>POLYGON ((2.17701 41.38525, 2.17873 41.38396, ...</td>\n",
       "    </tr>\n",
       "    <tr>\n",
       "      <td>2</td>\n",
       "      <td>01</td>\n",
       "      <td>Grup - I</td>\n",
       "      <td>0104</td>\n",
       "      <td>Unitats Administratives</td>\n",
       "      <td>010413</td>\n",
       "      <td>Barris</td>\n",
       "      <td>01041301</td>\n",
       "      <td>Barri</td>\n",
       "      <td>0104130101</td>\n",
       "      <td>Límit de barri</td>\n",
       "      <td>...</td>\n",
       "      <td>0</td>\n",
       "      <td>Sòlid</td>\n",
       "      <td>0</td>\n",
       "      <td>0</td>\n",
       "      <td>41</td>\n",
       "      <td>NULL</td>\n",
       "      <td>#E66900</td>\n",
       "      <td>NULL</td>\n",
       "      <td>#73A88F</td>\n",
       "      <td>POLYGON ((2.19623 41.38745, 2.19631 41.38745, ...</td>\n",
       "    </tr>\n",
       "    <tr>\n",
       "      <td>3</td>\n",
       "      <td>01</td>\n",
       "      <td>Grup - I</td>\n",
       "      <td>0104</td>\n",
       "      <td>Unitats Administratives</td>\n",
       "      <td>010413</td>\n",
       "      <td>Barris</td>\n",
       "      <td>01041301</td>\n",
       "      <td>Barri</td>\n",
       "      <td>0104130101</td>\n",
       "      <td>Límit de barri</td>\n",
       "      <td>...</td>\n",
       "      <td>0</td>\n",
       "      <td>Sòlid</td>\n",
       "      <td>0</td>\n",
       "      <td>0</td>\n",
       "      <td>41</td>\n",
       "      <td>NULL</td>\n",
       "      <td>#E66900</td>\n",
       "      <td>NULL</td>\n",
       "      <td>#73A88F</td>\n",
       "      <td>POLYGON ((2.18345 41.39061, 2.18459 41.38976, ...</td>\n",
       "    </tr>\n",
       "    <tr>\n",
       "      <td>4</td>\n",
       "      <td>01</td>\n",
       "      <td>Grup - I</td>\n",
       "      <td>0104</td>\n",
       "      <td>Unitats Administratives</td>\n",
       "      <td>010413</td>\n",
       "      <td>Barris</td>\n",
       "      <td>01041301</td>\n",
       "      <td>Barri</td>\n",
       "      <td>0104130101</td>\n",
       "      <td>Límit de barri</td>\n",
       "      <td>...</td>\n",
       "      <td>0</td>\n",
       "      <td>Sòlid</td>\n",
       "      <td>0</td>\n",
       "      <td>0</td>\n",
       "      <td>41</td>\n",
       "      <td>NULL</td>\n",
       "      <td>#E66900</td>\n",
       "      <td>NULL</td>\n",
       "      <td>#73A88F</td>\n",
       "      <td>POLYGON ((2.18353 41.39227, 2.18238 41.39142, ...</td>\n",
       "    </tr>\n",
       "  </tbody>\n",
       "</table>\n",
       "<p>5 rows × 47 columns</p>\n",
       "</div>"
      ],
      "text/plain": [
       "  ID_ANNEX ANNEXDESCR ID_TEMA               TEMA_DESCR ID_CONJUNT CONJ_DESCR  \\\n",
       "0       01   Grup - I    0104  Unitats Administratives     010413     Barris   \n",
       "1       01   Grup - I    0104  Unitats Administratives     010413     Barris   \n",
       "2       01   Grup - I    0104  Unitats Administratives     010413     Barris   \n",
       "3       01   Grup - I    0104  Unitats Administratives     010413     Barris   \n",
       "4       01   Grup - I    0104  Unitats Administratives     010413     Barris   \n",
       "\n",
       "  ID_SUBCONJ SCONJ_DESC  ID_ELEMENT      ELEM_DESCR  ... ESTIL_ID ESTIL_QGIS  \\\n",
       "0   01041301      Barri  0104130101  Límit de barri  ...        0      Sòlid   \n",
       "1   01041301      Barri  0104130101  Límit de barri  ...        0      Sòlid   \n",
       "2   01041301      Barri  0104130101  Límit de barri  ...        0      Sòlid   \n",
       "3   01041301      Barri  0104130101  Límit de barri  ...        0      Sòlid   \n",
       "4   01041301      Barri  0104130101  Límit de barri  ...        0      Sòlid   \n",
       "\n",
       "  VALOR1QGIS VALOR2QGIS COL_FARCIT FCOL_DESCR FHEX_COLOR COL_DESCR HEX_COLOR7  \\\n",
       "0          0          0         41       NULL    #E66900      NULL    #73A88F   \n",
       "1          0          0         41       NULL    #E66900      NULL    #73A88F   \n",
       "2          0          0         41       NULL    #E66900      NULL    #73A88F   \n",
       "3          0          0         41       NULL    #E66900      NULL    #73A88F   \n",
       "4          0          0         41       NULL    #E66900      NULL    #73A88F   \n",
       "\n",
       "                                            geometry  \n",
       "0  POLYGON ((2.16471 41.38593, 2.16936 41.38554, ...  \n",
       "1  POLYGON ((2.17701 41.38525, 2.17873 41.38396, ...  \n",
       "2  POLYGON ((2.19623 41.38745, 2.19631 41.38745, ...  \n",
       "3  POLYGON ((2.18345 41.39061, 2.18459 41.38976, ...  \n",
       "4  POLYGON ((2.18353 41.39227, 2.18238 41.39142, ...  \n",
       "\n",
       "[5 rows x 47 columns]"
      ]
     },
     "execution_count": 59,
     "metadata": {},
     "output_type": "execute_result"
    }
   ],
   "source": []
  },
  {
   "cell_type": "code",
   "execution_count": 60,
   "metadata": {
    "ExecuteTime": {
     "end_time": "2020-03-28T20:41:41.094159Z",
     "start_time": "2020-03-28T20:41:40.852817Z"
    }
   },
   "outputs": [
    {
     "data": {
      "text/plain": [
       "<matplotlib.axes._subplots.AxesSubplot at 0x1a2c039e50>"
      ]
     },
     "execution_count": 60,
     "metadata": {},
     "output_type": "execute_result"
    },
    {
     "data": {
      "image/png": "[encoded data removed]",
      "text/plain": [
       "<Figure size 720x720 with 1 Axes>"
      ]
     },
     "metadata": {
      "needs_background": "light"
     },
     "output_type": "display_data"
    }
   ],
   "source": [
    "# Cargar la capa temática\n",
    "bcn_map = \"Data/barris.geojson\"\n",
    "map_data = gpd.read_file(bcn_map)\n",
    "map_data.head()\n",
    "\n",
    "# Control del tamaño de la figura del mapa\n",
    "fig, ax = plt.subplots(figsize=(10, 10))\n",
    " \n",
    "# Control del título y los ejes\n",
    "ax.set_title('Barris', \n",
    "             pad = 20, \n",
    "             fontdict={'fontsize':20, 'color': '#4873ab'})\n",
    "ax.set_xlabel('Longitud')\n",
    "ax.set_ylabel('Latitud')\n",
    " \n",
    "# Mostrar el mapa finalizado\n",
    "map_data.plot(column='ID_ANNEX', cmap='plasma', ax=ax, zorder=5)"
   ]
  },
  {
   "cell_type": "code",
   "execution_count": null,
   "metadata": {},
   "outputs": [],
   "source": []
  },
  {
   "cell_type": "code",
   "execution_count": null,
   "metadata": {
    "ExecuteTime": {
     "end_time": "2020-03-28T19:40:15.239343Z",
     "start_time": "2020-03-28T19:35:15.703Z"
    }
   },
   "outputs": [],
   "source": [
    "ratings['timestamp'] = pd.to_datetime(ratings.timestamp, unit='s')"
   ]
  },
  {
   "cell_type": "markdown",
   "metadata": {},
   "source": [
    "La idea es hacer una funcion que le des un punto A, B, y una hora, y te diga lo siguiente:\n",
    "- Probabilidad de poder hacer el ride\n",
    "- Tiempo aproximado que vas a tardar\n",
    "- Desnivel de la estación origen a estación destino.\n"
   ]
  }
 ],
 "metadata": {
  "kernelspec": {
   "display_name": "Python 3",
   "language": "python",
   "name": "python3"
  },
  "language_info": {
   "codemirror_mode": {
    "name": "ipython",
    "version": 3
   },
   "file_extension": ".py",
   "mimetype": "text/x-python",
   "name": "python",
   "nbconvert_exporter": "python",
   "pygments_lexer": "ipython3",
   "version": "3.7.4"
  },
  "toc": {
   "base_numbering": 1,
   "nav_menu": {},
   "number_sections": true,
   "sideBar": true,
   "skip_h1_title": false,
   "title_cell": "Table of Contents",
   "title_sidebar": "Contents",
   "toc_cell": false,
   "toc_position": {},
   "toc_section_display": true,
   "toc_window_display": false
  },
  "varInspector": {
   "cols": {
    "lenName": 16,
    "lenType": 16,
    "lenVar": 40
   },
   "kernels_config": {
    "python": {
     "delete_cmd_postfix": "",
     "delete_cmd_prefix": "del ",
     "library": "var_list.py",
     "varRefreshCmd": "print(var_dic_list())"
    },
    "r": {
     "delete_cmd_postfix": ") ",
     "delete_cmd_prefix": "rm(",
     "library": "var_list.r",
     "varRefreshCmd": "cat(var_dic_list()) "
    }
   },
   "types_to_exclude": [
    "module",
    "function",
    "builtin_function_or_method",
    "instance",
    "_Feature"
   ],
   "window_display": false
  }
 },
 "nbformat": 4,
 "nbformat_minor": 2
}
